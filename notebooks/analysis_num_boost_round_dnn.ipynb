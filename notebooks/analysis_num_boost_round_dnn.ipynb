{
 "cells": [
  {
   "cell_type": "code",
   "execution_count": null,
   "metadata": {
    "collapsed": true,
    "scrolled": true
   },
   "outputs": [],
   "source": [
    "# http://127.0.0.1:8888/?token=d8645dfa36d67d3f2ca03610ce0c3c8e01cc36bd6dfab090\n",
    "import pandas as pd\n",
    "pd.set_option('display.max_rows', None)\n",
    "pd.set_option('display.max_columns', None)\n",
    "import matplotlib.pyplot as plt\n",
    "% matplotlib inline"
   ]
  },
  {
   "cell_type": "markdown",
   "metadata": {},
   "source": [
    "## lr = 0.002\n",
    "***"
   ]
  },
  {
   "cell_type": "code",
   "execution_count": null,
   "metadata": {
    "collapsed": true
   },
   "outputs": [],
   "source": [
    "idx = 1\n",
    "train_seed = 407\n",
    "cv_seed = 112\n",
    "unit_num_list = [[32, 16, 8], [64, 32, 16], [128, 64, 32], \n",
    "                 [128, 64, 32, 16],\n",
    "                 [256, 128, 64, 32], \n",
    "#                  [256, 128, 64, 32, 16], \n",
    "#                  [2048, 512],\n",
    "#                  [128, 64], \n",
    "                 [256, 128], \n",
    "#                  [256, 128, 64], [200, 100, 50]\n",
    "                 [256, 128, 64], \n",
    "#                  [200, 100, 50]\n",
    "                ]\n",
    "data = []\n",
    "for i in range(len(unit_num_list)):\n",
    "    data.append(pd.read_csv('./num_boost_rounds/dnn/dnn_unit_number_' + str(unit_num_list[i]) +\n",
    "                '/final_logs/dnn_unit_number_' + str(unit_num_list[i]) + '_' \n",
    "                + str(idx) + '_t'+ str(train_seed) + '_c' + str(cv_seed) + '_log.csv'))\n"
   ]
  },
  {
   "cell_type": "code",
   "execution_count": null,
   "metadata": {
    "scrolled": false
   },
   "outputs": [],
   "source": [
    "fig=plt.figure()\n",
    "ax=fig.add_subplot(1,1,1)\n",
    "color = ['r', 'b', 'g', 'y', 'k', 'm', 'gray']\n",
    "for i in range(len(unit_num_list)):\n",
    "    ax.plot(data[i]['valid_loss'], color=color[i], label=str(unit_num_list[i]))\n",
    "ax.legend(loc='best')\n",
    "fig.set_figheight(15)\n",
    "fig.set_figwidth(20)\n",
    "plt.show()"
   ]
  },
  {
   "cell_type": "code",
   "execution_count": null,
   "metadata": {
    "scrolled": false
   },
   "outputs": [],
   "source": [
    "fig=plt.figure()\n",
    "ax=fig.add_subplot(1,1,1)\n",
    "color = ['r', 'b', 'g', 'y', 'k', 'm', 'gray']\n",
    "for i in range(len(unit_num_list)):\n",
    "    ax.plot(data[i]['train_loss'], color=color[i], label=str(unit_num_list[i]))\n",
    "ax.legend(loc='best')\n",
    "fig.set_figheight(15)\n",
    "fig.set_figwidth(20)\n",
    "plt.show()"
   ]
  },
  {
   "cell_type": "code",
   "execution_count": null,
   "metadata": {},
   "outputs": [],
   "source": [
    "idx = 1\n",
    "train_seed = 65\n",
    "cv_seed = 241\n",
    "unit_num_list = [\n",
    "#                  [32, 16, 8], [64, 32, 16],\n",
    "#                  [128, 64, 32, 16], [128, 64, 32], [128, 64], \n",
    "#                  [2048, 512],\n",
    "                 [256, 128, 64, 32, 16], [256, 128, 64, 32], [256, 128, 64], [256, 128],\n",
    "                 [200, 100, 50]\n",
    "                ]\n",
    "data = []\n",
    "for i in range(len(unit_num_list)):\n",
    "    data.append(pd.read_csv('./num_boost_rounds/dnn/dnn_unit_number_' + str(unit_num_list[i]) +\n",
    "                '/final_logs/dnn_unit_number_' + str(unit_num_list[i]) + '_' \n",
    "                + str(idx) + '_t'+ str(train_seed) + '_c' + str(cv_seed) + '_log.csv'))\n",
    "\n",
    "fig=plt.figure()\n",
    "ax=fig.add_subplot(1,1,1)\n",
    "color = ['r', 'b', 'g', 'y', 'k', 'm', 'gray']\n",
    "for i in range(len(unit_num_list)):\n",
    "    ax.plot(data[i]['valid_loss'], color=color[i], label=str(unit_num_list[i]))\n",
    "ax.legend(loc='best')\n",
    "fig.set_figheight(15)\n",
    "fig.set_figwidth(20)\n",
    "plt.show()\n"
   ]
  },
  {
   "cell_type": "code",
   "execution_count": null,
   "metadata": {},
   "outputs": [],
   "source": [
    "idx = 1\n",
    "train_seed = 65\n",
    "cv_seed = 241\n",
    "unit_num_list = [\n",
    "                 [288, 144, 72], [288, 144, 72, 36],\n",
    "                 [256, 128, 64], [256, 128, 64, 32],\n",
    "                 [216, 108, 54], [216, 108, 54, 27]\n",
    "                ]\n",
    "data = []\n",
    "for i in range(len(unit_num_list)):\n",
    "    data.append(pd.read_csv('./num_boost_rounds/dnn/dnn_unit_number_' + str(unit_num_list[i]) +\n",
    "                '/final_logs/dnn_unit_number_' + str(unit_num_list[i]) + '_' \n",
    "                + str(idx) + '_t'+ str(train_seed) + '_c' + str(cv_seed) + '_log.csv'))\n",
    "\n",
    "fig=plt.figure()\n",
    "ax=fig.add_subplot(1,1,1)\n",
    "color = ['r', 'b', 'g', 'y', 'k', 'm', 'gray']\n",
    "for i in range(len(unit_num_list)):\n",
    "    ax.plot(data[i]['valid_loss'], color=color[i], label=str(unit_num_list[i]))\n",
    "ax.legend(loc='best')\n",
    "fig.set_figheight(15)\n",
    "fig.set_figwidth(20)\n",
    "plt.show()\n"
   ]
  },
  {
   "cell_type": "code",
   "execution_count": null,
   "metadata": {},
   "outputs": [],
   "source": [
    "idx = 1\n",
    "train_seed = 65\n",
    "cv_seed = 241\n",
    "unit_num_list = [\n",
    "                 [128, 256, 128, 64], [128, 256, 128], [256, 128, 64], [256, 128],\n",
    "                 [64, 128, 64, 32], [64, 128, 64], [128, 64]\n",
    "                ]\n",
    "data = []\n",
    "for i in range(len(unit_num_list)):\n",
    "    data.append(pd.read_csv('./num_boost_rounds/dnn/dnn_unit_number_' + str(unit_num_list[i]) +\n",
    "                '/final_logs/dnn_unit_number_' + str(unit_num_list[i]) + '_' \n",
    "                + str(idx) + '_t'+ str(train_seed) + '_c' + str(cv_seed) + '_log.csv'))\n",
    "\n",
    "fig=plt.figure()\n",
    "ax=fig.add_subplot(1,1,1)\n",
    "color = ['r', 'b', 'g', 'y', 'k', 'm', 'gray']\n",
    "for i in range(len(unit_num_list)):\n",
    "    ax.plot(data[i]['valid_loss'], color=color[i], label=str(unit_num_list[i]))\n",
    "ax.legend(loc='best')\n",
    "fig.set_figheight(15)\n",
    "fig.set_figwidth(20)\n",
    "plt.show()"
   ]
  },
  {
   "cell_type": "code",
   "execution_count": null,
   "metadata": {},
   "outputs": [],
   "source": [
    "idx = 1\n",
    "train_seed = 65\n",
    "cv_seed = 241\n",
    "kee_prob_list = [0.4, 0.5, 0.6, 0.7, 0.8, 0.9]\n",
    "data = []\n",
    "for i in range(len(kee_prob_list)):\n",
    "    data.append(pd.read_csv('./num_boost_rounds/dnn/dnn_keep_probability_' + str(kee_prob_list[i]) +\n",
    "                '/final_logs/dnn_keep_probability_' + str(kee_prob_list[i]) + '_' \n",
    "                + str(idx) + '_t'+ str(train_seed) + '_c' + str(cv_seed) + '_log.csv'))\n",
    "\n",
    "fig=plt.figure()\n",
    "ax=fig.add_subplot(1,1,1)\n",
    "color = ['r', 'b', 'g', 'y', 'k', 'm', 'gray']\n",
    "for i in range(len(kee_prob_list)):\n",
    "    ax.plot(data[i]['valid_loss'], color=color[i], label=str(kee_prob_list[i]))\n",
    "ax.legend(loc='best')\n",
    "fig.set_figheight(15)\n",
    "fig.set_figwidth(20)\n",
    "plt.xlim(0, 20)\n",
    "plt.show()"
   ]
  },
  {
   "cell_type": "code",
   "execution_count": null,
   "metadata": {},
   "outputs": [],
   "source": [
    "idx = 1\n",
    "train_seed = 65\n",
    "cv_seed = 241\n",
    "kee_prob_list = [0.4, 0.5, 0.6, 0.7, 0.8, 0.9]\n",
    "data = []\n",
    "for i in range(len(kee_prob_list)):\n",
    "    data.append(pd.read_csv('./num_boost_rounds/dnn/dnn_keep_probability_' + str(kee_prob_list[i]) +\n",
    "                '/final_logs/dnn_keep_probability_' + str(kee_prob_list[i]) + '_' \n",
    "                + str(idx) + '_t'+ str(train_seed) + '_c' + str(cv_seed) + '_log.csv'))\n",
    "\n",
    "fig=plt.figure()\n",
    "ax=fig.add_subplot(1,1,1)\n",
    "color = ['r', 'b', 'g', 'y', 'k', 'm', 'gray']\n",
    "for i in range(len(kee_prob_list)):\n",
    "    ax.plot(data[i]['train_loss'], color=color[i], label=str(kee_prob_list[i]))\n",
    "ax.legend(loc='best')\n",
    "fig.set_figheight(15)\n",
    "fig.set_figwidth(20)\n",
    "# plt.xlim(0, 20)\n",
    "plt.show()"
   ]
  },
  {
   "cell_type": "code",
   "execution_count": null,
   "metadata": {},
   "outputs": [],
   "source": [
    "idx = 1\n",
    "train_seed = 65\n",
    "cv_seed = 241\n",
    "learning_rate_list = [\n",
    "#     0.00001,\n",
    "    0.00001, 0.00003, 0.00004, 0.00005, 0.0001, 0.0003, 0.0005\n",
    "]\n",
    "data = []\n",
    "for i in range(len(learning_rate_list)):\n",
    "    data.append(pd.read_csv('./num_boost_rounds/dnn/dnn_learning_rate_' + str(learning_rate_list[i]) +\n",
    "                '/final_logs/dnn_learning_rate_' + str(learning_rate_list[i]) + '_' \n",
    "                + str(idx) + '_t'+ str(train_seed) + '_c' + str(cv_seed) + '_log.csv'))\n",
    "\n",
    "fig=plt.figure()\n",
    "ax=fig.add_subplot(1,1,1)\n",
    "color = ['r', 'b', 'g', 'y', 'k', 'm', 'gray']\n",
    "for i in range(len(learning_rate_list)):\n",
    "    ax.plot(data[i]['valid_loss'], color=color[i], label=str(learning_rate_list[i]))\n",
    "ax.legend(loc='best')\n",
    "fig.set_figheight(15)\n",
    "fig.set_figwidth(20)\n",
    "# plt.xlim(0, 20)\n",
    "plt.show()"
   ]
  },
  {
   "cell_type": "code",
   "execution_count": null,
   "metadata": {},
   "outputs": [],
   "source": [
    "idx = 1\n",
    "train_seed = 65\n",
    "cv_seed = 241\n",
    "data1 = pd.read_csv('./num_boost_rounds/dnn/dnn_learning_rate_2e-05/final_logs/dnn_learning_rate_2e-05_1_t65_c241_log.csv')\n",
    "data2 = pd.read_csv('./num_boost_rounds/dnn/dnn_learning_rate_2e-05/final_logs/dnn_learning_rate_2e-05_2_t666_c216_log.csv')\n",
    "fig=plt.figure()\n",
    "ax=fig.add_subplot(1,1,1)\n",
    "color = ['r', 'b', 'g', 'y', 'k', 'm', 'gray']\n",
    "ax.plot(data1['valid_loss'], color=color[0], label='t65_c241')\n",
    "ax.plot(data2['valid_loss'], color=color[1], label='t666_c216')\n",
    "ax.legend(loc='best')\n",
    "fig.set_figheight(15)\n",
    "fig.set_figwidth(20)\n",
    "# plt.xlim(0, 20)\n",
    "plt.show()"
   ]
  },
  {
   "cell_type": "code",
   "execution_count": null,
   "metadata": {
    "collapsed": true
   },
   "outputs": [],
   "source": []
  },
  {
   "cell_type": "code",
   "execution_count": null,
   "metadata": {
    "collapsed": true
   },
   "outputs": [],
   "source": []
  },
  {
   "cell_type": "code",
   "execution_count": null,
   "metadata": {
    "collapsed": true
   },
   "outputs": [],
   "source": []
  }
 ],
 "metadata": {
  "kernelspec": {
   "display_name": "Python 3",
   "language": "python",
   "name": "python3"
  },
  "language_info": {
   "codemirror_mode": {
    "name": "ipython",
    "version": 3
   },
   "file_extension": ".py",
   "mimetype": "text/x-python",
   "name": "python",
   "nbconvert_exporter": "python",
   "pygments_lexer": "ipython3",
   "version": "3.6.2"
  }
 },
 "nbformat": 4,
 "nbformat_minor": 1
}
