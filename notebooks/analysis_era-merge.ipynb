{
 "cells": [
  {
   "cell_type": "code",
   "execution_count": null,
   "metadata": {
    "collapsed": true,
    "scrolled": true
   },
   "outputs": [],
   "source": [
    "# http://127.0.0.1:8888/?token=d8645dfa36d67d3f2ca03610ce0c3c8e01cc36bd6dfab090\n",
    "import pandas as pd"
   ]
  },
  {
   "cell_type": "markdown",
   "metadata": {},
   "source": [
    "# 读取数据"
   ]
  },
  {
   "cell_type": "code",
   "execution_count": null,
   "metadata": {},
   "outputs": [],
   "source": [
    "train_data = pd.read_csv('C:/Users/54wy/Desktop/AI Challenger/Stock/Stock_Week10/inputs/stock_train_data_20171103.csv')\n",
    "print('Shape train_data: {}\\n'.format(train_data.shape))"
   ]
  },
  {
   "cell_type": "markdown",
   "metadata": {},
   "source": [
    "# 合并era"
   ]
  },
  {
   "cell_type": "code",
   "execution_count": null,
   "metadata": {
    "collapsed": true
   },
   "outputs": [],
   "source": [
    "X_train_era0 = train_data[train_data['era'].isin([0,1,2,3,4,5,6])]"
   ]
  },
  {
   "cell_type": "code",
   "execution_count": null,
   "metadata": {},
   "outputs": [],
   "source": [
    "print('Total instances in X_train_era0: {}\\n'.format(X_train_era0.shape[0]))\n",
    "print('label 1 ratio: {}\\n'.format(sum(X_train_era0['label']) / X_train_era0.shape[0]))\n",
    "print('label 0 ratio: {}\\n'.format(len(X_train_era0[X_train_era0['label'] == 0]) / X_train_era0.shape[0]))"
   ]
  },
  {
   "cell_type": "code",
   "execution_count": null,
   "metadata": {
    "collapsed": true
   },
   "outputs": [],
   "source": [
    "X_train_era1 = train_data[train_data['era'].isin([7,8,9,10,11,12,13])]"
   ]
  },
  {
   "cell_type": "code",
   "execution_count": null,
   "metadata": {},
   "outputs": [],
   "source": [
    "print('Total instances in X_train_era1: {}\\n'.format(X_train_era1.shape[0]))\n",
    "print('label 1 ratio: {}\\n'.format(sum(X_train_era1['label']) / X_train_era1.shape[0]))\n",
    "print('label 0 ratio: {}\\n'.format(len(X_train_era1[X_train_era1['label'] == 0]) / X_train_era1.shape[0]))"
   ]
  },
  {
   "cell_type": "code",
   "execution_count": null,
   "metadata": {
    "collapsed": true
   },
   "outputs": [],
   "source": [
    "X_train_era2 = train_data[train_data['era'].isin([14,15,16,17,18,19,20])]"
   ]
  },
  {
   "cell_type": "code",
   "execution_count": null,
   "metadata": {},
   "outputs": [],
   "source": [
    "print('Total instances in X_train_era2: {}\\n'.format(X_train_era2.shape[0]))\n",
    "print('label 1 ratio: {}\\n'.format(sum(X_train_era2['label']) / X_train_era2.shape[0]))\n",
    "print('label 0 ratio: {}\\n'.format(len(X_train_era2[X_train_era2['label'] == 0]) / X_train_era2.shape[0]))"
   ]
  },
  {
   "cell_type": "code",
   "execution_count": null,
   "metadata": {
    "collapsed": true
   },
   "outputs": [],
   "source": [
    "X_train_era3 = train_data[train_data['era'].isin([21,22,23,24,25,26,27])]"
   ]
  },
  {
   "cell_type": "code",
   "execution_count": null,
   "metadata": {},
   "outputs": [],
   "source": [
    "print('Total instances in X_train_era3: {}\\n'.format(X_train_era3.shape[0]))\n",
    "print('label 1 ratio: {}\\n'.format(sum(X_train_era3['label']) / X_train_era3.shape[0]))\n",
    "print('label 0 ratio: {}\\n'.format(len(X_train_era3[X_train_era3['label'] == 0]) / X_train_era3.shape[0]))"
   ]
  },
  {
   "cell_type": "code",
   "execution_count": null,
   "metadata": {
    "collapsed": true
   },
   "outputs": [],
   "source": [
    "X_train_era4 = train_data[train_data['era'].isin([28,29,30,31,32,33,34])]"
   ]
  },
  {
   "cell_type": "code",
   "execution_count": null,
   "metadata": {},
   "outputs": [],
   "source": [
    "print('Total instances in X_train_era4: {}\\n'.format(X_train_era4.shape[0]))\n",
    "print('label 1 ratio: {}\\n'.format(sum(X_train_era4['label']) / X_train_era4.shape[0]))\n",
    "print('label 0 ratio: {}\\n'.format(len(X_train_era4[X_train_era4['label'] == 0]) / X_train_era4.shape[0]))"
   ]
  },
  {
   "cell_type": "code",
   "execution_count": null,
   "metadata": {
    "collapsed": true
   },
   "outputs": [],
   "source": [
    "X_train_era5 = train_data[train_data['era'].isin([35,36,37,38,39,40,41])]"
   ]
  },
  {
   "cell_type": "code",
   "execution_count": null,
   "metadata": {},
   "outputs": [],
   "source": [
    "print('Total instances in X_train_era5: {}\\n'.format(X_train_era5.shape[0]))\n",
    "print('label 1 ratio: {}\\n'.format(sum(X_train_era5['label']) / X_train_era5.shape[0]))\n",
    "print('label 0 ratio: {}\\n'.format(len(X_train_era5[X_train_era5['label'] == 0]) / X_train_era5.shape[0]))"
   ]
  },
  {
   "cell_type": "code",
   "execution_count": null,
   "metadata": {
    "collapsed": true
   },
   "outputs": [],
   "source": [
    "X_train_era6 = train_data[train_data['era'].isin([42,43,44,45,46,47,48])]"
   ]
  },
  {
   "cell_type": "code",
   "execution_count": null,
   "metadata": {},
   "outputs": [],
   "source": [
    "print('Total instances in X_train_era6: {}\\n'.format(X_train_era6.shape[0]))\n",
    "print('label 1 ratio: {}\\n'.format(sum(X_train_era6['label']) / X_train_era6.shape[0]))\n",
    "print('label 0 ratio: {}\\n'.format(len(X_train_era6[X_train_era6['label'] == 0]) / X_train_era6.shape[0]))"
   ]
  },
  {
   "cell_type": "code",
   "execution_count": null,
   "metadata": {
    "collapsed": true
   },
   "outputs": [],
   "source": [
    "X_train_era7 = train_data[train_data['era'].isin([49,50,51,52,53,54,55])]"
   ]
  },
  {
   "cell_type": "code",
   "execution_count": null,
   "metadata": {},
   "outputs": [],
   "source": [
    "print('Total instances in X_train_era7: {}\\n'.format(X_train_era7.shape[0]))\n",
    "print('label 1 ratio: {}\\n'.format(sum(X_train_era7['label']) / X_train_era7.shape[0]))\n",
    "print('label 0 ratio: {}\\n'.format(len(X_train_era7[X_train_era7['label'] == 0]) / X_train_era7.shape[0]))"
   ]
  },
  {
   "cell_type": "code",
   "execution_count": null,
   "metadata": {
    "collapsed": true
   },
   "outputs": [],
   "source": [
    "X_train_era8 = train_data[train_data['era'].isin([56,57,58,59,60,61,62])]"
   ]
  },
  {
   "cell_type": "code",
   "execution_count": null,
   "metadata": {},
   "outputs": [],
   "source": [
    "print('Total instances in X_train_era8: {}\\n'.format(X_train_era8.shape[0]))\n",
    "print('label 1 ratio: {}\\n'.format(sum(X_train_era8['label']) / X_train_era8.shape[0]))\n",
    "print('label 0 ratio: {}\\n'.format(len(X_train_era8[X_train_era8['label'] == 0]) / X_train_era8.shape[0]))"
   ]
  },
  {
   "cell_type": "code",
   "execution_count": null,
   "metadata": {
    "collapsed": true
   },
   "outputs": [],
   "source": [
    "X_train_era9 = train_data[train_data['era'].isin([63,64,65,66,67,68,69])]"
   ]
  },
  {
   "cell_type": "code",
   "execution_count": null,
   "metadata": {},
   "outputs": [],
   "source": [
    "print('Total instances in X_train_era9: {}\\n'.format(X_train_era9.shape[0]))\n",
    "print('label 1 ratio: {}\\n'.format(sum(X_train_era9['label']) / X_train_era9.shape[0]))\n",
    "print('label 0 ratio: {}\\n'.format(len(X_train_era9[X_train_era9['label'] == 0]) / X_train_era9.shape[0]))"
   ]
  },
  {
   "cell_type": "code",
   "execution_count": null,
   "metadata": {
    "collapsed": true
   },
   "outputs": [],
   "source": [
    "X_train_era10 = train_data[train_data['era'].isin([70,71,72,73,74,75,76])]"
   ]
  },
  {
   "cell_type": "code",
   "execution_count": null,
   "metadata": {},
   "outputs": [],
   "source": [
    "print('Total instances in X_train_era10: {}\\n'.format(X_train_era10.shape[0]))\n",
    "print('label 1 ratio: {}\\n'.format(sum(X_train_era10['label']) / X_train_era10.shape[0]))\n",
    "print('label 0 ratio: {}\\n'.format(len(X_train_era10[X_train_era10['label'] == 0]) / X_train_era10.shape[0]))"
   ]
  },
  {
   "cell_type": "code",
   "execution_count": null,
   "metadata": {
    "collapsed": true
   },
   "outputs": [],
   "source": [
    "X_train_era11 = train_data[train_data['era'].isin([77,78,79,80,81,82,83])]"
   ]
  },
  {
   "cell_type": "code",
   "execution_count": null,
   "metadata": {},
   "outputs": [],
   "source": [
    "print('Total instances in X_train_era11: {}\\n'.format(X_train_era11.shape[0]))\n",
    "print('label 1 ratio: {}\\n'.format(sum(X_train_era11['label']) / X_train_era11.shape[0]))\n",
    "print('label 0 ratio: {}\\n'.format(len(X_train_era11[X_train_era11['label'] == 0]) / X_train_era11.shape[0]))"
   ]
  },
  {
   "cell_type": "code",
   "execution_count": null,
   "metadata": {
    "collapsed": true
   },
   "outputs": [],
   "source": [
    "X_train_era12 = train_data[train_data['era'].isin([84,85,86,87,88,89,90])]"
   ]
  },
  {
   "cell_type": "code",
   "execution_count": null,
   "metadata": {},
   "outputs": [],
   "source": [
    "print('Total instances in X_train_era12: {}\\n'.format(X_train_era12.shape[0]))\n",
    "print('label 1 ratio: {}\\n'.format(sum(X_train_era12['label']) / X_train_era12.shape[0]))\n",
    "print('label 0 ratio: {}\\n'.format(len(X_train_era12[X_train_era12['label'] == 0]) / X_train_era12.shape[0]))"
   ]
  },
  {
   "cell_type": "code",
   "execution_count": null,
   "metadata": {
    "collapsed": true
   },
   "outputs": [],
   "source": [
    "X_train_era13 = train_data[train_data['era'].isin([91,92,93,94,95,96,97])]"
   ]
  },
  {
   "cell_type": "code",
   "execution_count": null,
   "metadata": {},
   "outputs": [],
   "source": [
    "print('Total instances in X_train_era13: {}\\n'.format(X_train_era13.shape[0]))\n",
    "print('label 1 ratio: {}\\n'.format(sum(X_train_era13['label']) / X_train_era13.shape[0]))\n",
    "print('label 0 ratio: {}\\n'.format(len(X_train_era13[X_train_era13['label'] == 0]) / X_train_era13.shape[0]))"
   ]
  },
  {
   "cell_type": "code",
   "execution_count": null,
   "metadata": {
    "collapsed": true
   },
   "outputs": [],
   "source": [
    "X_train_era14 = train_data[train_data['era'].isin([98,99,100,101,102,103,104])]"
   ]
  },
  {
   "cell_type": "code",
   "execution_count": null,
   "metadata": {},
   "outputs": [],
   "source": [
    "print('Total instances in X_train_era14: {}\\n'.format(X_train_era14.shape[0]))\n",
    "print('label 1 ratio: {}\\n'.format(sum(X_train_era14['label']) / X_train_era14.shape[0]))\n",
    "print('label 0 ratio: {}\\n'.format(len(X_train_era14[X_train_era14['label'] == 0]) / X_train_era14.shape[0]))"
   ]
  },
  {
   "cell_type": "code",
   "execution_count": null,
   "metadata": {
    "collapsed": true
   },
   "outputs": [],
   "source": [
    "X_train_era15 = train_data[train_data['era'].isin([105,106,107,108,109,110])]"
   ]
  },
  {
   "cell_type": "code",
   "execution_count": null,
   "metadata": {},
   "outputs": [],
   "source": [
    "print('Total instances in X_train_era15: {}\\n'.format(X_train_era15.shape[0]))\n",
    "print('label 1 ratio: {}\\n'.format(sum(X_train_era15['label']) / X_train_era15.shape[0]))\n",
    "print('label 0 ratio: {}\\n'.format(len(X_train_era15[X_train_era15['label'] == 0]) / X_train_era15.shape[0]))"
   ]
  },
  {
   "cell_type": "code",
   "execution_count": null,
   "metadata": {
    "collapsed": true
   },
   "outputs": [],
   "source": [
    "X_train_era16 = train_data[train_data['era'].isin([111,112,113,114,115,116])]"
   ]
  },
  {
   "cell_type": "code",
   "execution_count": null,
   "metadata": {},
   "outputs": [],
   "source": [
    "print('Total instances in X_train_era16: {}\\n'.format(X_train_era16.shape[0]))\n",
    "print('label 1 ratio: {}\\n'.format(sum(X_train_era16['label']) / X_train_era16.shape[0]))\n",
    "print('label 0 ratio: {}\\n'.format(len(X_train_era16[X_train_era16['label'] == 0]) / X_train_era16.shape[0]))"
   ]
  },
  {
   "cell_type": "code",
   "execution_count": null,
   "metadata": {
    "collapsed": true
   },
   "outputs": [],
   "source": [
    "X_train_era17 = train_data[train_data['era'].isin([117,118,119,120,121,122])]"
   ]
  },
  {
   "cell_type": "code",
   "execution_count": null,
   "metadata": {},
   "outputs": [],
   "source": [
    "print('Total instances in X_train_era17: {}\\n'.format(X_train_era17.shape[0]))\n",
    "print('label 1 ratio: {}\\n'.format(sum(X_train_era17['label']) / X_train_era17.shape[0]))\n",
    "print('label 0 ratio: {}\\n'.format(len(X_train_era17[X_train_era17['label'] == 0]) / X_train_era17.shape[0]))"
   ]
  },
  {
   "cell_type": "code",
   "execution_count": null,
   "metadata": {
    "collapsed": true
   },
   "outputs": [],
   "source": [
    "X_train_era18 = train_data[train_data['era'].isin([123,124,125,126,127,128])]"
   ]
  },
  {
   "cell_type": "code",
   "execution_count": null,
   "metadata": {},
   "outputs": [],
   "source": [
    "print('Total instances in X_train_era18: {}\\n'.format(X_train_era18.shape[0]))\n",
    "print('label 1 ratio: {}\\n'.format(sum(X_train_era18['label']) / X_train_era18.shape[0]))\n",
    "print('label 0 ratio: {}\\n'.format(len(X_train_era18[X_train_era18['label'] == 0]) / X_train_era18.shape[0]))"
   ]
  },
  {
   "cell_type": "code",
   "execution_count": null,
   "metadata": {
    "collapsed": true
   },
   "outputs": [],
   "source": [
    "X_train_era19 = train_data[train_data['era'].isin([129,130,131,132,133,134])]"
   ]
  },
  {
   "cell_type": "code",
   "execution_count": null,
   "metadata": {},
   "outputs": [],
   "source": [
    "print('Total instances in X_train_era19: {}\\n'.format(X_train_era19.shape[0]))\n",
    "print('label 1 ratio: {}\\n'.format(sum(X_train_era19['label']) / X_train_era19.shape[0]))\n",
    "print('label 0 ratio: {}\\n'.format(len(X_train_era19[X_train_era19['label'] == 0]) / X_train_era19.shape[0]))"
   ]
  }
 ],
 "metadata": {
  "kernelspec": {
   "display_name": "Python 3",
   "language": "python",
   "name": "python3"
  },
  "language_info": {
   "codemirror_mode": {
    "name": "ipython",
    "version": 3
   },
   "file_extension": ".py",
   "mimetype": "text/x-python",
   "name": "python",
   "nbconvert_exporter": "python",
   "pygments_lexer": "ipython3",
   "version": "3.6.2"
  }
 },
 "nbformat": 4,
 "nbformat_minor": 1
}
