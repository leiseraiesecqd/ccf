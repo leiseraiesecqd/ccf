{
 "cells": [
  {
   "cell_type": "code",
   "execution_count": null,
   "metadata": {
    "collapsed": true,
    "scrolled": true
   },
   "outputs": [],
   "source": [
    "# http://127.0.0.1:8888/?token=d8645dfa36d67d3f2ca03610ce0c3c8e01cc36bd6dfab090\n",
    "import numpy as np\n",
    "import pandas as pd\n",
    "pd.set_option('display.max_rows', None)\n",
    "pd.set_option('display.max_columns', None)\n",
    "import matplotlib.pyplot as plt\n",
    "% matplotlib inline\n",
    "import seaborn as sns\n",
    "sns.set(style=\"whitegrid\", color_codes=True)\n",
    "sns.set(font_scale=1)\n",
    "color = sns.color_palette()"
   ]
  },
  {
   "cell_type": "markdown",
   "metadata": {},
   "source": [
    "## 读取数据\n",
    "***"
   ]
  },
  {
   "cell_type": "code",
   "execution_count": null,
   "metadata": {
    "collapsed": true
   },
   "outputs": [],
   "source": [
    "train_data = pd.read_csv('C:/Users/54wy/Desktop/AI Challenger/Stock/Stock_Week10/inputs/stock_train_data_20171103.csv')\n",
    "test_data = pd.read_csv('C:/Users/54wy/Desktop/AI Challenger/Stock/Stock_Week10/inputs/stock_test_data_20171103.csv')"
   ]
  },
  {
   "cell_type": "markdown",
   "metadata": {},
   "source": [
    "## 查看Feature分布\n",
    "***"
   ]
  },
  {
   "cell_type": "markdown",
   "metadata": {},
   "source": [
    "* feature0"
   ]
  },
  {
   "cell_type": "code",
   "execution_count": null,
   "metadata": {},
   "outputs": [],
   "source": [
    "plt.figure(figsize=(20, 10))\n",
    "plt.scatter(range(train_data.shape[0]), train_data['feature0'].values, color='m', linewidths=0.1, alpha=0.7)\n",
    "plt.title('Distribution of feature0 in train_data',fontsize=20)\n",
    "plt.show() "
   ]
  },
  {
   "cell_type": "code",
   "execution_count": null,
   "metadata": {},
   "outputs": [],
   "source": [
    "plt.figure(figsize=(20, 10))\n",
    "plt.scatter(range(test_data.shape[0]), test_data['feature0'].values, color='g', linewidths=0.1, alpha=0.7)\n",
    "plt.title('Distribution of feature0 in test_data',fontsize=20)\n",
    "plt.show() "
   ]
  },
  {
   "cell_type": "markdown",
   "metadata": {},
   "source": [
    "* feature1"
   ]
  },
  {
   "cell_type": "code",
   "execution_count": null,
   "metadata": {
    "scrolled": false
   },
   "outputs": [],
   "source": [
    "plt.figure(figsize=(20, 10))\n",
    "plt.scatter(range(train_data.shape[0]), train_data['feature1'].values, color='m', linewidths=0.1, alpha=0.7)\n",
    "plt.title('Distribution of feature1 in train_data',fontsize=20)\n",
    "plt.show()"
   ]
  },
  {
   "cell_type": "code",
   "execution_count": null,
   "metadata": {},
   "outputs": [],
   "source": [
    "plt.figure(figsize=(20, 10))\n",
    "plt.scatter(range(test_data.shape[0]), test_data['feature1'].values, color='g', linewidths=0.1, alpha=0.7)\n",
    "plt.title('Distribution of feature1 in test_data',fontsize=20)\n",
    "plt.show() "
   ]
  },
  {
   "cell_type": "markdown",
   "metadata": {},
   "source": [
    "* feature2"
   ]
  },
  {
   "cell_type": "code",
   "execution_count": null,
   "metadata": {},
   "outputs": [],
   "source": [
    "plt.figure(figsize=(20, 10))\n",
    "plt.scatter(range(train_data.shape[0]), train_data['feature2'].values, color='m', linewidths=0.1, alpha=0.7)\n",
    "plt.title('Distribution of feature2 in train_data',fontsize=20)\n",
    "plt.show()"
   ]
  },
  {
   "cell_type": "code",
   "execution_count": null,
   "metadata": {},
   "outputs": [],
   "source": [
    "plt.figure(figsize=(20, 10))\n",
    "plt.scatter(range(test_data.shape[0]), test_data['feature2'].values, color='g', linewidths=0.1, alpha=0.7)\n",
    "plt.title('Distribution of feature2 in test_data',fontsize=20)\n",
    "plt.show() "
   ]
  },
  {
   "cell_type": "markdown",
   "metadata": {},
   "source": [
    "* feature3"
   ]
  },
  {
   "cell_type": "code",
   "execution_count": null,
   "metadata": {
    "scrolled": false
   },
   "outputs": [],
   "source": [
    "plt.figure(figsize=(20, 10))\n",
    "plt.scatter(range(train_data.shape[0]), train_data['feature3'].values, color='m', linewidths=0.1, alpha=0.7)\n",
    "plt.title('Distribution of feature3 in train_data',fontsize=20)\n",
    "plt.show()"
   ]
  },
  {
   "cell_type": "code",
   "execution_count": null,
   "metadata": {},
   "outputs": [],
   "source": [
    "plt.figure(figsize=(20, 10))\n",
    "plt.scatter(range(test_data.shape[0]), test_data['feature3'].values, color='g', linewidths=0.1, alpha=0.7)\n",
    "plt.title('Distribution of feature3 in test_data',fontsize=20)\n",
    "plt.show() "
   ]
  },
  {
   "cell_type": "markdown",
   "metadata": {},
   "source": [
    "* feature4"
   ]
  },
  {
   "cell_type": "code",
   "execution_count": null,
   "metadata": {},
   "outputs": [],
   "source": [
    "plt.figure(figsize=(20, 10))\n",
    "plt.scatter(range(train_data.shape[0]), train_data['feature4'].values, color='m', linewidths=0.1, alpha=0.7)\n",
    "plt.title('Distribution of feature4 in train_data',fontsize=20)\n",
    "plt.show()"
   ]
  },
  {
   "cell_type": "code",
   "execution_count": null,
   "metadata": {},
   "outputs": [],
   "source": [
    "plt.figure(figsize=(20, 10))\n",
    "plt.scatter(range(test_data.shape[0]), test_data['feature4'].values, color='g', linewidths=0.1, alpha=0.7)\n",
    "plt.title('Distribution of feature4 in test_data',fontsize=20)\n",
    "plt.show() "
   ]
  },
  {
   "cell_type": "markdown",
   "metadata": {},
   "source": [
    "* feature5"
   ]
  },
  {
   "cell_type": "code",
   "execution_count": null,
   "metadata": {},
   "outputs": [],
   "source": [
    "plt.figure(figsize=(20, 10))\n",
    "plt.scatter(range(train_data.shape[0]), train_data['feature5'].values, color='m', linewidths=0.1, alpha=0.7)\n",
    "plt.title('Distribution of feature5 in train_data',fontsize=20)\n",
    "plt.show()"
   ]
  },
  {
   "cell_type": "code",
   "execution_count": null,
   "metadata": {},
   "outputs": [],
   "source": [
    "plt.figure(figsize=(20, 10))\n",
    "plt.scatter(range(test_data.shape[0]), test_data['feature5'].values, color='g', linewidths=0.1, alpha=0.7)\n",
    "plt.title('Distribution of feature5 in test_data',fontsize=20)\n",
    "plt.show() "
   ]
  },
  {
   "cell_type": "markdown",
   "metadata": {
    "collapsed": true
   },
   "source": [
    "* feature 6"
   ]
  },
  {
   "cell_type": "code",
   "execution_count": null,
   "metadata": {},
   "outputs": [],
   "source": [
    "plt.figure(figsize=(20, 10))\n",
    "plt.scatter(range(train_data.shape[0]), train_data['feature6'].values, color='m', linewidths=0.1, alpha=0.7)\n",
    "plt.title('Distribution of feature6 in train_data',fontsize=20)\n",
    "plt.show()"
   ]
  },
  {
   "cell_type": "code",
   "execution_count": null,
   "metadata": {},
   "outputs": [],
   "source": [
    "plt.figure(figsize=(20, 10))\n",
    "plt.scatter(range(test_data.shape[0]), test_data['feature6'].values, color='g', linewidths=0.1, alpha=0.7)\n",
    "plt.title('Distribution of feature6 in test_data',fontsize=20)\n",
    "plt.show() "
   ]
  },
  {
   "cell_type": "markdown",
   "metadata": {
    "collapsed": true
   },
   "source": [
    "* feature7"
   ]
  },
  {
   "cell_type": "code",
   "execution_count": null,
   "metadata": {},
   "outputs": [],
   "source": [
    "plt.figure(figsize=(20, 10))\n",
    "plt.scatter(range(train_data.shape[0]), train_data['feature7'].values, color='m', linewidths=0.1, alpha=0.7)\n",
    "plt.title('Distribution of feature7 in train_data',fontsize=20)\n",
    "plt.show()"
   ]
  },
  {
   "cell_type": "code",
   "execution_count": null,
   "metadata": {},
   "outputs": [],
   "source": [
    "plt.figure(figsize=(20, 10))\n",
    "plt.scatter(range(test_data.shape[0]), test_data['feature7'].values, color='g', linewidths=0.1, alpha=0.7)\n",
    "plt.title('Distribution of feature7 in test_data',fontsize=20)\n",
    "plt.show() "
   ]
  },
  {
   "cell_type": "markdown",
   "metadata": {
    "collapsed": true
   },
   "source": [
    "* feature8"
   ]
  },
  {
   "cell_type": "code",
   "execution_count": null,
   "metadata": {},
   "outputs": [],
   "source": [
    "plt.figure(figsize=(20, 10))\n",
    "plt.scatter(range(train_data.shape[0]), train_data['feature8'].values, color='m', linewidths=0.1, alpha=0.7)\n",
    "plt.title('Distribution of feature8 in train_data',fontsize=20)\n",
    "plt.show()"
   ]
  },
  {
   "cell_type": "code",
   "execution_count": null,
   "metadata": {},
   "outputs": [],
   "source": [
    "plt.figure(figsize=(20, 10))\n",
    "plt.scatter(range(test_data.shape[0]), test_data['feature8'].values, color='g', linewidths=0.1, alpha=0.7)\n",
    "plt.title('Distribution of feature8 in test_data',fontsize=20)\n",
    "plt.show() "
   ]
  },
  {
   "cell_type": "markdown",
   "metadata": {},
   "source": [
    "* feature9"
   ]
  },
  {
   "cell_type": "code",
   "execution_count": null,
   "metadata": {},
   "outputs": [],
   "source": [
    "plt.figure(figsize=(20, 10))\n",
    "plt.scatter(range(train_data.shape[0]), train_data['feature9'].values, color='m', linewidths=0.1, alpha=0.7)\n",
    "plt.title('Distribution of feature9 in train_data',fontsize=20)\n",
    "plt.show()"
   ]
  },
  {
   "cell_type": "code",
   "execution_count": null,
   "metadata": {},
   "outputs": [],
   "source": [
    "plt.figure(figsize=(20, 10))\n",
    "plt.scatter(range(test_data.shape[0]), test_data['feature9'].values, color='g', linewidths=0.1, alpha=0.7)\n",
    "plt.title('Distribution of feature9 in test_data',fontsize=20)\n",
    "plt.show() "
   ]
  },
  {
   "cell_type": "markdown",
   "metadata": {},
   "source": [
    "* feature10"
   ]
  },
  {
   "cell_type": "code",
   "execution_count": null,
   "metadata": {
    "scrolled": false
   },
   "outputs": [],
   "source": [
    "plt.figure(figsize=(20, 10))\n",
    "plt.scatter(range(train_data.shape[0]), train_data['feature10'].values, color='m', linewidths=0.1, alpha=0.7)\n",
    "plt.title('Distribution of feature10 in train_data',fontsize=20)\n",
    "plt.show()"
   ]
  },
  {
   "cell_type": "code",
   "execution_count": null,
   "metadata": {},
   "outputs": [],
   "source": [
    "plt.figure(figsize=(20, 10))\n",
    "plt.scatter(range(test_data.shape[0]), test_data['feature10'].values, color='g', linewidths=0.1, alpha=0.7)\n",
    "plt.title('Distribution of feature10 in test_data',fontsize=20)\n",
    "plt.show() "
   ]
  },
  {
   "cell_type": "markdown",
   "metadata": {},
   "source": [
    "* feature 11"
   ]
  },
  {
   "cell_type": "code",
   "execution_count": null,
   "metadata": {},
   "outputs": [],
   "source": [
    "plt.figure(figsize=(20, 10))\n",
    "plt.scatter(range(train_data.shape[0]), train_data['feature11'].values, color='m', linewidths=0.1, alpha=0.7)\n",
    "plt.title('Distribution of feature11 in train_data',fontsize=20)\n",
    "plt.show()"
   ]
  },
  {
   "cell_type": "code",
   "execution_count": null,
   "metadata": {},
   "outputs": [],
   "source": [
    "plt.figure(figsize=(20, 10))\n",
    "plt.scatter(range(test_data.shape[0]), test_data['feature11'].values, color='g', linewidths=0.1, alpha=0.7)\n",
    "plt.title('Distribution of feature11 in test_data',fontsize=20)\n",
    "plt.show() "
   ]
  },
  {
   "cell_type": "markdown",
   "metadata": {},
   "source": [
    "* feature12"
   ]
  },
  {
   "cell_type": "code",
   "execution_count": null,
   "metadata": {},
   "outputs": [],
   "source": [
    "plt.figure(figsize=(20, 10))\n",
    "plt.scatter(range(train_data.shape[0]), train_data['feature12'].values, color='m', linewidths=0.1, alpha=0.7)\n",
    "plt.title('Distribution of feature12 in train_data',fontsize=20)\n",
    "plt.show()"
   ]
  },
  {
   "cell_type": "code",
   "execution_count": null,
   "metadata": {},
   "outputs": [],
   "source": [
    "plt.figure(figsize=(20, 10))\n",
    "plt.scatter(range(test_data.shape[0]), test_data['feature12'].values, color='g', linewidths=0.1, alpha=0.7)\n",
    "plt.title('Distribution of feature12 in test_data',fontsize=20)\n",
    "plt.show() "
   ]
  },
  {
   "cell_type": "markdown",
   "metadata": {},
   "source": [
    "* feature13"
   ]
  },
  {
   "cell_type": "code",
   "execution_count": null,
   "metadata": {},
   "outputs": [],
   "source": [
    "plt.figure(figsize=(20, 10))\n",
    "plt.scatter(range(train_data.shape[0]), train_data['feature13'].values, color='m', linewidths=0.1, alpha=0.7)\n",
    "plt.title('Distribution of feature13 in train_data',fontsize=20)\n",
    "plt.show()"
   ]
  },
  {
   "cell_type": "code",
   "execution_count": null,
   "metadata": {},
   "outputs": [],
   "source": [
    "plt.figure(figsize=(20, 10))\n",
    "plt.scatter(range(test_data.shape[0]), test_data['feature13'].values, color='g', linewidths=0.1, alpha=0.7)\n",
    "plt.title('Distribution of feature13 in test_data',fontsize=20)\n",
    "plt.show() "
   ]
  },
  {
   "cell_type": "markdown",
   "metadata": {},
   "source": [
    "* feature14"
   ]
  },
  {
   "cell_type": "code",
   "execution_count": null,
   "metadata": {},
   "outputs": [],
   "source": [
    "plt.figure(figsize=(20, 10))\n",
    "plt.scatter(range(train_data.shape[0]), train_data['feature14'].values, color='m', linewidths=0.1, alpha=0.7)\n",
    "plt.title('Distribution of feature14 in train_data',fontsize=20)\n",
    "plt.show()"
   ]
  },
  {
   "cell_type": "code",
   "execution_count": null,
   "metadata": {},
   "outputs": [],
   "source": [
    "plt.figure(figsize=(20, 10))\n",
    "plt.scatter(range(test_data.shape[0]), test_data['feature14'].values, color='g', linewidths=0.1, alpha=0.7)\n",
    "plt.title('Distribution of feature14 in test_data',fontsize=20)\n",
    "plt.show() "
   ]
  },
  {
   "cell_type": "markdown",
   "metadata": {},
   "source": [
    "* feature15"
   ]
  },
  {
   "cell_type": "code",
   "execution_count": null,
   "metadata": {},
   "outputs": [],
   "source": [
    "plt.figure(figsize=(20, 10))\n",
    "plt.scatter(range(train_data.shape[0]), train_data['feature15'].values, color='m', linewidths=0.1, alpha=0.7)\n",
    "plt.title('Distribution of feature15 in train_data',fontsize=20)\n",
    "plt.show()"
   ]
  },
  {
   "cell_type": "code",
   "execution_count": null,
   "metadata": {},
   "outputs": [],
   "source": [
    "plt.figure(figsize=(20, 10))\n",
    "plt.scatter(range(test_data.shape[0]), test_data['feature15'].values, color='g', linewidths=0.1, alpha=0.7)\n",
    "plt.title('Distribution of feature15 in test_data',fontsize=20)\n",
    "plt.show() "
   ]
  },
  {
   "cell_type": "markdown",
   "metadata": {},
   "source": [
    "* feature16"
   ]
  },
  {
   "cell_type": "code",
   "execution_count": null,
   "metadata": {},
   "outputs": [],
   "source": [
    "plt.figure(figsize=(20, 10))\n",
    "plt.scatter(range(train_data.shape[0]), train_data['feature16'].values, color='m', linewidths=0.1, alpha=0.7)\n",
    "plt.title('Distribution of feature16 in train_data',fontsize=20)\n",
    "plt.show()"
   ]
  },
  {
   "cell_type": "code",
   "execution_count": null,
   "metadata": {},
   "outputs": [],
   "source": [
    "plt.figure(figsize=(20, 10))\n",
    "plt.scatter(range(test_data.shape[0]), test_data['feature16'].values, color='g', linewidths=0.1, alpha=0.7)\n",
    "plt.title('Distribution of feature16 in test_data',fontsize=20)\n",
    "plt.show() "
   ]
  },
  {
   "cell_type": "markdown",
   "metadata": {},
   "source": [
    "* feature17"
   ]
  },
  {
   "cell_type": "code",
   "execution_count": null,
   "metadata": {},
   "outputs": [],
   "source": [
    "plt.figure(figsize=(20, 10))\n",
    "plt.scatter(range(train_data.shape[0]), train_data['feature17'].values, color='m', linewidths=0.1, alpha=0.7)\n",
    "plt.title('Distribution of feature17 in train_data',fontsize=20)\n",
    "plt.show()"
   ]
  },
  {
   "cell_type": "code",
   "execution_count": null,
   "metadata": {},
   "outputs": [],
   "source": [
    "plt.figure(figsize=(20, 10))\n",
    "plt.scatter(range(test_data.shape[0]), test_data['feature17'].values, color='g', linewidths=0.1, alpha=0.7)\n",
    "plt.title('Distribution of feature17 in test_data',fontsize=20)\n",
    "plt.show() "
   ]
  },
  {
   "cell_type": "markdown",
   "metadata": {},
   "source": [
    "* feature18"
   ]
  },
  {
   "cell_type": "code",
   "execution_count": null,
   "metadata": {},
   "outputs": [],
   "source": [
    "plt.figure(figsize=(20, 10))\n",
    "plt.scatter(range(train_data.shape[0]), train_data['feature18'].values, color='m', linewidths=0.1, alpha=0.7)\n",
    "plt.title('Distribution of feature18 in train_data',fontsize=20)\n",
    "plt.show()"
   ]
  },
  {
   "cell_type": "code",
   "execution_count": null,
   "metadata": {},
   "outputs": [],
   "source": [
    "plt.figure(figsize=(20, 10))\n",
    "plt.scatter(range(test_data.shape[0]), test_data['feature18'].values, color='g', linewidths=0.1, alpha=0.7)\n",
    "plt.title('Distribution of feature18 in test_data',fontsize=20)\n",
    "plt.show() "
   ]
  },
  {
   "cell_type": "markdown",
   "metadata": {},
   "source": [
    "* feature19"
   ]
  },
  {
   "cell_type": "code",
   "execution_count": null,
   "metadata": {},
   "outputs": [],
   "source": [
    "plt.figure(figsize=(20, 10))\n",
    "plt.scatter(range(train_data.shape[0]), train_data['feature19'].values, color='m', linewidths=0.1, alpha=0.7)\n",
    "plt.title('Distribution of feature19 in train_data',fontsize=20)\n",
    "plt.show()"
   ]
  },
  {
   "cell_type": "code",
   "execution_count": null,
   "metadata": {},
   "outputs": [],
   "source": [
    "plt.figure(figsize=(20, 10))\n",
    "plt.scatter(range(test_data.shape[0]), test_data['feature19'].values, color='g', linewidths=0.1, alpha=0.7)\n",
    "plt.title('Distribution of feature19 in test_data',fontsize=20)\n",
    "plt.show() "
   ]
  },
  {
   "cell_type": "markdown",
   "metadata": {},
   "source": [
    "* feature20"
   ]
  },
  {
   "cell_type": "code",
   "execution_count": null,
   "metadata": {},
   "outputs": [],
   "source": [
    "plt.figure(figsize=(20, 10))\n",
    "plt.scatter(range(train_data.shape[0]), train_data['feature20'].values, color='m', linewidths=0.1, alpha=0.7)\n",
    "plt.title('Distribution of feature20 in train_data',fontsize=20)\n",
    "plt.show()"
   ]
  },
  {
   "cell_type": "code",
   "execution_count": null,
   "metadata": {},
   "outputs": [],
   "source": [
    "plt.figure(figsize=(20, 10))\n",
    "plt.scatter(range(test_data.shape[0]), test_data['feature20'].values, color='g', linewidths=0.1, alpha=0.7)\n",
    "plt.title('Distribution of feature20 in test_data',fontsize=20)\n",
    "plt.show() "
   ]
  },
  {
   "cell_type": "markdown",
   "metadata": {},
   "source": [
    "* feature21"
   ]
  },
  {
   "cell_type": "code",
   "execution_count": null,
   "metadata": {},
   "outputs": [],
   "source": [
    "plt.figure(figsize=(20, 10))\n",
    "plt.scatter(range(train_data.shape[0]), train_data['feature21'].values, color='m', linewidths=0.1, alpha=0.7)\n",
    "plt.title('Distribution of feature21 in train_data',fontsize=20)\n",
    "plt.show()"
   ]
  },
  {
   "cell_type": "code",
   "execution_count": null,
   "metadata": {},
   "outputs": [],
   "source": [
    "plt.figure(figsize=(20, 10))\n",
    "plt.scatter(range(test_data.shape[0]), test_data['feature21'].values, color='g', linewidths=0.1, alpha=0.7)\n",
    "plt.title('Distribution of feature21 in test_data',fontsize=20)\n",
    "plt.show() "
   ]
  },
  {
   "cell_type": "markdown",
   "metadata": {},
   "source": [
    "* feature22"
   ]
  },
  {
   "cell_type": "code",
   "execution_count": null,
   "metadata": {
    "scrolled": false
   },
   "outputs": [],
   "source": [
    "plt.figure(figsize=(20, 10))\n",
    "plt.scatter(range(train_data.shape[0]), train_data['feature22'].values, color='m', linewidths=0.1, alpha=0.7)\n",
    "plt.title('Distribution of feature22 in train_data',fontsize=20)\n",
    "plt.show()"
   ]
  },
  {
   "cell_type": "code",
   "execution_count": null,
   "metadata": {},
   "outputs": [],
   "source": [
    "plt.figure(figsize=(20, 10))\n",
    "plt.scatter(range(test_data.shape[0]), test_data['feature22'].values, color='g', linewidths=0.1, alpha=0.7)\n",
    "plt.title('Distribution of feature22 in test_data',fontsize=20)\n",
    "plt.show() "
   ]
  },
  {
   "cell_type": "markdown",
   "metadata": {},
   "source": [
    "* feature23"
   ]
  },
  {
   "cell_type": "code",
   "execution_count": null,
   "metadata": {},
   "outputs": [],
   "source": [
    "plt.figure(figsize=(20, 10))\n",
    "plt.scatter(range(train_data.shape[0]), train_data['feature23'].values, color='m', linewidths=0.1, alpha=0.7)\n",
    "plt.title('Distribution of feature23 in train_data',fontsize=20)\n",
    "plt.show()"
   ]
  },
  {
   "cell_type": "code",
   "execution_count": null,
   "metadata": {},
   "outputs": [],
   "source": [
    "plt.figure(figsize=(20, 10))\n",
    "plt.scatter(range(test_data.shape[0]), test_data['feature23'].values, color='g', linewidths=0.1, alpha=0.7)\n",
    "plt.title('Distribution of feature23 in test_data',fontsize=20)\n",
    "plt.show() "
   ]
  },
  {
   "cell_type": "markdown",
   "metadata": {},
   "source": [
    "* feature24"
   ]
  },
  {
   "cell_type": "code",
   "execution_count": null,
   "metadata": {},
   "outputs": [],
   "source": [
    "plt.figure(figsize=(20, 10))\n",
    "plt.scatter(range(train_data.shape[0]), train_data['feature24'].values, color='m', linewidths=0.1, alpha=0.7)\n",
    "plt.title('Distribution of feature24 in train_data',fontsize=20)\n",
    "plt.show()"
   ]
  },
  {
   "cell_type": "code",
   "execution_count": null,
   "metadata": {},
   "outputs": [],
   "source": [
    "plt.figure(figsize=(20, 10))\n",
    "plt.scatter(range(test_data.shape[0]), test_data['feature24'].values, color='g', linewidths=0.1, alpha=0.7)\n",
    "plt.title('Distribution of feature24 in test_data',fontsize=20)\n",
    "plt.show() "
   ]
  },
  {
   "cell_type": "markdown",
   "metadata": {},
   "source": [
    "* feature25"
   ]
  },
  {
   "cell_type": "code",
   "execution_count": null,
   "metadata": {},
   "outputs": [],
   "source": [
    "plt.figure(figsize=(20, 10))\n",
    "plt.scatter(range(train_data.shape[0]), train_data['feature25'].values, color='m', linewidths=0.1, alpha=0.7)\n",
    "plt.title('Distribution of feature25 in train_data',fontsize=20)\n",
    "plt.show()"
   ]
  },
  {
   "cell_type": "code",
   "execution_count": null,
   "metadata": {},
   "outputs": [],
   "source": [
    "plt.figure(figsize=(20, 10))\n",
    "plt.scatter(range(test_data.shape[0]), test_data['feature25'].values, color='g', linewidths=0.1, alpha=0.7)\n",
    "plt.title('Distribution of feature25 in test_data',fontsize=20)\n",
    "plt.show() "
   ]
  },
  {
   "cell_type": "markdown",
   "metadata": {},
   "source": [
    "* feature26"
   ]
  },
  {
   "cell_type": "code",
   "execution_count": null,
   "metadata": {},
   "outputs": [],
   "source": [
    "plt.figure(figsize=(20, 10))\n",
    "plt.scatter(range(train_data.shape[0]), train_data['feature26'].values, color='m', linewidths=0.1, alpha=0.7)\n",
    "plt.title('Distribution of feature26 in train_data',fontsize=20)\n",
    "plt.show()"
   ]
  },
  {
   "cell_type": "code",
   "execution_count": null,
   "metadata": {},
   "outputs": [],
   "source": [
    "plt.figure(figsize=(20, 10))\n",
    "plt.scatter(range(test_data.shape[0]), test_data['feature26'].values, color='g', linewidths=0.1, alpha=0.7)\n",
    "plt.title('Distribution of feature26 in test_data',fontsize=20)\n",
    "plt.show() "
   ]
  },
  {
   "cell_type": "markdown",
   "metadata": {},
   "source": [
    "* feature27"
   ]
  },
  {
   "cell_type": "code",
   "execution_count": null,
   "metadata": {},
   "outputs": [],
   "source": [
    "plt.figure(figsize=(20, 10))\n",
    "plt.scatter(range(train_data.shape[0]), train_data['feature27'].values, color='m', linewidths=0.1, alpha=0.7)\n",
    "plt.title('Distribution of feature27 in train_data',fontsize=20)\n",
    "plt.show()"
   ]
  },
  {
   "cell_type": "code",
   "execution_count": null,
   "metadata": {},
   "outputs": [],
   "source": [
    "plt.figure(figsize=(20, 10))\n",
    "plt.scatter(range(test_data.shape[0]), test_data['feature27'].values, color='g', linewidths=0.1, alpha=0.7)\n",
    "plt.title('Distribution of feature27 in test_data',fontsize=20)\n",
    "plt.show() "
   ]
  },
  {
   "cell_type": "markdown",
   "metadata": {},
   "source": [
    "* feature28"
   ]
  },
  {
   "cell_type": "code",
   "execution_count": null,
   "metadata": {},
   "outputs": [],
   "source": [
    "plt.figure(figsize=(20, 10))\n",
    "plt.scatter(range(train_data.shape[0]), train_data['feature28'].values, color='m', linewidths=0.1, alpha=0.7)\n",
    "plt.title('Distribution of feature28 in train_data',fontsize=20)\n",
    "plt.show()"
   ]
  },
  {
   "cell_type": "code",
   "execution_count": null,
   "metadata": {},
   "outputs": [],
   "source": [
    "plt.figure(figsize=(20, 10))\n",
    "plt.scatter(range(test_data.shape[0]), test_data['feature28'].values, color='g', linewidths=0.1, alpha=0.7)\n",
    "plt.title('Distribution of feature28 in test_data',fontsize=20)\n",
    "plt.show() "
   ]
  },
  {
   "cell_type": "markdown",
   "metadata": {},
   "source": [
    "* feature29"
   ]
  },
  {
   "cell_type": "code",
   "execution_count": null,
   "metadata": {},
   "outputs": [],
   "source": [
    "plt.figure(figsize=(20, 10))\n",
    "plt.scatter(range(train_data.shape[0]), train_data['feature29'].values, color='m', linewidths=0.1, alpha=0.7)\n",
    "plt.title('Distribution of feature29 in train_data',fontsize=20)\n",
    "plt.show()"
   ]
  },
  {
   "cell_type": "code",
   "execution_count": null,
   "metadata": {},
   "outputs": [],
   "source": [
    "plt.figure(figsize=(20, 10))\n",
    "plt.scatter(range(test_data.shape[0]), test_data['feature29'].values, color='g', linewidths=0.1, alpha=0.7)\n",
    "plt.title('Distribution of feature29 in test_data',fontsize=20)\n",
    "plt.show() "
   ]
  },
  {
   "cell_type": "markdown",
   "metadata": {},
   "source": [
    "* feature30"
   ]
  },
  {
   "cell_type": "code",
   "execution_count": null,
   "metadata": {},
   "outputs": [],
   "source": [
    "plt.figure(figsize=(20, 10))\n",
    "plt.scatter(range(train_data.shape[0]), train_data['feature30'].values, color='m', linewidths=0.1, alpha=0.7)\n",
    "plt.title('Distribution of feature30 in train_data',fontsize=20)\n",
    "plt.show()"
   ]
  },
  {
   "cell_type": "code",
   "execution_count": null,
   "metadata": {},
   "outputs": [],
   "source": [
    "plt.figure(figsize=(20, 10))\n",
    "plt.scatter(range(test_data.shape[0]), test_data['feature30'].values, color='g', linewidths=0.1, alpha=0.7)\n",
    "plt.title('Distribution of feature30 in test_data',fontsize=20)\n",
    "plt.show() "
   ]
  },
  {
   "cell_type": "markdown",
   "metadata": {},
   "source": [
    "* feature31"
   ]
  },
  {
   "cell_type": "code",
   "execution_count": null,
   "metadata": {},
   "outputs": [],
   "source": [
    "plt.figure(figsize=(20, 10))\n",
    "plt.scatter(range(train_data.shape[0]), train_data['feature31'].values, color='m', linewidths=0.1, alpha=0.7)\n",
    "plt.title('Distribution of feature31 in train_data',fontsize=20)\n",
    "plt.show()"
   ]
  },
  {
   "cell_type": "code",
   "execution_count": null,
   "metadata": {},
   "outputs": [],
   "source": [
    "plt.figure(figsize=(20, 10))\n",
    "plt.scatter(range(test_data.shape[0]), test_data['feature31'].values, color='g', linewidths=0.1, alpha=0.7)\n",
    "plt.title('Distribution of feature31 in test_data',fontsize=20)\n",
    "plt.show() "
   ]
  },
  {
   "cell_type": "markdown",
   "metadata": {},
   "source": [
    "* feature32"
   ]
  },
  {
   "cell_type": "code",
   "execution_count": null,
   "metadata": {},
   "outputs": [],
   "source": [
    "plt.figure(figsize=(20, 10))\n",
    "plt.scatter(range(train_data.shape[0]), train_data['feature32'].values, color='m', linewidths=0.1, alpha=0.7)\n",
    "plt.title('Distribution of feature32 in train_data',fontsize=20)\n",
    "plt.show()"
   ]
  },
  {
   "cell_type": "code",
   "execution_count": null,
   "metadata": {},
   "outputs": [],
   "source": [
    "plt.figure(figsize=(20, 10))\n",
    "plt.scatter(range(test_data.shape[0]), test_data['feature32'].values, color='g', linewidths=0.1, alpha=0.7)\n",
    "plt.title('Distribution of feature32 in test_data',fontsize=20)\n",
    "plt.show() "
   ]
  },
  {
   "cell_type": "markdown",
   "metadata": {},
   "source": [
    "* feature33"
   ]
  },
  {
   "cell_type": "code",
   "execution_count": null,
   "metadata": {},
   "outputs": [],
   "source": [
    "plt.figure(figsize=(20, 10))\n",
    "plt.scatter(range(train_data.shape[0]), train_data['feature33'].values, color='m', linewidths=0.1, alpha=0.7)\n",
    "plt.title('Distribution of feature33 in train_data',fontsize=20)\n",
    "plt.show()"
   ]
  },
  {
   "cell_type": "code",
   "execution_count": null,
   "metadata": {},
   "outputs": [],
   "source": [
    "plt.figure(figsize=(20, 10))\n",
    "plt.scatter(range(test_data.shape[0]), test_data['feature33'].values, color='g', linewidths=0.1, alpha=0.7)\n",
    "plt.title('Distribution of feature33 in test_data',fontsize=20)\n",
    "plt.show() "
   ]
  },
  {
   "cell_type": "markdown",
   "metadata": {},
   "source": [
    "* feature34"
   ]
  },
  {
   "cell_type": "code",
   "execution_count": null,
   "metadata": {},
   "outputs": [],
   "source": [
    "plt.figure(figsize=(20, 10))\n",
    "plt.scatter(range(train_data.shape[0]), train_data['feature34'].values, color='m', linewidths=0.1, alpha=0.7)\n",
    "plt.title('Distribution of feature34 in train_data',fontsize=20)\n",
    "plt.show()"
   ]
  },
  {
   "cell_type": "code",
   "execution_count": null,
   "metadata": {},
   "outputs": [],
   "source": [
    "plt.figure(figsize=(20, 10))\n",
    "plt.scatter(range(test_data.shape[0]), test_data['feature34'].values, color='g', linewidths=0.1, alpha=0.7)\n",
    "plt.title('Distribution of feature34 in test_data',fontsize=20)\n",
    "plt.show() "
   ]
  },
  {
   "cell_type": "markdown",
   "metadata": {},
   "source": [
    "* feature35"
   ]
  },
  {
   "cell_type": "code",
   "execution_count": null,
   "metadata": {
    "scrolled": false
   },
   "outputs": [],
   "source": [
    "plt.figure(figsize=(20, 10))\n",
    "plt.scatter(range(train_data.shape[0]), train_data['feature35'].values, color='m', linewidths=0.1, alpha=0.7)\n",
    "plt.title('Distribution of feature35 in train_data',fontsize=20)\n",
    "plt.show()"
   ]
  },
  {
   "cell_type": "code",
   "execution_count": null,
   "metadata": {},
   "outputs": [],
   "source": [
    "plt.figure(figsize=(20, 10))\n",
    "plt.scatter(range(test_data.shape[0]), test_data['feature35'].values, color='g', linewidths=0.1, alpha=0.7)\n",
    "plt.title('Distribution of feature35 in test_data',fontsize=20)\n",
    "plt.show() "
   ]
  },
  {
   "cell_type": "markdown",
   "metadata": {},
   "source": [
    "* feature36"
   ]
  },
  {
   "cell_type": "code",
   "execution_count": null,
   "metadata": {},
   "outputs": [],
   "source": [
    "plt.figure(figsize=(20, 10))\n",
    "plt.scatter(range(train_data.shape[0]), train_data['feature36'].values, color='m', linewidths=0.1, alpha=0.7)\n",
    "plt.title('Distribution of feature36 in train_data',fontsize=20)\n",
    "plt.show()"
   ]
  },
  {
   "cell_type": "code",
   "execution_count": null,
   "metadata": {},
   "outputs": [],
   "source": [
    "plt.figure(figsize=(20, 10))\n",
    "plt.scatter(range(test_data.shape[0]), test_data['feature36'].values, color='g', linewidths=0.1, alpha=0.7)\n",
    "plt.title('Distribution of feature36 in test_data',fontsize=20)\n",
    "plt.show() "
   ]
  },
  {
   "cell_type": "markdown",
   "metadata": {},
   "source": [
    "* feature37"
   ]
  },
  {
   "cell_type": "code",
   "execution_count": null,
   "metadata": {},
   "outputs": [],
   "source": [
    "plt.figure(figsize=(20, 10))\n",
    "plt.scatter(range(train_data.shape[0]), train_data['feature37'].values, color='m', linewidths=0.1, alpha=0.7)\n",
    "plt.title('Distribution of feature37 in train_data',fontsize=20)\n",
    "plt.show()"
   ]
  },
  {
   "cell_type": "code",
   "execution_count": null,
   "metadata": {},
   "outputs": [],
   "source": [
    "plt.figure(figsize=(20, 10))\n",
    "plt.scatter(range(test_data.shape[0]), test_data['feature37'].values, color='g', linewidths=0.1, alpha=0.7)\n",
    "plt.title('Distribution of feature37 in test_data',fontsize=20)\n",
    "plt.show() "
   ]
  },
  {
   "cell_type": "markdown",
   "metadata": {},
   "source": [
    "* feature38"
   ]
  },
  {
   "cell_type": "code",
   "execution_count": null,
   "metadata": {},
   "outputs": [],
   "source": [
    "plt.figure(figsize=(20, 10))\n",
    "plt.scatter(range(train_data.shape[0]), train_data['feature38'].values, color='m', linewidths=0.1, alpha=0.7)\n",
    "plt.title('Distribution of feature38 in train_data',fontsize=20)\n",
    "plt.show()"
   ]
  },
  {
   "cell_type": "code",
   "execution_count": null,
   "metadata": {},
   "outputs": [],
   "source": [
    "plt.figure(figsize=(20, 10))\n",
    "plt.scatter(range(test_data.shape[0]), test_data['feature38'].values, color='g', linewidths=0.1, alpha=0.7)\n",
    "plt.title('Distribution of feature38 in test_data',fontsize=20)\n",
    "plt.show() "
   ]
  },
  {
   "cell_type": "markdown",
   "metadata": {},
   "source": [
    "* feature39"
   ]
  },
  {
   "cell_type": "code",
   "execution_count": null,
   "metadata": {},
   "outputs": [],
   "source": [
    "plt.figure(figsize=(20, 10))\n",
    "plt.scatter(range(train_data.shape[0]), train_data['feature39'].values, color='m', linewidths=0.1, alpha=0.7)\n",
    "plt.title('Distribution of feature39 in train_data',fontsize=20)\n",
    "plt.show()"
   ]
  },
  {
   "cell_type": "code",
   "execution_count": null,
   "metadata": {},
   "outputs": [],
   "source": [
    "plt.figure(figsize=(20, 10))\n",
    "plt.scatter(range(test_data.shape[0]), test_data['feature39'].values, color='g', linewidths=0.1, alpha=0.7)\n",
    "plt.title('Distribution of feature39 in test_data',fontsize=20)\n",
    "plt.show() "
   ]
  },
  {
   "cell_type": "markdown",
   "metadata": {},
   "source": [
    "* feature40"
   ]
  },
  {
   "cell_type": "code",
   "execution_count": null,
   "metadata": {},
   "outputs": [],
   "source": [
    "plt.figure(figsize=(20, 10))\n",
    "plt.scatter(range(train_data.shape[0]), train_data['feature40'].values, color='m', linewidths=0.1, alpha=0.7)\n",
    "plt.title('Distribution of feature40 in train_data',fontsize=20)\n",
    "plt.show()"
   ]
  },
  {
   "cell_type": "code",
   "execution_count": null,
   "metadata": {},
   "outputs": [],
   "source": [
    "plt.figure(figsize=(20, 10))\n",
    "plt.scatter(range(test_data.shape[0]), test_data['feature40'].values, color='g', linewidths=0.1, alpha=0.7)\n",
    "plt.title('Distribution of feature40 in test_data',fontsize=20)\n",
    "plt.show() "
   ]
  },
  {
   "cell_type": "markdown",
   "metadata": {},
   "source": [
    "* feature41"
   ]
  },
  {
   "cell_type": "code",
   "execution_count": null,
   "metadata": {},
   "outputs": [],
   "source": [
    "plt.figure(figsize=(20, 10))\n",
    "plt.scatter(range(train_data.shape[0]), train_data['feature41'].values, color='m', linewidths=0.1, alpha=0.7)\n",
    "plt.title('Distribution of feature41 in train_data',fontsize=20)\n",
    "plt.show()"
   ]
  },
  {
   "cell_type": "code",
   "execution_count": null,
   "metadata": {},
   "outputs": [],
   "source": [
    "plt.figure(figsize=(20, 10))\n",
    "plt.scatter(range(test_data.shape[0]), test_data['feature41'].values, color='g', linewidths=0.1, alpha=0.7)\n",
    "plt.title('Distribution of feature41 in test_data',fontsize=20)\n",
    "plt.show() "
   ]
  },
  {
   "cell_type": "markdown",
   "metadata": {},
   "source": [
    "* feature42"
   ]
  },
  {
   "cell_type": "code",
   "execution_count": null,
   "metadata": {
    "scrolled": false
   },
   "outputs": [],
   "source": [
    "plt.figure(figsize=(20, 10))\n",
    "plt.scatter(range(train_data.shape[0]), train_data['feature42'].values, color='m', linewidths=0.1, alpha=0.7)\n",
    "plt.title('Distribution of feature42 in train_data',fontsize=20)\n",
    "plt.show()"
   ]
  },
  {
   "cell_type": "code",
   "execution_count": null,
   "metadata": {},
   "outputs": [],
   "source": [
    "plt.figure(figsize=(20, 10))\n",
    "plt.scatter(range(test_data.shape[0]), test_data['feature42'].values, color='g', linewidths=0.1, alpha=0.7)\n",
    "plt.title('Distribution of feature42 in test_data',fontsize=20)\n",
    "plt.show() "
   ]
  },
  {
   "cell_type": "markdown",
   "metadata": {},
   "source": [
    "* feature43"
   ]
  },
  {
   "cell_type": "code",
   "execution_count": null,
   "metadata": {},
   "outputs": [],
   "source": [
    "plt.figure(figsize=(20, 10))\n",
    "plt.scatter(range(train_data.shape[0]), train_data['feature43'].values, color='m', linewidths=0.1, alpha=0.7)\n",
    "plt.title('Distribution of feature43 in train_data',fontsize=20)\n",
    "plt.show()"
   ]
  },
  {
   "cell_type": "code",
   "execution_count": null,
   "metadata": {},
   "outputs": [],
   "source": [
    "plt.figure(figsize=(20, 10))\n",
    "plt.scatter(range(test_data.shape[0]), test_data['feature43'].values, color='g', linewidths=0.1, alpha=0.7)\n",
    "plt.title('Distribution of feature43 in test_data',fontsize=20)\n",
    "plt.show() "
   ]
  },
  {
   "cell_type": "markdown",
   "metadata": {},
   "source": [
    "* feature44"
   ]
  },
  {
   "cell_type": "code",
   "execution_count": null,
   "metadata": {
    "scrolled": false
   },
   "outputs": [],
   "source": [
    "plt.figure(figsize=(20, 10))\n",
    "plt.scatter(range(train_data.shape[0]), train_data['feature44'].values, color='m', linewidths=0.1, alpha=0.7)\n",
    "plt.title('Distribution of feature44 in train_data',fontsize=20)\n",
    "plt.show()"
   ]
  },
  {
   "cell_type": "code",
   "execution_count": null,
   "metadata": {},
   "outputs": [],
   "source": [
    "plt.figure(figsize=(20, 10))\n",
    "plt.scatter(range(test_data.shape[0]), test_data['feature44'].values, color='g', linewidths=0.1, alpha=0.7)\n",
    "plt.title('Distribution of feature44 in test_data',fontsize=20)\n",
    "plt.show() "
   ]
  },
  {
   "cell_type": "markdown",
   "metadata": {},
   "source": [
    "* feature45"
   ]
  },
  {
   "cell_type": "code",
   "execution_count": null,
   "metadata": {},
   "outputs": [],
   "source": [
    "plt.figure(figsize=(20, 10))\n",
    "plt.scatter(range(train_data.shape[0]), train_data['feature45'].values, color='m', linewidths=0.1, alpha=0.7)\n",
    "plt.title('Distribution of feature45 in train_data',fontsize=20)\n",
    "plt.show()"
   ]
  },
  {
   "cell_type": "code",
   "execution_count": null,
   "metadata": {},
   "outputs": [],
   "source": [
    "plt.figure(figsize=(20, 10))\n",
    "plt.scatter(range(test_data.shape[0]), test_data['feature45'].values, color='g', linewidths=0.1, alpha=0.7)\n",
    "plt.title('Distribution of feature45 in test_data',fontsize=20)\n",
    "plt.show() "
   ]
  },
  {
   "cell_type": "markdown",
   "metadata": {},
   "source": [
    "* feature46"
   ]
  },
  {
   "cell_type": "code",
   "execution_count": null,
   "metadata": {},
   "outputs": [],
   "source": [
    "plt.figure(figsize=(20, 10))\n",
    "plt.scatter(range(train_data.shape[0]), train_data['feature46'].values, color='m', linewidths=0.1, alpha=0.7)\n",
    "plt.title('Distribution of feature46 in train_data',fontsize=20)\n",
    "plt.show()"
   ]
  },
  {
   "cell_type": "code",
   "execution_count": null,
   "metadata": {},
   "outputs": [],
   "source": [
    "plt.figure(figsize=(20, 10))\n",
    "plt.scatter(range(test_data.shape[0]), test_data['feature46'].values, color='g', linewidths=0.1, alpha=0.7)\n",
    "plt.title('Distribution of feature46 in test_data',fontsize=20)\n",
    "plt.show() "
   ]
  },
  {
   "cell_type": "markdown",
   "metadata": {},
   "source": [
    "* feature47"
   ]
  },
  {
   "cell_type": "code",
   "execution_count": null,
   "metadata": {
    "scrolled": false
   },
   "outputs": [],
   "source": [
    "plt.figure(figsize=(20, 10))\n",
    "plt.scatter(range(train_data.shape[0]), train_data['feature47'].values, color='m', linewidths=0.1, alpha=0.7)\n",
    "plt.title('Distribution of feature47 in train_data',fontsize=20)\n",
    "plt.show()"
   ]
  },
  {
   "cell_type": "code",
   "execution_count": null,
   "metadata": {},
   "outputs": [],
   "source": [
    "plt.figure(figsize=(20, 10))\n",
    "plt.scatter(range(test_data.shape[0]), test_data['feature47'].values, color='g', linewidths=0.1, alpha=0.7)\n",
    "plt.title('Distribution of feature47 in test_data',fontsize=20)\n",
    "plt.show() "
   ]
  },
  {
   "cell_type": "markdown",
   "metadata": {},
   "source": [
    "* feature48"
   ]
  },
  {
   "cell_type": "code",
   "execution_count": null,
   "metadata": {},
   "outputs": [],
   "source": [
    "plt.figure(figsize=(20, 10))\n",
    "plt.scatter(range(train_data.shape[0]), train_data['feature48'].values, color='m', linewidths=0.1, alpha=0.7)\n",
    "plt.title('Distribution of feature48 in train_data',fontsize=20)\n",
    "plt.show()"
   ]
  },
  {
   "cell_type": "code",
   "execution_count": null,
   "metadata": {},
   "outputs": [],
   "source": [
    "plt.figure(figsize=(20, 10))\n",
    "plt.scatter(range(test_data.shape[0]), test_data['feature48'].values, color='g', linewidths=0.1, alpha=0.7)\n",
    "plt.title('Distribution of feature48 in test_data',fontsize=20)\n",
    "plt.show() "
   ]
  },
  {
   "cell_type": "markdown",
   "metadata": {},
   "source": [
    "* feature49"
   ]
  },
  {
   "cell_type": "code",
   "execution_count": null,
   "metadata": {},
   "outputs": [],
   "source": [
    "plt.figure(figsize=(20, 10))\n",
    "plt.scatter(range(train_data.shape[0]), train_data['feature49'].values, color='m', linewidths=0.1, alpha=0.7)\n",
    "plt.title('Distribution of feature49 in train_data',fontsize=20)\n",
    "plt.show()"
   ]
  },
  {
   "cell_type": "code",
   "execution_count": null,
   "metadata": {},
   "outputs": [],
   "source": [
    "plt.figure(figsize=(20, 10))\n",
    "plt.scatter(range(test_data.shape[0]), test_data['feature49'].values, color='g', linewidths=0.1, alpha=0.7)\n",
    "plt.title('Distribution of feature49 in test_data',fontsize=20)\n",
    "plt.show() "
   ]
  },
  {
   "cell_type": "markdown",
   "metadata": {},
   "source": [
    "* feature50"
   ]
  },
  {
   "cell_type": "code",
   "execution_count": null,
   "metadata": {},
   "outputs": [],
   "source": [
    "plt.figure(figsize=(20, 10))\n",
    "plt.scatter(range(train_data.shape[0]), train_data['feature50'].values, color='m', linewidths=0.1, alpha=0.7)\n",
    "plt.title('Distribution of feature50 in train_data',fontsize=20)\n",
    "plt.show()"
   ]
  },
  {
   "cell_type": "code",
   "execution_count": null,
   "metadata": {},
   "outputs": [],
   "source": [
    "plt.figure(figsize=(20, 10))\n",
    "plt.scatter(range(test_data.shape[0]), test_data['feature50'].values, color='g', linewidths=0.1, alpha=0.7)\n",
    "plt.title('Distribution of feature50 in test_data',fontsize=20)\n",
    "plt.show() "
   ]
  },
  {
   "cell_type": "markdown",
   "metadata": {},
   "source": [
    "* feature51"
   ]
  },
  {
   "cell_type": "code",
   "execution_count": null,
   "metadata": {},
   "outputs": [],
   "source": [
    "plt.figure(figsize=(20, 10))\n",
    "plt.scatter(range(train_data.shape[0]), train_data['feature51'].values, color='m', linewidths=0.1, alpha=0.7)\n",
    "plt.title('Distribution of feature51 in train_data',fontsize=20)\n",
    "plt.show()"
   ]
  },
  {
   "cell_type": "code",
   "execution_count": null,
   "metadata": {},
   "outputs": [],
   "source": [
    "plt.figure(figsize=(20, 10))\n",
    "plt.scatter(range(test_data.shape[0]), test_data['feature51'].values, color='g', linewidths=0.1, alpha=0.7)\n",
    "plt.title('Distribution of feature51 in test_data',fontsize=20)\n",
    "plt.show() "
   ]
  },
  {
   "cell_type": "markdown",
   "metadata": {},
   "source": [
    "* feature52"
   ]
  },
  {
   "cell_type": "code",
   "execution_count": null,
   "metadata": {},
   "outputs": [],
   "source": [
    "plt.figure(figsize=(20, 10))\n",
    "plt.scatter(range(train_data.shape[0]), train_data['feature52'].values, color='m', linewidths=0.1, alpha=0.7)\n",
    "plt.title('Distribution of feature52 in train_data',fontsize=20)\n",
    "plt.show()"
   ]
  },
  {
   "cell_type": "code",
   "execution_count": null,
   "metadata": {},
   "outputs": [],
   "source": [
    "plt.figure(figsize=(20, 10))\n",
    "plt.scatter(range(test_data.shape[0]), test_data['feature52'].values, color='g', linewidths=0.1, alpha=0.7)\n",
    "plt.title('Distribution of feature52 in test_data',fontsize=20)\n",
    "plt.show() "
   ]
  },
  {
   "cell_type": "markdown",
   "metadata": {},
   "source": [
    "* feature53"
   ]
  },
  {
   "cell_type": "code",
   "execution_count": null,
   "metadata": {},
   "outputs": [],
   "source": [
    "plt.figure(figsize=(20, 10))\n",
    "plt.scatter(range(train_data.shape[0]), train_data['feature53'].values, color='m', linewidths=0.1, alpha=0.7)\n",
    "plt.title('Distribution of feature53 in train_data',fontsize=20)\n",
    "plt.show()"
   ]
  },
  {
   "cell_type": "code",
   "execution_count": null,
   "metadata": {},
   "outputs": [],
   "source": [
    "plt.figure(figsize=(20, 10))\n",
    "plt.scatter(range(test_data.shape[0]), test_data['feature53'].values, color='g', linewidths=0.1, alpha=0.7)\n",
    "plt.title('Distribution of feature53 in test_data',fontsize=20)\n",
    "plt.show() "
   ]
  },
  {
   "cell_type": "markdown",
   "metadata": {},
   "source": [
    "* feature54"
   ]
  },
  {
   "cell_type": "code",
   "execution_count": null,
   "metadata": {},
   "outputs": [],
   "source": [
    "plt.figure(figsize=(20, 10))\n",
    "plt.scatter(range(train_data.shape[0]), train_data['feature54'].values, color='m', linewidths=0.1, alpha=0.7)\n",
    "plt.title('Distribution of feature54 in train_data',fontsize=20)\n",
    "plt.show()"
   ]
  },
  {
   "cell_type": "code",
   "execution_count": null,
   "metadata": {},
   "outputs": [],
   "source": [
    "plt.figure(figsize=(20, 10))\n",
    "plt.scatter(range(test_data.shape[0]), test_data['feature54'].values, color='g', linewidths=0.1, alpha=0.7)\n",
    "plt.title('Distribution of feature54 in test_data',fontsize=20)\n",
    "plt.show() "
   ]
  },
  {
   "cell_type": "markdown",
   "metadata": {},
   "source": [
    "* feature55"
   ]
  },
  {
   "cell_type": "code",
   "execution_count": null,
   "metadata": {},
   "outputs": [],
   "source": [
    "plt.figure(figsize=(20, 10))\n",
    "plt.scatter(range(train_data.shape[0]), train_data['feature55'].values, color='m', linewidths=0.1, alpha=0.7)\n",
    "plt.title('Distribution of feature55 in train_data',fontsize=20)\n",
    "plt.show()"
   ]
  },
  {
   "cell_type": "code",
   "execution_count": null,
   "metadata": {},
   "outputs": [],
   "source": [
    "plt.figure(figsize=(20, 10))\n",
    "plt.scatter(range(test_data.shape[0]), test_data['feature55'].values, color='g', linewidths=0.1, alpha=0.7)\n",
    "plt.title('Distribution of feature55 in test_data',fontsize=20)\n",
    "plt.show() "
   ]
  },
  {
   "cell_type": "markdown",
   "metadata": {},
   "source": [
    "* feature56"
   ]
  },
  {
   "cell_type": "code",
   "execution_count": null,
   "metadata": {},
   "outputs": [],
   "source": [
    "plt.figure(figsize=(20, 10))\n",
    "plt.scatter(range(train_data.shape[0]), train_data['feature56'].values, color='m', linewidths=0.1, alpha=0.7)\n",
    "plt.title('Distribution of feature56 in train_data',fontsize=20)\n",
    "plt.show()"
   ]
  },
  {
   "cell_type": "code",
   "execution_count": null,
   "metadata": {},
   "outputs": [],
   "source": [
    "plt.figure(figsize=(20, 10))\n",
    "plt.scatter(range(test_data.shape[0]), test_data['feature56'].values, color='g', linewidths=0.1, alpha=0.7)\n",
    "plt.title('Distribution of feature56 in test_data',fontsize=20)\n",
    "plt.show() "
   ]
  },
  {
   "cell_type": "markdown",
   "metadata": {},
   "source": [
    "* feature57"
   ]
  },
  {
   "cell_type": "code",
   "execution_count": null,
   "metadata": {},
   "outputs": [],
   "source": [
    "plt.figure(figsize=(20, 10))\n",
    "plt.scatter(range(train_data.shape[0]), train_data['feature57'].values, color='m', linewidths=0.1, alpha=0.7)\n",
    "plt.title('Distribution of feature57 in train_data',fontsize=20)\n",
    "plt.show()"
   ]
  },
  {
   "cell_type": "code",
   "execution_count": null,
   "metadata": {},
   "outputs": [],
   "source": [
    "plt.figure(figsize=(20, 10))\n",
    "plt.scatter(range(test_data.shape[0]), test_data['feature57'].values, color='g', linewidths=0.1, alpha=0.7)\n",
    "plt.title('Distribution of feature57 in test_data',fontsize=20)\n",
    "plt.show() "
   ]
  },
  {
   "cell_type": "markdown",
   "metadata": {},
   "source": [
    "* feature58"
   ]
  },
  {
   "cell_type": "code",
   "execution_count": null,
   "metadata": {},
   "outputs": [],
   "source": [
    "plt.figure(figsize=(20, 10))\n",
    "plt.scatter(range(train_data.shape[0]), train_data['feature58'].values, color='m', linewidths=0.1, alpha=0.7)\n",
    "plt.title('Distribution of feature58 in train_data',fontsize=20)\n",
    "plt.show()"
   ]
  },
  {
   "cell_type": "code",
   "execution_count": null,
   "metadata": {},
   "outputs": [],
   "source": [
    "plt.figure(figsize=(20, 10))\n",
    "plt.scatter(range(test_data.shape[0]), test_data['feature58'].values, color='g', linewidths=0.1, alpha=0.7)\n",
    "plt.title('Distribution of feature58 in test_data',fontsize=20)\n",
    "plt.show() "
   ]
  },
  {
   "cell_type": "markdown",
   "metadata": {},
   "source": [
    "* feature59"
   ]
  },
  {
   "cell_type": "code",
   "execution_count": null,
   "metadata": {},
   "outputs": [],
   "source": [
    "plt.figure(figsize=(20, 10))\n",
    "plt.scatter(range(train_data.shape[0]), train_data['feature59'].values, color='m', linewidths=0.1, alpha=0.7)\n",
    "plt.title('Distribution of feature59 in train_data',fontsize=20)\n",
    "plt.show()"
   ]
  },
  {
   "cell_type": "code",
   "execution_count": null,
   "metadata": {},
   "outputs": [],
   "source": [
    "plt.figure(figsize=(20, 10))\n",
    "plt.scatter(range(test_data.shape[0]), test_data['feature59'].values, color='g', linewidths=0.1, alpha=0.7)\n",
    "plt.title('Distribution of feature59 in test_data',fontsize=20)\n",
    "plt.show() "
   ]
  },
  {
   "cell_type": "markdown",
   "metadata": {},
   "source": [
    "* feature60"
   ]
  },
  {
   "cell_type": "code",
   "execution_count": null,
   "metadata": {
    "scrolled": false
   },
   "outputs": [],
   "source": [
    "plt.figure(figsize=(20, 10))\n",
    "plt.scatter(range(train_data.shape[0]), train_data['feature60'].values, color='m', linewidths=0.1, alpha=0.7)\n",
    "plt.title('Distribution of feature60 in train_data',fontsize=20)\n",
    "plt.show()"
   ]
  },
  {
   "cell_type": "code",
   "execution_count": null,
   "metadata": {},
   "outputs": [],
   "source": [
    "plt.figure(figsize=(20, 10))\n",
    "plt.scatter(range(test_data.shape[0]), test_data['feature60'].values, color='g', linewidths=0.1, alpha=0.7)\n",
    "plt.title('Distribution of feature60 in test_data',fontsize=20)\n",
    "plt.show() "
   ]
  },
  {
   "cell_type": "markdown",
   "metadata": {},
   "source": [
    "* feature61"
   ]
  },
  {
   "cell_type": "code",
   "execution_count": null,
   "metadata": {},
   "outputs": [],
   "source": [
    "plt.figure(figsize=(20, 10))\n",
    "plt.scatter(range(train_data.shape[0]), train_data['feature61'].values, color='m', linewidths=0.1, alpha=0.7)\n",
    "plt.title('Distribution of feature61 in train_data',fontsize=20)\n",
    "plt.show()"
   ]
  },
  {
   "cell_type": "code",
   "execution_count": null,
   "metadata": {},
   "outputs": [],
   "source": [
    "plt.figure(figsize=(20, 10))\n",
    "plt.scatter(range(test_data.shape[0]), test_data['feature61'].values, color='g', linewidths=0.1, alpha=0.7)\n",
    "plt.title('Distribution of feature61 in test_data',fontsize=20)\n",
    "plt.show() "
   ]
  },
  {
   "cell_type": "markdown",
   "metadata": {},
   "source": [
    "* feature62"
   ]
  },
  {
   "cell_type": "code",
   "execution_count": null,
   "metadata": {},
   "outputs": [],
   "source": [
    "plt.figure(figsize=(20, 10))\n",
    "plt.scatter(range(train_data.shape[0]), train_data['feature62'].values, color='m', linewidths=0.1, alpha=0.7)\n",
    "plt.title('Distribution of feature62 in train_data',fontsize=20)\n",
    "plt.show()"
   ]
  },
  {
   "cell_type": "code",
   "execution_count": null,
   "metadata": {},
   "outputs": [],
   "source": [
    "plt.figure(figsize=(20, 10))\n",
    "plt.scatter(range(test_data.shape[0]), test_data['feature62'].values, color='g', linewidths=0.1, alpha=0.7)\n",
    "plt.title('Distribution of feature62 in test_data',fontsize=20)\n",
    "plt.show() "
   ]
  },
  {
   "cell_type": "markdown",
   "metadata": {},
   "source": [
    "* feature63"
   ]
  },
  {
   "cell_type": "code",
   "execution_count": null,
   "metadata": {},
   "outputs": [],
   "source": [
    "plt.figure(figsize=(20, 10))\n",
    "plt.scatter(range(train_data.shape[0]), train_data['feature63'].values, color='m', linewidths=0.1, alpha=0.7)\n",
    "plt.title('Distribution of feature63 in train_data',fontsize=20)\n",
    "plt.show()"
   ]
  },
  {
   "cell_type": "code",
   "execution_count": null,
   "metadata": {},
   "outputs": [],
   "source": [
    "plt.figure(figsize=(20, 10))\n",
    "plt.scatter(range(test_data.shape[0]), test_data['feature63'].values, color='g', linewidths=0.1, alpha=0.7)\n",
    "plt.title('Distribution of feature63 in test_data',fontsize=20)\n",
    "plt.show() "
   ]
  },
  {
   "cell_type": "markdown",
   "metadata": {},
   "source": [
    "* feature64"
   ]
  },
  {
   "cell_type": "code",
   "execution_count": null,
   "metadata": {
    "scrolled": false
   },
   "outputs": [],
   "source": [
    "plt.figure(figsize=(20, 10))\n",
    "plt.scatter(range(train_data.shape[0]), train_data['feature64'].values, color='m', linewidths=0.1, alpha=0.7)\n",
    "plt.title('Distribution of feature64 in train_data',fontsize=20)\n",
    "plt.show()"
   ]
  },
  {
   "cell_type": "code",
   "execution_count": null,
   "metadata": {},
   "outputs": [],
   "source": [
    "plt.figure(figsize=(20, 10))\n",
    "plt.scatter(range(test_data.shape[0]), test_data['feature64'].values, color='g', linewidths=0.1, alpha=0.7)\n",
    "plt.title('Distribution of feature64 in test_data',fontsize=20)\n",
    "plt.show() "
   ]
  },
  {
   "cell_type": "markdown",
   "metadata": {},
   "source": [
    "* feature65"
   ]
  },
  {
   "cell_type": "code",
   "execution_count": null,
   "metadata": {},
   "outputs": [],
   "source": [
    "plt.figure(figsize=(20, 10))\n",
    "plt.scatter(range(train_data.shape[0]), train_data['feature65'].values, color='m', linewidths=0.1, alpha=0.7)\n",
    "plt.title('Distribution of feature65 in train_data',fontsize=20)\n",
    "plt.show()"
   ]
  },
  {
   "cell_type": "code",
   "execution_count": null,
   "metadata": {},
   "outputs": [],
   "source": [
    "plt.figure(figsize=(20, 10))\n",
    "plt.scatter(range(test_data.shape[0]), test_data['feature65'].values, color='g', linewidths=0.1, alpha=0.7)\n",
    "plt.title('Distribution of feature65 in test_data',fontsize=20)\n",
    "plt.show() "
   ]
  },
  {
   "cell_type": "markdown",
   "metadata": {},
   "source": [
    "* feature66"
   ]
  },
  {
   "cell_type": "code",
   "execution_count": null,
   "metadata": {},
   "outputs": [],
   "source": [
    "plt.figure(figsize=(20, 10))\n",
    "plt.scatter(range(train_data.shape[0]), train_data['feature66'].values, color='m', linewidths=0.1, alpha=0.7)\n",
    "plt.title('Distribution of feature66 in train_data',fontsize=20)\n",
    "plt.show()"
   ]
  },
  {
   "cell_type": "code",
   "execution_count": null,
   "metadata": {},
   "outputs": [],
   "source": [
    "plt.figure(figsize=(20, 10))\n",
    "plt.scatter(range(test_data.shape[0]), test_data['feature66'].values, color='g', linewidths=0.1, alpha=0.7)\n",
    "plt.title('Distribution of feature66 in test_data',fontsize=20)\n",
    "plt.show() "
   ]
  },
  {
   "cell_type": "markdown",
   "metadata": {},
   "source": [
    "* feature67"
   ]
  },
  {
   "cell_type": "code",
   "execution_count": null,
   "metadata": {},
   "outputs": [],
   "source": [
    "plt.figure(figsize=(20, 10))\n",
    "plt.scatter(range(train_data.shape[0]), train_data['feature67'].values, color='m', linewidths=0.1, alpha=0.7)\n",
    "plt.title('Distribution of feature67 in train_data',fontsize=20)\n",
    "plt.show()"
   ]
  },
  {
   "cell_type": "code",
   "execution_count": null,
   "metadata": {},
   "outputs": [],
   "source": [
    "plt.figure(figsize=(20, 10))\n",
    "plt.scatter(range(test_data.shape[0]), test_data['feature67'].values, color='g', linewidths=0.1, alpha=0.7)\n",
    "plt.title('Distribution of feature67 in test_data',fontsize=20)\n",
    "plt.show() "
   ]
  },
  {
   "cell_type": "markdown",
   "metadata": {},
   "source": [
    "* feature68"
   ]
  },
  {
   "cell_type": "code",
   "execution_count": null,
   "metadata": {},
   "outputs": [],
   "source": [
    "plt.figure(figsize=(20, 10))\n",
    "plt.scatter(range(train_data.shape[0]), train_data['feature68'].values, color='m', linewidths=0.1, alpha=0.7)\n",
    "plt.title('Distribution of feature68 in train_data',fontsize=20)\n",
    "plt.show()"
   ]
  },
  {
   "cell_type": "code",
   "execution_count": null,
   "metadata": {},
   "outputs": [],
   "source": [
    "plt.figure(figsize=(20, 10))\n",
    "plt.scatter(range(test_data.shape[0]), test_data['feature68'].values, color='g', linewidths=0.1, alpha=0.7)\n",
    "plt.title('Distribution of feature68 in test_data',fontsize=20)\n",
    "plt.show() "
   ]
  },
  {
   "cell_type": "markdown",
   "metadata": {},
   "source": [
    "* feature69"
   ]
  },
  {
   "cell_type": "code",
   "execution_count": null,
   "metadata": {},
   "outputs": [],
   "source": [
    "plt.figure(figsize=(20, 10))\n",
    "plt.scatter(range(train_data.shape[0]), train_data['feature69'].values, color='m', linewidths=0.1, alpha=0.7)\n",
    "plt.title('Distribution of feature69 in train_data',fontsize=20)\n",
    "plt.show()"
   ]
  },
  {
   "cell_type": "code",
   "execution_count": null,
   "metadata": {},
   "outputs": [],
   "source": [
    "plt.figure(figsize=(20, 10))\n",
    "plt.scatter(range(test_data.shape[0]), test_data['feature69'].values, color='g', linewidths=0.1, alpha=0.7)\n",
    "plt.title('Distribution of feature69 in test_data',fontsize=20)\n",
    "plt.show() "
   ]
  },
  {
   "cell_type": "markdown",
   "metadata": {},
   "source": [
    "* feature70"
   ]
  },
  {
   "cell_type": "code",
   "execution_count": null,
   "metadata": {},
   "outputs": [],
   "source": [
    "plt.figure(figsize=(20, 10))\n",
    "plt.scatter(range(train_data.shape[0]), train_data['feature70'].values, color='m', linewidths=0.1, alpha=0.7)\n",
    "plt.title('Distribution of feature70 in train_data',fontsize=20)\n",
    "plt.show()"
   ]
  },
  {
   "cell_type": "code",
   "execution_count": null,
   "metadata": {},
   "outputs": [],
   "source": [
    "plt.figure(figsize=(20, 10))\n",
    "plt.scatter(range(test_data.shape[0]), test_data['feature70'].values, color='g', linewidths=0.1, alpha=0.7)\n",
    "plt.title('Distribution of feature70 in test_data',fontsize=20)\n",
    "plt.show() "
   ]
  },
  {
   "cell_type": "markdown",
   "metadata": {},
   "source": [
    "* feature71"
   ]
  },
  {
   "cell_type": "code",
   "execution_count": null,
   "metadata": {},
   "outputs": [],
   "source": [
    "plt.figure(figsize=(20, 10))\n",
    "plt.scatter(range(train_data.shape[0]), train_data['feature71'].values, color='m', linewidths=0.1, alpha=0.7)\n",
    "plt.title('Distribution of feature71 in train_data',fontsize=20)\n",
    "plt.show()"
   ]
  },
  {
   "cell_type": "code",
   "execution_count": null,
   "metadata": {},
   "outputs": [],
   "source": [
    "plt.figure(figsize=(20, 10))\n",
    "plt.scatter(range(test_data.shape[0]), test_data['feature71'].values, color='g', linewidths=0.1, alpha=0.7)\n",
    "plt.title('Distribution of feature71 in test_data',fontsize=20)\n",
    "plt.show() "
   ]
  },
  {
   "cell_type": "markdown",
   "metadata": {},
   "source": [
    "* feature72"
   ]
  },
  {
   "cell_type": "code",
   "execution_count": null,
   "metadata": {},
   "outputs": [],
   "source": [
    "plt.figure(figsize=(20, 10))\n",
    "plt.scatter(range(train_data.shape[0]), train_data['feature72'].values, color='m', linewidths=0.1, alpha=0.7)\n",
    "plt.title('Distribution of feature72 in train_data',fontsize=20)\n",
    "plt.show()"
   ]
  },
  {
   "cell_type": "code",
   "execution_count": null,
   "metadata": {},
   "outputs": [],
   "source": [
    "plt.figure(figsize=(20, 10))\n",
    "plt.scatter(range(test_data.shape[0]), test_data['feature72'].values, color='g', linewidths=0.1, alpha=0.7)\n",
    "plt.title('Distribution of feature72 in test_data',fontsize=20)\n",
    "plt.show() "
   ]
  },
  {
   "cell_type": "markdown",
   "metadata": {},
   "source": [
    "* feature73"
   ]
  },
  {
   "cell_type": "code",
   "execution_count": null,
   "metadata": {},
   "outputs": [],
   "source": [
    "plt.figure(figsize=(20, 10))\n",
    "plt.scatter(range(train_data.shape[0]), train_data['feature73'].values, color='m', linewidths=0.1, alpha=0.7)\n",
    "plt.title('Distribution of feature73 in train_data',fontsize=20)\n",
    "plt.show()"
   ]
  },
  {
   "cell_type": "code",
   "execution_count": null,
   "metadata": {},
   "outputs": [],
   "source": [
    "plt.figure(figsize=(20, 10))\n",
    "plt.scatter(range(test_data.shape[0]), test_data['feature73'].values, color='g', linewidths=0.1, alpha=0.7)\n",
    "plt.title('Distribution of feature73 in test_data',fontsize=20)\n",
    "plt.show() "
   ]
  },
  {
   "cell_type": "markdown",
   "metadata": {},
   "source": [
    "* feature74"
   ]
  },
  {
   "cell_type": "code",
   "execution_count": null,
   "metadata": {},
   "outputs": [],
   "source": [
    "plt.figure(figsize=(20, 10))\n",
    "plt.scatter(range(train_data.shape[0]), train_data['feature74'].values, color='m', linewidths=0.1, alpha=0.7)\n",
    "plt.title('Distribution of feature74 in train_data',fontsize=20)\n",
    "plt.show()"
   ]
  },
  {
   "cell_type": "code",
   "execution_count": null,
   "metadata": {},
   "outputs": [],
   "source": [
    "plt.figure(figsize=(20, 10))\n",
    "plt.scatter(range(test_data.shape[0]), test_data['feature74'].values, color='g', linewidths=0.1, alpha=0.7)\n",
    "plt.title('Distribution of feature74 in test_data',fontsize=20)\n",
    "plt.show() "
   ]
  },
  {
   "cell_type": "markdown",
   "metadata": {},
   "source": [
    "* feature75"
   ]
  },
  {
   "cell_type": "code",
   "execution_count": null,
   "metadata": {},
   "outputs": [],
   "source": [
    "plt.figure(figsize=(20, 10))\n",
    "plt.scatter(range(train_data.shape[0]), train_data['feature75'].values, color='m', linewidths=0.1, alpha=0.7)\n",
    "plt.title('Distribution of feature75 in train_data',fontsize=20)\n",
    "plt.show()"
   ]
  },
  {
   "cell_type": "code",
   "execution_count": null,
   "metadata": {},
   "outputs": [],
   "source": [
    "plt.figure(figsize=(20, 10))\n",
    "plt.scatter(range(test_data.shape[0]), test_data['feature75'].values, color='g', linewidths=0.1, alpha=0.7)\n",
    "plt.title('Distribution of feature75 in test_data',fontsize=20)\n",
    "plt.show() "
   ]
  },
  {
   "cell_type": "markdown",
   "metadata": {},
   "source": [
    "* feature76"
   ]
  },
  {
   "cell_type": "code",
   "execution_count": null,
   "metadata": {
    "scrolled": false
   },
   "outputs": [],
   "source": [
    "plt.figure(figsize=(20, 10))\n",
    "plt.scatter(range(train_data.shape[0]), train_data['feature76'].values, color='m', linewidths=0.1, alpha=0.7)\n",
    "plt.title('Distribution of feature76 in train_data',fontsize=20)\n",
    "plt.show()"
   ]
  },
  {
   "cell_type": "code",
   "execution_count": null,
   "metadata": {},
   "outputs": [],
   "source": [
    "plt.figure(figsize=(20, 10))\n",
    "plt.scatter(range(test_data.shape[0]), test_data['feature76'].values, color='g', linewidths=0.1, alpha=0.7)\n",
    "plt.title('Distribution of feature76 in test_data',fontsize=20)\n",
    "plt.show() "
   ]
  },
  {
   "cell_type": "markdown",
   "metadata": {},
   "source": [
    "* feature77"
   ]
  },
  {
   "cell_type": "code",
   "execution_count": null,
   "metadata": {},
   "outputs": [],
   "source": [
    "plt.figure(figsize=(20, 10))\n",
    "plt.scatter(range(train_data.shape[0]), train_data['feature77'].values, color='m', linewidths=0.1, alpha=0.7)\n",
    "plt.title('Distribution of feature77 in train_data',fontsize=20)\n",
    "plt.show()"
   ]
  },
  {
   "cell_type": "code",
   "execution_count": null,
   "metadata": {},
   "outputs": [],
   "source": [
    "plt.figure(figsize=(20, 10))\n",
    "plt.scatter(range(test_data.shape[0]), test_data['feature77'].values, color='g', linewidths=0.1, alpha=0.7)\n",
    "plt.title('Distribution of feature77 in test_data',fontsize=20)\n",
    "plt.show() "
   ]
  },
  {
   "cell_type": "markdown",
   "metadata": {},
   "source": [
    "* feature78"
   ]
  },
  {
   "cell_type": "code",
   "execution_count": null,
   "metadata": {},
   "outputs": [],
   "source": [
    "plt.figure(figsize=(20, 10))\n",
    "plt.scatter(range(train_data.shape[0]), train_data['feature78'].values, color='m', linewidths=0.1, alpha=0.7)\n",
    "plt.title('Distribution of feature78 in train_data',fontsize=20)\n",
    "plt.show()"
   ]
  },
  {
   "cell_type": "code",
   "execution_count": null,
   "metadata": {},
   "outputs": [],
   "source": [
    "plt.figure(figsize=(20, 10))\n",
    "plt.scatter(range(test_data.shape[0]), test_data['feature78'].values, color='g', linewidths=0.1, alpha=0.7)\n",
    "plt.title('Distribution of feature78 in test_data',fontsize=20)\n",
    "plt.show() "
   ]
  },
  {
   "cell_type": "markdown",
   "metadata": {},
   "source": [
    "* feature79"
   ]
  },
  {
   "cell_type": "code",
   "execution_count": null,
   "metadata": {},
   "outputs": [],
   "source": [
    "plt.figure(figsize=(20, 10))\n",
    "plt.scatter(range(train_data.shape[0]), train_data['feature79'].values, color='m', linewidths=0.1, alpha=0.7)\n",
    "plt.title('Distribution of feature79 in train_data',fontsize=20)\n",
    "plt.show()"
   ]
  },
  {
   "cell_type": "code",
   "execution_count": null,
   "metadata": {},
   "outputs": [],
   "source": [
    "plt.figure(figsize=(20, 10))\n",
    "plt.scatter(range(test_data.shape[0]), test_data['feature79'].values, color='g', linewidths=0.1, alpha=0.7)\n",
    "plt.title('Distribution of feature79 in test_data',fontsize=20)\n",
    "plt.show() "
   ]
  },
  {
   "cell_type": "markdown",
   "metadata": {},
   "source": [
    "* feature80"
   ]
  },
  {
   "cell_type": "code",
   "execution_count": null,
   "metadata": {},
   "outputs": [],
   "source": [
    "plt.figure(figsize=(20, 10))\n",
    "plt.scatter(range(train_data.shape[0]), train_data['feature80'].values, color='m', linewidths=0.1, alpha=0.7)\n",
    "plt.title('Distribution of feature80 in train_data',fontsize=20)\n",
    "plt.show()"
   ]
  },
  {
   "cell_type": "code",
   "execution_count": null,
   "metadata": {},
   "outputs": [],
   "source": [
    "plt.figure(figsize=(20, 10))\n",
    "plt.scatter(range(test_data.shape[0]), test_data['feature80'].values, color='g', linewidths=0.1, alpha=0.7)\n",
    "plt.title('Distribution of feature80 in test_data',fontsize=20)\n",
    "plt.show() "
   ]
  },
  {
   "cell_type": "markdown",
   "metadata": {},
   "source": [
    "* feature81"
   ]
  },
  {
   "cell_type": "code",
   "execution_count": null,
   "metadata": {},
   "outputs": [],
   "source": [
    "plt.figure(figsize=(20, 10))\n",
    "plt.scatter(range(train_data.shape[0]), train_data['feature81'].values, color='m', linewidths=0.1, alpha=0.7)\n",
    "plt.title('Distribution of feature81 in train_data',fontsize=20)\n",
    "plt.show()"
   ]
  },
  {
   "cell_type": "code",
   "execution_count": null,
   "metadata": {},
   "outputs": [],
   "source": [
    "plt.figure(figsize=(20, 10))\n",
    "plt.scatter(range(test_data.shape[0]), test_data['feature81'].values, color='g', linewidths=0.1, alpha=0.7)\n",
    "plt.title('Distribution of feature81 in test_data',fontsize=20)\n",
    "plt.show() "
   ]
  },
  {
   "cell_type": "markdown",
   "metadata": {},
   "source": [
    "* feature82"
   ]
  },
  {
   "cell_type": "code",
   "execution_count": null,
   "metadata": {},
   "outputs": [],
   "source": [
    "plt.figure(figsize=(20, 10))\n",
    "plt.scatter(range(train_data.shape[0]), train_data['feature82'].values, color='m', linewidths=0.1, alpha=0.7)\n",
    "plt.title('Distribution of feature82 in train_data',fontsize=20)\n",
    "plt.show()"
   ]
  },
  {
   "cell_type": "code",
   "execution_count": null,
   "metadata": {},
   "outputs": [],
   "source": [
    "plt.figure(figsize=(20, 10))\n",
    "plt.scatter(range(test_data.shape[0]), test_data['feature82'].values, color='g', linewidths=0.1, alpha=0.7)\n",
    "plt.title('Distribution of feature82 in test_data',fontsize=20)\n",
    "plt.show() "
   ]
  },
  {
   "cell_type": "markdown",
   "metadata": {},
   "source": [
    "* feature83"
   ]
  },
  {
   "cell_type": "code",
   "execution_count": null,
   "metadata": {},
   "outputs": [],
   "source": [
    "plt.figure(figsize=(20, 10))\n",
    "plt.scatter(range(train_data.shape[0]), train_data['feature83'].values, color='m', linewidths=0.1, alpha=0.7)\n",
    "plt.title('Distribution of feature83 in train_data',fontsize=20)\n",
    "plt.show()"
   ]
  },
  {
   "cell_type": "code",
   "execution_count": null,
   "metadata": {},
   "outputs": [],
   "source": [
    "plt.figure(figsize=(20, 10))\n",
    "plt.scatter(range(test_data.shape[0]), test_data['feature83'].values, color='g', linewidths=0.1, alpha=0.7)\n",
    "plt.title('Distribution of feature83 in test_data',fontsize=20)\n",
    "plt.show() "
   ]
  },
  {
   "cell_type": "markdown",
   "metadata": {},
   "source": [
    "* feature84"
   ]
  },
  {
   "cell_type": "code",
   "execution_count": null,
   "metadata": {},
   "outputs": [],
   "source": [
    "plt.figure(figsize=(20, 10))\n",
    "plt.scatter(range(train_data.shape[0]), train_data['feature84'].values, color='m', linewidths=0.1, alpha=0.7)\n",
    "plt.title('Distribution of feature84 in train_data',fontsize=20)\n",
    "plt.show()"
   ]
  },
  {
   "cell_type": "code",
   "execution_count": null,
   "metadata": {},
   "outputs": [],
   "source": [
    "plt.figure(figsize=(20, 10))\n",
    "plt.scatter(range(test_data.shape[0]), test_data['feature84'].values, color='g', linewidths=0.1, alpha=0.7)\n",
    "plt.title('Distribution of feature84 in test_data',fontsize=20)\n",
    "plt.show() "
   ]
  },
  {
   "cell_type": "markdown",
   "metadata": {},
   "source": [
    "* feature85"
   ]
  },
  {
   "cell_type": "code",
   "execution_count": null,
   "metadata": {},
   "outputs": [],
   "source": [
    "plt.figure(figsize=(20, 10))\n",
    "plt.scatter(range(train_data.shape[0]), train_data['feature85'].values, color='m', linewidths=0.1, alpha=0.7)\n",
    "plt.title('Distribution of feature85 in train_data',fontsize=20)\n",
    "plt.show()"
   ]
  },
  {
   "cell_type": "code",
   "execution_count": null,
   "metadata": {},
   "outputs": [],
   "source": [
    "plt.figure(figsize=(20, 10))\n",
    "plt.scatter(range(test_data.shape[0]), test_data['feature85'].values, color='g', linewidths=0.1, alpha=0.7)\n",
    "plt.title('Distribution of feature85 in test_data',fontsize=20)\n",
    "plt.show() "
   ]
  },
  {
   "cell_type": "markdown",
   "metadata": {},
   "source": [
    "* feature86"
   ]
  },
  {
   "cell_type": "code",
   "execution_count": null,
   "metadata": {},
   "outputs": [],
   "source": [
    "plt.figure(figsize=(20, 10))\n",
    "plt.scatter(range(train_data.shape[0]), train_data['feature86'].values, color='m', linewidths=0.1, alpha=0.7)\n",
    "plt.title('Distribution of feature86 in train_data',fontsize=20)\n",
    "plt.show()"
   ]
  },
  {
   "cell_type": "code",
   "execution_count": null,
   "metadata": {},
   "outputs": [],
   "source": [
    "plt.figure(figsize=(20, 10))\n",
    "plt.scatter(range(test_data.shape[0]), test_data['feature86'].values, color='g', linewidths=0.1, alpha=0.7)\n",
    "plt.title('Distribution of feature86 in test_data',fontsize=20)\n",
    "plt.show() "
   ]
  },
  {
   "cell_type": "markdown",
   "metadata": {},
   "source": [
    "* feature87"
   ]
  },
  {
   "cell_type": "code",
   "execution_count": null,
   "metadata": {},
   "outputs": [],
   "source": [
    "plt.figure(figsize=(20, 10))\n",
    "plt.scatter(range(train_data.shape[0]), train_data['feature87'].values, color='m', linewidths=0.1, alpha=0.7)\n",
    "plt.title('Distribution of feature87 in train_data',fontsize=20)\n",
    "plt.show()"
   ]
  },
  {
   "cell_type": "code",
   "execution_count": null,
   "metadata": {},
   "outputs": [],
   "source": [
    "plt.figure(figsize=(20, 10))\n",
    "plt.scatter(range(test_data.shape[0]), test_data['feature87'].values, color='g', linewidths=0.1, alpha=0.7)\n",
    "plt.title('Distribution of feature87 in test_data',fontsize=20)\n",
    "plt.show() "
   ]
  },
  {
   "cell_type": "markdown",
   "metadata": {},
   "source": [
    "* feature88"
   ]
  },
  {
   "cell_type": "code",
   "execution_count": null,
   "metadata": {},
   "outputs": [],
   "source": [
    "plt.figure(figsize=(20, 10))\n",
    "plt.scatter(range(train_data.shape[0]), train_data['feature88'].values, color='m', linewidths=0.1, alpha=0.7)\n",
    "plt.title('Distribution of feature88 in train_data',fontsize=20)\n",
    "plt.show()"
   ]
  },
  {
   "cell_type": "code",
   "execution_count": null,
   "metadata": {},
   "outputs": [],
   "source": [
    "plt.figure(figsize=(20, 10))\n",
    "plt.scatter(range(test_data.shape[0]), test_data['feature88'].values, color='g', linewidths=0.1, alpha=0.7)\n",
    "plt.title('Distribution of feature88 in test_data',fontsize=20)\n",
    "plt.show() "
   ]
  },
  {
   "cell_type": "markdown",
   "metadata": {},
   "source": [
    "* feature89"
   ]
  },
  {
   "cell_type": "code",
   "execution_count": null,
   "metadata": {},
   "outputs": [],
   "source": [
    "plt.figure(figsize=(20, 10))\n",
    "plt.scatter(range(train_data.shape[0]), train_data['feature89'].values, color='m', linewidths=0.1, alpha=0.7)\n",
    "plt.title('Distribution of feature89 in train_data',fontsize=20)\n",
    "plt.show()"
   ]
  },
  {
   "cell_type": "code",
   "execution_count": null,
   "metadata": {},
   "outputs": [],
   "source": [
    "plt.figure(figsize=(20, 10))\n",
    "plt.scatter(range(test_data.shape[0]), test_data['feature89'].values, color='g', linewidths=0.1, alpha=0.7)\n",
    "plt.title('Distribution of feature89 in test_data',fontsize=20)\n",
    "plt.show() "
   ]
  },
  {
   "cell_type": "markdown",
   "metadata": {},
   "source": [
    "* feature90"
   ]
  },
  {
   "cell_type": "code",
   "execution_count": null,
   "metadata": {},
   "outputs": [],
   "source": [
    "plt.figure(figsize=(20, 10))\n",
    "plt.scatter(range(train_data.shape[0]), train_data['feature90'].values, color='m', linewidths=0.1, alpha=0.7)\n",
    "plt.title('Distribution of feature90 in train_data',fontsize=20)\n",
    "plt.show()"
   ]
  },
  {
   "cell_type": "code",
   "execution_count": null,
   "metadata": {},
   "outputs": [],
   "source": [
    "plt.figure(figsize=(20, 10))\n",
    "plt.scatter(range(test_data.shape[0]), test_data['feature90'].values, color='g', linewidths=0.1, alpha=0.7)\n",
    "plt.title('Distribution of feature90 in test_data',fontsize=20)\n",
    "plt.show() "
   ]
  },
  {
   "cell_type": "markdown",
   "metadata": {},
   "source": [
    "* feature91"
   ]
  },
  {
   "cell_type": "code",
   "execution_count": null,
   "metadata": {},
   "outputs": [],
   "source": [
    "plt.figure(figsize=(20, 10))\n",
    "plt.scatter(range(train_data.shape[0]), train_data['feature91'].values, color='m', linewidths=0.1, alpha=0.7)\n",
    "plt.title('Distribution of feature91 in train_data',fontsize=20)\n",
    "plt.show()"
   ]
  },
  {
   "cell_type": "code",
   "execution_count": null,
   "metadata": {},
   "outputs": [],
   "source": [
    "plt.figure(figsize=(20, 10))\n",
    "plt.scatter(range(test_data.shape[0]), test_data['feature91'].values, color='g', linewidths=0.1, alpha=0.7)\n",
    "plt.title('Distribution of feature91 in test_data',fontsize=20)\n",
    "plt.show() "
   ]
  },
  {
   "cell_type": "markdown",
   "metadata": {},
   "source": [
    "* feature92"
   ]
  },
  {
   "cell_type": "code",
   "execution_count": null,
   "metadata": {},
   "outputs": [],
   "source": [
    "plt.figure(figsize=(20, 10))\n",
    "plt.scatter(range(train_data.shape[0]), train_data['feature92'].values, color='m', linewidths=0.1, alpha=0.7)\n",
    "plt.title('Distribution of feature92 in train_data',fontsize=20)\n",
    "plt.show()"
   ]
  },
  {
   "cell_type": "code",
   "execution_count": null,
   "metadata": {},
   "outputs": [],
   "source": [
    "plt.figure(figsize=(20, 10))\n",
    "plt.scatter(range(test_data.shape[0]), test_data['feature92'].values, color='g', linewidths=0.1, alpha=0.7)\n",
    "plt.title('Distribution of feature92 in test_data',fontsize=20)\n",
    "plt.show() "
   ]
  },
  {
   "cell_type": "markdown",
   "metadata": {},
   "source": [
    "* feature93"
   ]
  },
  {
   "cell_type": "code",
   "execution_count": null,
   "metadata": {},
   "outputs": [],
   "source": [
    "plt.figure(figsize=(20, 10))\n",
    "plt.scatter(range(train_data.shape[0]), train_data['feature93'].values, color='m', linewidths=0.1, alpha=0.7)\n",
    "plt.title('Distribution of feature93 in train_data',fontsize=20)\n",
    "plt.show()"
   ]
  },
  {
   "cell_type": "code",
   "execution_count": null,
   "metadata": {},
   "outputs": [],
   "source": [
    "plt.figure(figsize=(20, 10))\n",
    "plt.scatter(range(test_data.shape[0]), test_data['feature93'].values, color='g', linewidths=0.1, alpha=0.7)\n",
    "plt.title('Distribution of feature93 in test_data',fontsize=20)\n",
    "plt.show() "
   ]
  },
  {
   "cell_type": "markdown",
   "metadata": {},
   "source": [
    "* feature94"
   ]
  },
  {
   "cell_type": "code",
   "execution_count": null,
   "metadata": {},
   "outputs": [],
   "source": [
    "plt.figure(figsize=(20, 10))\n",
    "plt.scatter(range(train_data.shape[0]), train_data['feature94'].values, color='m', linewidths=0.1, alpha=0.7)\n",
    "plt.title('Distribution of feature94 in train_data',fontsize=20)\n",
    "plt.show()"
   ]
  },
  {
   "cell_type": "code",
   "execution_count": null,
   "metadata": {},
   "outputs": [],
   "source": [
    "plt.figure(figsize=(20, 10))\n",
    "plt.scatter(range(test_data.shape[0]), test_data['feature94'].values, color='g', linewidths=0.1, alpha=0.7)\n",
    "plt.title('Distribution of feature94 in test_data',fontsize=20)\n",
    "plt.show() "
   ]
  },
  {
   "cell_type": "markdown",
   "metadata": {},
   "source": [
    "* feature95"
   ]
  },
  {
   "cell_type": "code",
   "execution_count": null,
   "metadata": {},
   "outputs": [],
   "source": [
    "plt.figure(figsize=(20, 10))\n",
    "plt.scatter(range(train_data.shape[0]), train_data['feature95'].values, color='m', linewidths=0.1, alpha=0.7)\n",
    "plt.title('Distribution of feature95 in train_data',fontsize=20)\n",
    "plt.show()"
   ]
  },
  {
   "cell_type": "code",
   "execution_count": null,
   "metadata": {},
   "outputs": [],
   "source": [
    "plt.figure(figsize=(20, 10))\n",
    "plt.scatter(range(test_data.shape[0]), test_data['feature95'].values, color='g', linewidths=0.1, alpha=0.7)\n",
    "plt.title('Distribution of feature95 in test_data',fontsize=20)\n",
    "plt.show() "
   ]
  },
  {
   "cell_type": "markdown",
   "metadata": {},
   "source": [
    "* feature96"
   ]
  },
  {
   "cell_type": "code",
   "execution_count": null,
   "metadata": {},
   "outputs": [],
   "source": [
    "plt.figure(figsize=(20, 10))\n",
    "plt.scatter(range(train_data.shape[0]), train_data['feature96'].values, color='m', linewidths=0.1, alpha=0.7)\n",
    "plt.title('Distribution of feature96 in train_data',fontsize=20)\n",
    "plt.show()"
   ]
  },
  {
   "cell_type": "code",
   "execution_count": null,
   "metadata": {},
   "outputs": [],
   "source": [
    "plt.figure(figsize=(20, 10))\n",
    "plt.scatter(range(test_data.shape[0]), test_data['feature96'].values, color='g', linewidths=0.1, alpha=0.7)\n",
    "plt.title('Distribution of feature96 in test_data',fontsize=20)\n",
    "plt.show() "
   ]
  },
  {
   "cell_type": "markdown",
   "metadata": {},
   "source": [
    "* feature97"
   ]
  },
  {
   "cell_type": "code",
   "execution_count": null,
   "metadata": {},
   "outputs": [],
   "source": [
    "plt.figure(figsize=(20, 10))\n",
    "plt.scatter(range(train_data.shape[0]), train_data['feature97'].values, color='m', linewidths=0.1, alpha=0.7)\n",
    "plt.title('Distribution of feature97 in train_data',fontsize=20)\n",
    "plt.show()"
   ]
  },
  {
   "cell_type": "code",
   "execution_count": null,
   "metadata": {},
   "outputs": [],
   "source": [
    "plt.figure(figsize=(20, 10))\n",
    "plt.scatter(range(test_data.shape[0]), test_data['feature97'].values, color='g', linewidths=0.1, alpha=0.7)\n",
    "plt.title('Distribution of feature97 in test_data',fontsize=20)\n",
    "plt.show() "
   ]
  },
  {
   "cell_type": "markdown",
   "metadata": {},
   "source": [
    "* feature98"
   ]
  },
  {
   "cell_type": "code",
   "execution_count": null,
   "metadata": {},
   "outputs": [],
   "source": [
    "plt.figure(figsize=(20, 10))\n",
    "plt.scatter(range(train_data.shape[0]), train_data['feature98'].values, color='m', linewidths=0.1, alpha=0.7)\n",
    "plt.title('Distribution of feature98 in train_data',fontsize=20)\n",
    "plt.show()"
   ]
  },
  {
   "cell_type": "code",
   "execution_count": null,
   "metadata": {},
   "outputs": [],
   "source": [
    "plt.figure(figsize=(20, 10))\n",
    "plt.scatter(range(test_data.shape[0]), test_data['feature98'].values, color='g', linewidths=0.1, alpha=0.7)\n",
    "plt.title('Distribution of feature98 in test_data',fontsize=20)\n",
    "plt.show() "
   ]
  },
  {
   "cell_type": "markdown",
   "metadata": {},
   "source": [
    "* feature99"
   ]
  },
  {
   "cell_type": "code",
   "execution_count": null,
   "metadata": {},
   "outputs": [],
   "source": [
    "plt.figure(figsize=(20, 10))\n",
    "plt.scatter(range(train_data.shape[0]), train_data['feature99'].values, color='m', linewidths=0.1, alpha=0.7)\n",
    "plt.title('Distribution of feature99 in train_data',fontsize=20)\n",
    "plt.show()"
   ]
  },
  {
   "cell_type": "code",
   "execution_count": null,
   "metadata": {},
   "outputs": [],
   "source": [
    "plt.figure(figsize=(20, 10))\n",
    "plt.scatter(range(test_data.shape[0]), test_data['feature99'].values, color='g', linewidths=0.1, alpha=0.7)\n",
    "plt.title('Distribution of feature99 in test_data',fontsize=20)\n",
    "plt.show() "
   ]
  },
  {
   "cell_type": "markdown",
   "metadata": {},
   "source": [
    "* feature100"
   ]
  },
  {
   "cell_type": "code",
   "execution_count": null,
   "metadata": {},
   "outputs": [],
   "source": [
    "plt.figure(figsize=(20, 10))\n",
    "plt.scatter(range(train_data.shape[0]), train_data['feature100'].values, color='m', linewidths=0.1, alpha=0.7)\n",
    "plt.title('Distribution of feature100 in train_data',fontsize=20)\n",
    "plt.show()"
   ]
  },
  {
   "cell_type": "code",
   "execution_count": null,
   "metadata": {},
   "outputs": [],
   "source": [
    "plt.figure(figsize=(20, 10))\n",
    "plt.scatter(range(test_data.shape[0]), test_data['feature100'].values, color='g', linewidths=0.1, alpha=0.7)\n",
    "plt.title('Distribution of feature100 in test_data',fontsize=20)\n",
    "plt.show() "
   ]
  },
  {
   "cell_type": "markdown",
   "metadata": {},
   "source": [
    "* feature101"
   ]
  },
  {
   "cell_type": "code",
   "execution_count": null,
   "metadata": {},
   "outputs": [],
   "source": [
    "plt.figure(figsize=(20, 10))\n",
    "plt.scatter(range(train_data.shape[0]), train_data['feature101'].values, color='m', linewidths=0.1, alpha=0.7)\n",
    "plt.title('Distribution of feature101 in train_data',fontsize=20)\n",
    "plt.show()"
   ]
  },
  {
   "cell_type": "code",
   "execution_count": null,
   "metadata": {},
   "outputs": [],
   "source": [
    "plt.figure(figsize=(20, 10))\n",
    "plt.scatter(range(test_data.shape[0]), test_data['feature101'].values, color='g', linewidths=0.1, alpha=0.7)\n",
    "plt.title('Distribution of feature101 in test_data',fontsize=20)\n",
    "plt.show() "
   ]
  },
  {
   "cell_type": "markdown",
   "metadata": {},
   "source": [
    "* feature102"
   ]
  },
  {
   "cell_type": "code",
   "execution_count": null,
   "metadata": {},
   "outputs": [],
   "source": [
    "plt.figure(figsize=(20, 10))\n",
    "plt.scatter(range(train_data.shape[0]), train_data['feature102'].values, color='m', linewidths=0.1, alpha=0.7)\n",
    "plt.title('Distribution of feature102 in train_data',fontsize=20)\n",
    "plt.show()"
   ]
  },
  {
   "cell_type": "code",
   "execution_count": null,
   "metadata": {},
   "outputs": [],
   "source": [
    "plt.figure(figsize=(20, 10))\n",
    "plt.scatter(range(test_data.shape[0]), test_data['feature102'].values, color='g', linewidths=0.1, alpha=0.7)\n",
    "plt.title('Distribution of feature102 in test_data',fontsize=20)\n",
    "plt.show() "
   ]
  },
  {
   "cell_type": "markdown",
   "metadata": {},
   "source": [
    "* feature103"
   ]
  },
  {
   "cell_type": "code",
   "execution_count": null,
   "metadata": {},
   "outputs": [],
   "source": [
    "plt.figure(figsize=(20, 10))\n",
    "plt.scatter(range(train_data.shape[0]), train_data['feature103'].values, color='m', linewidths=0.1, alpha=0.7)\n",
    "plt.title('Distribution of feature103 in train_data',fontsize=20)\n",
    "plt.show()"
   ]
  },
  {
   "cell_type": "code",
   "execution_count": null,
   "metadata": {},
   "outputs": [],
   "source": [
    "plt.figure(figsize=(20, 10))\n",
    "plt.scatter(range(test_data.shape[0]), test_data['feature103'].values, color='g', linewidths=0.1, alpha=0.7)\n",
    "plt.title('Distribution of feature103 in test_data',fontsize=20)\n",
    "plt.show() "
   ]
  },
  {
   "cell_type": "markdown",
   "metadata": {},
   "source": [
    "* feature104"
   ]
  },
  {
   "cell_type": "code",
   "execution_count": null,
   "metadata": {
    "scrolled": false
   },
   "outputs": [],
   "source": [
    "plt.figure(figsize=(20, 10))\n",
    "plt.scatter(range(train_data.shape[0]), train_data['feature104'].values, color='m', linewidths=0.1, alpha=0.7)\n",
    "plt.title('Distribution of feature104 in train_data',fontsize=20)\n",
    "plt.show()"
   ]
  },
  {
   "cell_type": "code",
   "execution_count": null,
   "metadata": {},
   "outputs": [],
   "source": [
    "plt.figure(figsize=(20, 10))\n",
    "plt.scatter(range(test_data.shape[0]), test_data['feature104'].values, color='g', linewidths=0.1, alpha=0.7)\n",
    "plt.title('Distribution of feature104 in test_data',fontsize=20)\n",
    "plt.show() "
   ]
  },
  {
   "cell_type": "code",
   "execution_count": null,
   "metadata": {
    "collapsed": true
   },
   "outputs": [],
   "source": []
  }
 ],
 "metadata": {
  "kernelspec": {
   "display_name": "Python 3",
   "language": "python",
   "name": "python3"
  },
  "language_info": {
   "codemirror_mode": {
    "name": "ipython",
    "version": 3
   },
   "file_extension": ".py",
   "mimetype": "text/x-python",
   "name": "python",
   "nbconvert_exporter": "python",
   "pygments_lexer": "ipython3",
   "version": "3.6.2"
  }
 },
 "nbformat": 4,
 "nbformat_minor": 1
}
