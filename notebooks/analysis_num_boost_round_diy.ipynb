{
 "cells": [
  {
   "cell_type": "markdown",
   "metadata": {},
   "source": [
    "# lgb"
   ]
  },
  {
   "cell_type": "markdown",
   "metadata": {},
   "source": [
    "## max_depth\n",
    "***"
   ]
  },
  {
   "cell_type": "code",
   "execution_count": 36,
   "metadata": {},
   "outputs": [],
   "source": [
    "color = ['r', 'b', 'g', 'y', 'k', 'm', 'gray']\n",
    "data1 = pd.read_csv('../boost_round_outputs/lgb/lgb_forward_window_postscale/lgb_lr/lgb_lr-0.003/final_logs/lgb_idx-1_t-736_c-72_log.csv')\n",
    "# data2 = pd.read_csv('../boost_round_outputs/lgb/lgb_forward_increase/lgb_cv_vr/lgb_cv-10_vr-0.1/' + \n",
    "#                     'final_logs/lgb_idx-1_t-736_c-72_log.csv')\n",
    "# data3 = pd.read_csv('../boost_round_outputs/lgb/lgb_forward_increase/lgb_cv_vr/lgb_cv-20_vr-0.1/' + \n",
    "#                     'final_logs/lgb_idx-1_t-736_c-72_log.csv')\n",
    "# data4 = pd.read_csv('../boost_round_outputs/lgb/lgb_forward_increase/lgb_cv_vr/lgb_cv-5_vr-0.2/' + \n",
    "#                     'final_logs/lgb_idx-1_t-736_c-72_log.csv')\n",
    "# data5 = pd.read_csv('../boost_round_outputs/lgb/lgb_forward_increase/lgb_cv_vr/lgb_cv-10_vr-0.2/' + \n",
    "#                     'final_logs/lgb_idx-1_t-736_c-72_log.csv')\n",
    "# data6 = pd.read_csv('../boost_round_outputs/lgb/lgb_forward_increase/lgb_cv_vr/lgb_cv-20_vr-0.2/' + \n",
    "#                     'final_logs/lgb_idx-1_t-736_c-72_log.csv')\n",
    "# data7 = pd.read_csv('../boost_round_outputs/lgb/lgb_forward_increase/lgb_cv_vr/lgb_cv-5_vr-0.1/' + \n",
    "#                     'final_logs/lgb_idx-1_t-736_c-72_log.csv')"
   ]
  },
  {
   "cell_type": "code",
   "execution_count": null,
   "metadata": {
    "scrolled": false
   },
   "outputs": [],
   "source": [
    "fig=plt.figure()\n",
    "ax=fig.add_subplot(1,1,1)\n",
    "ax.plot(data1['valid_loss'], color=color[0], label='1')\n",
    "ax.plot(data2['valid_loss'], color=color[1], label='2')\n",
    "ax.plot(data3['valid_loss'], color=color[2], label='3')\n",
    "ax.plot(data4['valid_loss'], color=color[3], label='4')\n",
    "ax.plot(data5['valid_loss'], color=color[4], label='5')\n",
    "ax.plot(data6['valid_loss'], color=color[5], label='6')\n",
    "# ax.plot(data7['valid_loss'], color=color[6], label='7')\n",
    "ax.legend(loc='best')\n",
    "# plt.ylim(0.6908, 0.6912)\n",
    "# plt.xlim(100, 150)\n",
    "fig.set_figheight(15)\n",
    "fig.set_figwidth(20)\n",
    "plt.show()"
   ]
  },
  {
   "cell_type": "code",
   "execution_count": null,
   "metadata": {
    "collapsed": true,
    "scrolled": false
   },
   "outputs": [],
   "source": [
    "fig=plt.figure()\n",
    "ax=fig.add_subplot(1,1,1)\n",
    "i_marker = -1\n",
    "i_color = 0\n",
    "for i, label in enumerate(labels):\n",
    "    if (i)%(len(param_values)) == 0:\n",
    "        i_marker += 1\n",
    "        i_color = 0\n",
    "    ax.plot(data[i]['train_loss'], color=color[i_color], label=label, marker=marker_list[i_marker])\n",
    "    i_color += 1\n",
    "ax.legend(loc='best')\n",
    "# plt.ylim(0.665, 0.680)\n",
    "# plt.xlim(100, 150)\n",
    "fig.set_figheight(15)\n",
    "fig.set_figwidth(20)\n",
    "plt.show()"
   ]
  },
  {
   "cell_type": "code",
   "execution_count": null,
   "metadata": {
    "collapsed": true
   },
   "outputs": [],
   "source": []
  }
 ],
 "metadata": {
  "kernelspec": {
   "display_name": "Python 3",
   "language": "python",
   "name": "python3"
  },
  "language_info": {
   "codemirror_mode": {
    "name": "ipython",
    "version": 3
   },
   "file_extension": ".py",
   "mimetype": "text/x-python",
   "name": "python",
   "nbconvert_exporter": "python",
   "pygments_lexer": "ipython3",
   "version": "3.6.2"
  }
 },
 "nbformat": 4,
 "nbformat_minor": 1
}
