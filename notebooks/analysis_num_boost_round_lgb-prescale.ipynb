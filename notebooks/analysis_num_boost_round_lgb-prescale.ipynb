{
 "cells": [
  {
   "cell_type": "code",
   "execution_count": null,
   "metadata": {
    "collapsed": true,
    "scrolled": true
   },
   "outputs": [],
   "source": [
    "# http://127.0.0.1:8888/?token=d8645dfa36d67d3f2ca03610ce0c3c8e01cc36bd6dfab090\n",
    "import pandas as pd\n",
    "pd.set_option('display.max_rows', None)\n",
    "pd.set_option('display.max_columns', None)\n",
    "import matplotlib.pyplot as plt\n",
    "% matplotlib inline"
   ]
  },
  {
   "cell_type": "markdown",
   "metadata": {},
   "source": [
    "# lgb"
   ]
  },
  {
   "cell_type": "code",
   "execution_count": null,
   "metadata": {
    "scrolled": false
   },
   "outputs": [],
   "source": [
    "append_info = 'merge-era_5-fold_prescale'\n",
    "param_name = 'lr'\n",
    "param_values = [0.003]\n",
    "color = ['r', 'b', 'g', 'y', 'k', 'm', 'gray']\n",
    "marker_list = ['_', 'x', '>', ',', '=']\n",
    "data = []\n",
    "labels = []\n",
    "\n",
    "idx = 1\n",
    "train_seed = 256\n",
    "cv_seed = 750\n",
    "for param_value in param_values:\n",
    "    data.append(pd.read_csv('../boost_round_outputs/lgb/lgb_'+ append_info \n",
    "                            + '/lgb_'+ param_name + \n",
    "                            '/lgb_'+ param_name+ '-' + str(param_value) \n",
    "                            + '/final_logs/lgb_idx-' + str(idx) \n",
    "                            + '_t-'+ str(train_seed) + '_c-' + str(cv_seed) + '_log.csv'))\n",
    "    labels.append(param_name + '-' + str(param_value) + '-' + str(idx))\n",
    "    \n",
    "fig=plt.figure()\n",
    "ax=fig.add_subplot(1,1,1)\n",
    "i_marker = -1\n",
    "i_color = 0\n",
    "for i, label in enumerate(labels):\n",
    "    if (i)%(len(param_values)) == 0:\n",
    "        i_marker += 1\n",
    "        i_color = 0\n",
    "    ax.plot(data[i]['valid_loss'], color=color[i_color], label=label, marker=marker_list[i_marker])\n",
    "    i_color += 1\n",
    "ax.legend(loc='best')\n",
    "# plt.ylim(0.6908, 0.6912)\n",
    "# plt.xlim(100, 150)\n",
    "fig.set_figheight(15)\n",
    "fig.set_figwidth(20)\n",
    "plt.show()"
   ]
  },
  {
   "cell_type": "markdown",
   "metadata": {},
   "source": [
    "## max_depth\n",
    "***"
   ]
  },
  {
   "cell_type": "code",
   "execution_count": null,
   "metadata": {
    "collapsed": true
   },
   "outputs": [],
   "source": [
    "append_info = 'forward_increase_weights'\n",
    "# append_info = 'forward_window'\n",
    "param_name = 'bfq'\n",
    "param_values = [1, 3, 5, 7, 9, 11]\n",
    "color = ['r', 'b', 'g', 'y', 'k', 'm', 'gray']\n",
    "marker_list = ['_', 'x', '>', ',', '=']\n",
    "data = []\n",
    "labels = []\n",
    "\n",
    "idx = 1\n",
    "train_seed = 66\n",
    "cv_seed = 113\n",
    "for param_value in param_values:\n",
    "    data.append(pd.read_csv('../boost_round_outputs/lgb/lgb_'+ append_info \n",
    "                            + '/lgb_'+ param_name+ \n",
    "                            '/lgb_'+ param_name+ '-' + str(param_value) \n",
    "                            + '/final_logs/lgb_idx-' + str(idx) \n",
    "                            + '_t-'+ str(train_seed) + '_c-' + str(cv_seed) + '_log.csv'))\n",
    "    labels.append(param_name + '-' + str(param_value) + '-' + str(idx))\n",
    "    \n",
    "# idx = 2\n",
    "# train_seed = 634\n",
    "# cv_seed = 614\n",
    "# for param_value in param_values:\n",
    "#     data.append(pd.read_csv('../boost_round_outputs/lgb/lgb_'+ append_info \n",
    "#                             + '/lgb_'+ param_name+ \n",
    "#                             '/lgb_'+ param_name+ '-' + str(param_value) \n",
    "#                             + '/final_logs/lgb_idx-' + str(idx) \n",
    "#                             + '_t-'+ str(train_seed) + '_c-' + str(cv_seed) + '_log.csv'))\n",
    "#     labels.append(param_name + '-' + str(param_value) + '-' + str(idx))\n",
    "    \n",
    "# idx = 3\n",
    "# train_seed = 547\n",
    "# cv_seed = 707\n",
    "# for param_value in param_values:\n",
    "#     data.append(pd.read_csv('../boost_round_outputs/lgb/lgb_'+ append_info \n",
    "#                             + '/lgb_'+ param_name+ \n",
    "#                             '/lgb_'+ param_name+ '-' + str(param_value) \n",
    "#                             + '/final_logs/lgb_idx-' + str(idx) \n",
    "#                             + '_t-'+ str(train_seed) + '_c-' + str(cv_seed) + '_log.csv'))\n",
    "#     labels.append(param_name + '-' + str(param_value) + '-' + str(idx))\n"
   ]
  },
  {
   "cell_type": "code",
   "execution_count": null,
   "metadata": {
    "collapsed": true,
    "scrolled": false
   },
   "outputs": [],
   "source": [
    "fig=plt.figure()\n",
    "ax=fig.add_subplot(1,1,1)\n",
    "i_marker = -1\n",
    "i_color = 0\n",
    "for i, label in enumerate(labels):\n",
    "    if (i)%(len(param_values)) == 0:\n",
    "        i_marker += 1\n",
    "        i_color = 0\n",
    "    ax.plot(data[i]['valid_loss'], color=color[i_color], label=label, marker=marker_list[i_marker])\n",
    "    i_color += 1\n",
    "ax.legend(loc='best')\n",
    "# plt.ylim(0.6908, 0.6912)\n",
    "# plt.xlim(100, 150)\n",
    "fig.set_figheight(15)\n",
    "fig.set_figwidth(20)\n",
    "plt.show()"
   ]
  },
  {
   "cell_type": "code",
   "execution_count": null,
   "metadata": {
    "collapsed": true,
    "scrolled": false
   },
   "outputs": [],
   "source": [
    "fig=plt.figure()\n",
    "ax=fig.add_subplot(1,1,1)\n",
    "i_marker = -1\n",
    "i_color = 0\n",
    "for i, label in enumerate(labels):\n",
    "    if (i)%(len(param_values)) == 0:\n",
    "        i_marker += 1\n",
    "        i_color = 0\n",
    "    ax.plot(data[i]['train_loss'], color=color[i_color], label=label, marker=marker_list[i_marker])\n",
    "    i_color += 1\n",
    "ax.legend(loc='best')\n",
    "# plt.ylim(0.665, 0.680)\n",
    "# plt.xlim(100, 150)\n",
    "fig.set_figheight(15)\n",
    "fig.set_figwidth(20)\n",
    "plt.show()"
   ]
  },
  {
   "cell_type": "code",
   "execution_count": null,
   "metadata": {
    "collapsed": true
   },
   "outputs": [],
   "source": [
    "idx = 2\n",
    "train_seed = 634\n",
    "cv_seed = 614\n",
    "data = []\n",
    "labels = []\n",
    "for param_value in param_values:\n",
    "    data.append(pd.read_csv('../boost_round_outputs/lgb/lgb_'+ append_info \n",
    "                            + '/lgb_'+ param_name+ \n",
    "                            '/lgb_'+ param_name+ '-' + str(param_value) \n",
    "                            + '/final_logs/lgb_idx-' + str(idx) \n",
    "                            + '_t-'+ str(train_seed) + '_c-' + str(cv_seed) + '_log.csv'))\n",
    "    labels.append(param_name + '-' + str(param_value) + '-' + str(idx))\n",
    "\n",
    "fig=plt.figure()\n",
    "ax=fig.add_subplot(1,1,1)\n",
    "i_marker = -1\n",
    "i_color = 0\n",
    "for i, label in enumerate(labels):\n",
    "    if (i)%(len(param_values)) == 0:\n",
    "        i_marker += 1\n",
    "        i_color = 0\n",
    "    ax.plot(data[i]['valid_loss'], color=color[i_color], label=label, marker=marker_list[i_marker])\n",
    "    i_color += 1\n",
    "ax.legend(loc='best')\n",
    "# plt.ylim(0.6908, 0.6912)\n",
    "# plt.xlim(100, 150)\n",
    "fig.set_figheight(15)\n",
    "fig.set_figwidth(20)\n",
    "plt.show()"
   ]
  },
  {
   "cell_type": "code",
   "execution_count": null,
   "metadata": {
    "collapsed": true
   },
   "outputs": [],
   "source": [
    "idx = 3\n",
    "train_seed = 547\n",
    "cv_seed = 707\n",
    "data = []\n",
    "labels = []\n",
    "for param_value in param_values:\n",
    "    data.append(pd.read_csv('../boost_round_outputs/lgb/lgb_'+ append_info \n",
    "                            + '/lgb_'+ param_name+ \n",
    "                            '/lgb_'+ param_name+ '-' + str(param_value) \n",
    "                            + '/final_logs/lgb_idx-' + str(idx) \n",
    "                            + '_t-'+ str(train_seed) + '_c-' + str(cv_seed) + '_log.csv'))\n",
    "    labels.append(param_name + '-' + str(param_value) + '-' + str(idx))\n",
    "    \n",
    "fig=plt.figure()\n",
    "ax=fig.add_subplot(1,1,1)\n",
    "i_marker = -1\n",
    "i_color = 0\n",
    "for i, label in enumerate(labels):\n",
    "    if (i)%(len(param_values)) == 0:\n",
    "        i_marker += 1\n",
    "        i_color = 0\n",
    "    ax.plot(data[i]['valid_loss'], color=color[i_color], label=label, marker=marker_list[i_marker])\n",
    "    i_color += 1\n",
    "ax.legend(loc='best')\n",
    "# plt.ylim(0.6908, 0.6912)\n",
    "# plt.xlim(100, 150)\n",
    "fig.set_figheight(15)\n",
    "fig.set_figwidth(20)\n",
    "plt.show()"
   ]
  },
  {
   "cell_type": "code",
   "execution_count": null,
   "metadata": {
    "collapsed": true
   },
   "outputs": [],
   "source": []
  }
 ],
 "metadata": {
  "kernelspec": {
   "display_name": "Python 3",
   "language": "python",
   "name": "python3"
  },
  "language_info": {
   "codemirror_mode": {
    "name": "ipython",
    "version": 3
   },
   "file_extension": ".py",
   "mimetype": "text/x-python",
   "name": "python",
   "nbconvert_exporter": "python",
   "pygments_lexer": "ipython3",
   "version": "3.6.2"
  }
 },
 "nbformat": 4,
 "nbformat_minor": 1
}
