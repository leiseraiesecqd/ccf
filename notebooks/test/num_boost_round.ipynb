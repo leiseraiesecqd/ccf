{
 "cells": [
  {
   "cell_type": "code",
   "execution_count": null,
   "metadata": {},
   "outputs": [],
   "source": [
    "import re\n",
    "f = open('../test_log.txt')\n",
    "lines = f.readlines()\n",
    "for line in lines:\n",
    "    pattern = re.compile(r'\\[(\\d*)\\]\\tTrain-logloss:(.*)\\tValid-logloss:(.*)')\n",
    "    idx_ = pattern.match(line).group(1)\n",
    "    train_loss_ = pattern.match(line).group(2)\n",
    "    valid_loss_ = pattern.match(line).group(3)\n",
    "    print(idx_, train_loss_, valid_loss_)"
   ]
  },
  {
   "cell_type": "code",
   "execution_count": null,
   "metadata": {
    "collapsed": true
   },
   "outputs": [],
   "source": []
  }
 ],
 "metadata": {
  "kernelspec": {
   "display_name": "Python 3",
   "language": "python",
   "name": "python3"
  },
  "language_info": {
   "codemirror_mode": {
    "name": "ipython",
    "version": 3
   },
   "file_extension": ".py",
   "mimetype": "text/x-python",
   "name": "python",
   "nbconvert_exporter": "python",
   "pygments_lexer": "ipython3",
   "version": "3.6.2"
  }
 },
 "nbformat": 4,
 "nbformat_minor": 2
}
