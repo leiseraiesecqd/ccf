{
 "cells": [
  {
   "cell_type": "code",
   "execution_count": null,
   "metadata": {
    "collapsed": true
   },
   "outputs": [],
   "source": [
    "import numpy as np"
   ]
  },
  {
   "cell_type": "code",
   "execution_count": null,
   "metadata": {},
   "outputs": [],
   "source": [
    "a = np.array([[1, 2, 3, 4],\n",
    "              [6, 3, 5, 2],\n",
    "              [3, 0, 2, 0]]).reshape(-1, 1, 4)\n",
    "b = np.array([[3, 2, 8, 9],\n",
    "              [7, 9, 4, 4],\n",
    "              [3, 11, 5, 2]]).reshape(-1, 1, 4)\n",
    "a"
   ]
  },
  {
   "cell_type": "code",
   "execution_count": null,
   "metadata": {},
   "outputs": [],
   "source": [
    "c = np.concatenate((a, b), axis=1)\n",
    "c"
   ]
  },
  {
   "cell_type": "code",
   "execution_count": null,
   "metadata": {},
   "outputs": [],
   "source": [
    "d = np.mean(c, axis=1)-1\n",
    "d"
   ]
  },
  {
   "cell_type": "code",
   "execution_count": null,
   "metadata": {},
   "outputs": [],
   "source": [
    "np.argsort(d, axis=1)[:, :-4:-1]"
   ]
  },
  {
   "cell_type": "code",
   "execution_count": null,
   "metadata": {},
   "outputs": [],
   "source": [
    "t = np.array([[1, 2, 3, 4, 6, 7, 8, 9],\n",
    "              [6, 3, 5, 2, 1, 1, 1 ,1],\n",
    "              [3, 0, 2, 0, 1, 1, 1, 1]])\n",
    "d = t.tolist()\n",
    "list(map(lambda x: np.random.shuffle(x), d))\n",
    "d"
   ]
  },
  {
   "cell_type": "code",
   "execution_count": null,
   "metadata": {},
   "outputs": [],
   "source": [
    "a = np.zeros_like(np.array([1, 2, 3, 4]), dtype=np.float64).reshape(-1, 1).tolist()\n",
    "a"
   ]
  },
  {
   "cell_type": "code",
   "execution_count": null,
   "metadata": {},
   "outputs": [],
   "source": [
    "c = [1, 2, 0, 3]\n",
    "d = np.array([0.5, 0.7, 0.8, 0.6])\n",
    "\n",
    "for idx_era, prob_era in zip(c, d):\n",
    "    if a[idx_era] == 0.:\n",
    "        a[idx_era][0] = prob_era\n",
    "    else:\n",
    "        a[idx_era].append(prob_era)\n",
    "a"
   ]
  },
  {
   "cell_type": "code",
   "execution_count": null,
   "metadata": {},
   "outputs": [],
   "source": [
    "np.mean(a, axis=1)"
   ]
  },
  {
   "cell_type": "code",
   "execution_count": null,
   "metadata": {},
   "outputs": [],
   "source": [
    "param_value = np.zeros((3, 12))\n",
    "parameter_grid = np.array([[1, 2], [4, 5, 6], [0, 9]])\n",
    "value_col = 0\n",
    "value_list = []\n",
    "\n",
    "def iter_(n_parameter):\n",
    "    n_parameter_next = n_parameter + 1 \n",
    "    for value in parameter_grid[n_parameter]:\n",
    "        global value_list\n",
    "        value_list.append(value)\n",
    "        if n_parameter_next < len(parameter_grid):\n",
    "            iter_(n_parameter_next)\n",
    "        else:\n",
    "            global value_col\n",
    "            value_col = value_col + 1\n",
    "            param_value[:, value_col - 1] = value_list\n",
    "        value_list.pop()\n"
   ]
  },
  {
   "cell_type": "code",
   "execution_count": null,
   "metadata": {},
   "outputs": [],
   "source": [
    "iter_(0)\n",
    "param_value"
   ]
  },
  {
   "cell_type": "code",
   "execution_count": null,
   "metadata": {},
   "outputs": [],
   "source": [
    "name = '刚娘'\n",
    "\n",
    "def weihou():\n",
    "    name='陈卓'\n",
    "    def weiweihou():\n",
    "        global name\n",
    "        name='冷静'\n",
    "    weiweihou()\n",
    "    print(name)\n",
    "\n",
    "print(name)\n",
    "weihou()\n",
    "print(name)"
   ]
  },
  {
   "cell_type": "code",
   "execution_count": null,
   "metadata": {
    "collapsed": true
   },
   "outputs": [],
   "source": []
  }
 ],
 "metadata": {
  "kernelspec": {
   "display_name": "Python 3",
   "language": "python",
   "name": "python3"
  },
  "language_info": {
   "codemirror_mode": {
    "name": "ipython",
    "version": 3
   },
   "file_extension": ".py",
   "mimetype": "text/x-python",
   "name": "python",
   "nbconvert_exporter": "python",
   "pygments_lexer": "ipython3",
   "version": "3.6.2"
  }
 },
 "nbformat": 4,
 "nbformat_minor": 2
}
