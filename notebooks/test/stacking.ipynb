{
 "cells": [
  {
   "cell_type": "code",
   "execution_count": null,
   "metadata": {
    "collapsed": true
   },
   "outputs": [],
   "source": [
    "import numpy as np"
   ]
  },
  {
   "cell_type": "code",
   "execution_count": null,
   "metadata": {},
   "outputs": [],
   "source": [
    "a = np.array([[[1, 2], [2, 3], [3, 4]],\n",
    "              [[5, 6], [6, 7], [7, 8]],\n",
    "              [[8, 9], [9, 0], [0, 1]]])\n",
    "b = np.array([[1, 2, 3],\n",
    "              [4, 5, 6],\n",
    "              [7, 8, 9]]).transpose().reshape(-1, 3, 1)\n",
    "c = np.array([[[1, 2], [2, 3], [3, 4]],\n",
    "              [[5, 6], [6, 7], [7, 8]],\n",
    "              [[8, 9], [9, 0], [0, 1]]])\n",
    "b"
   ]
  },
  {
   "cell_type": "code",
   "execution_count": null,
   "metadata": {},
   "outputs": [],
   "source": [
    "c = np.array([])\n",
    "c = np.concatenate((a, b), axis=2)\n",
    "c"
   ]
  },
  {
   "cell_type": "code",
   "execution_count": null,
   "metadata": {
    "collapsed": true
   },
   "outputs": [],
   "source": [
    "e = [[[1, 2], [2, 3], [3, 4]],\n",
    "     [[5, 6], [6, 7], [7, 8]],\n",
    "     [[8, 9], [9, 0], [0, 1]]]\n",
    "f = [1, 2, 3]\n",
    "for i, n in enumerate(f):\n",
    "    e[i][1]"
   ]
  },
  {
   "cell_type": "code",
   "execution_count": null,
   "metadata": {},
   "outputs": [],
   "source": [
    "a = [np.array([1, 2], dtype=np.float64), np.array([3, 4], dtype=np.float64),]\n",
    "type(np.array(a, dtype=np.float64))"
   ]
  },
  {
   "cell_type": "code",
   "execution_count": null,
   "metadata": {},
   "outputs": [],
   "source": [
    "x = np.array([1, 2, 3, 4, 5, 6, 7, 8])\n",
    "y = np.array([4, 5, 6, 7, 8, 9, 0, 1])\n",
    "idx = np.array([3, 6, 7])\n",
    "a = x[idx]\n",
    "b = y[idx]\n",
    "blender1 = []\n",
    "blender1.append(np.array(idx))\n",
    "blender1.append(a)\n",
    "blender1.append(b)\n",
    "blender1 = np.array(blender1)\n",
    "blender1"
   ]
  },
  {
   "cell_type": "code",
   "execution_count": null,
   "metadata": {},
   "outputs": [],
   "source": [
    "idx2 = [0, 1, 2, 4, 5]\n",
    "e = x[idx2]\n",
    "f = y[idx2]\n",
    "blender2 = []\n",
    "blender2.append(np.array(idx2))\n",
    "blender2.append(e)\n",
    "blender2.append(f)\n",
    "blender2 = np.array(blender2)\n",
    "blender2"
   ]
  },
  {
   "cell_type": "code",
   "execution_count": null,
   "metadata": {},
   "outputs": [],
   "source": [
    "h = np.concatenate((blender1, blender2), axis=1)\n",
    "np.delete(h, 0, axis=0)\n",
    "h"
   ]
  },
  {
   "cell_type": "code",
   "execution_count": null,
   "metadata": {},
   "outputs": [],
   "source": [
    "t = np.zeros_like(h)\n",
    "for i,j in enumerate(h[0]):\n",
    "    t[:,j] = h[:,i]\n",
    "o = t.transpose()\n",
    "m = np.mean(o, axis=1)\n",
    "print(o, '\\n',m)"
   ]
  },
  {
   "cell_type": "code",
   "execution_count": null,
   "metadata": {},
   "outputs": [],
   "source": [
    "t = np.delete(t, 0, axis=0)\n",
    "t"
   ]
  },
  {
   "cell_type": "code",
   "execution_count": null,
   "metadata": {},
   "outputs": [],
   "source": [
    "b = np.array([0, 1])\n",
    "a = [b]\n",
    "a.append([1, 2])\n",
    "a"
   ]
  },
  {
   "cell_type": "code",
   "execution_count": null,
   "metadata": {},
   "outputs": [],
   "source": [
    "a = np.array([[0, 1],\n",
    "              [2, 3]])\n",
    "b = np.array([[0, 1],\n",
    "              [2, 3]])\n",
    "e = b[:,-1]\n",
    "c = np.column_stack((a,e))\n",
    "c"
   ]
  },
  {
   "cell_type": "code",
   "execution_count": null,
   "metadata": {
    "scrolled": false
   },
   "outputs": [],
   "source": [
    "test = np.array([[3, 6, 7],\n",
    "                 [4, 7, 8],\n",
    "                 [7, 0, 1]])\n",
    "test = test.reshape(3, 1, -1)\n",
    "test"
   ]
  },
  {
   "cell_type": "code",
   "execution_count": null,
   "metadata": {},
   "outputs": [],
   "source": [
    "test_n = np.array([[5, 8, 9],\n",
    "                   [2, 5, 1],\n",
    "                   [3, 3, 3]])\n",
    "test_n = test_n.reshape(3, 1, -1)\n",
    "test_n"
   ]
  },
  {
   "cell_type": "code",
   "execution_count": null,
   "metadata": {},
   "outputs": [],
   "source": [
    "a = np.concatenate((test, test_n), axis=1)\n",
    "a"
   ]
  },
  {
   "cell_type": "code",
   "execution_count": null,
   "metadata": {},
   "outputs": [],
   "source": [
    "b = np.mean(a, axis=1)\n",
    "b"
   ]
  },
  {
   "cell_type": "code",
   "execution_count": null,
   "metadata": {},
   "outputs": [],
   "source": [
    "b = b.transpose()\n",
    "b"
   ]
  },
  {
   "cell_type": "code",
   "execution_count": null,
   "metadata": {},
   "outputs": [],
   "source": [
    "a = b + 1\n",
    "a"
   ]
  },
  {
   "cell_type": "code",
   "execution_count": null,
   "metadata": {},
   "outputs": [],
   "source": [
    "b = np.concatenate((b, a), axis=1)\n",
    "b"
   ]
  },
  {
   "cell_type": "code",
   "execution_count": null,
   "metadata": {},
   "outputs": [],
   "source": [
    "m = np.mean(b, axis=1)\n",
    "m"
   ]
  },
  {
   "cell_type": "code",
   "execution_count": null,
   "metadata": {},
   "outputs": [],
   "source": [
    "int(int(1))"
   ]
  },
  {
   "cell_type": "code",
   "execution_count": null,
   "metadata": {},
   "outputs": [],
   "source": [
    "g = b[:,-1]\n",
    "g"
   ]
  },
  {
   "cell_type": "code",
   "execution_count": null,
   "metadata": {},
   "outputs": [],
   "source": [
    "a = np.column_stack((b, g))\n",
    "a"
   ]
  },
  {
   "cell_type": "code",
   "execution_count": null,
   "metadata": {
    "collapsed": true
   },
   "outputs": [],
   "source": []
  }
 ],
 "metadata": {
  "kernelspec": {
   "display_name": "Python 3",
   "language": "python",
   "name": "python3"
  },
  "language_info": {
   "codemirror_mode": {
    "name": "ipython",
    "version": 3
   },
   "file_extension": ".py",
   "mimetype": "text/x-python",
   "name": "python",
   "nbconvert_exporter": "python",
   "pygments_lexer": "ipython3",
   "version": "3.6.2"
  }
 },
 "nbformat": 4,
 "nbformat_minor": 1
}
