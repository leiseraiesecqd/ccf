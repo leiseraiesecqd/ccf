{
 "cells": [
  {
   "cell_type": "code",
   "execution_count": null,
   "metadata": {
    "collapsed": true
   },
   "outputs": [],
   "source": [
    "# http://127.0.0.1:8888/?token=d8645dfa36d67d3f2ca03610ce0c3c8e01cc36bd6dfab090\n",
    "import numpy as np\n",
    "import pandas as pd\n",
    "pd.set_option('display.max_rows', None)\n",
    "pd.set_option('display.max_columns', None)\n",
    "import matplotlib.pyplot as plt\n",
    "% matplotlib inline\n",
    "import seaborn as sns\n",
    "sns.set(style=\"whitegrid\", color_codes=True)\n",
    "sns.set(font_scale=1.4)\n",
    "color = sns.color_palette()\n",
    "import sys\n",
    "sys.path.append('..')\n",
    "from models import utils"
   ]
  },
  {
   "cell_type": "markdown",
   "metadata": {},
   "source": [
    "## 读取数据以及数据预览\n",
    "***\n",
    "## Model Name"
   ]
  },
  {
   "cell_type": "code",
   "execution_count": null,
   "metadata": {
    "collapsed": true
   },
   "outputs": [],
   "source": [
    "model_name = 'xgb'\n",
    "append_info = ''"
   ]
  },
  {
   "cell_type": "markdown",
   "metadata": {},
   "source": [
    "## max_depth\n",
    "***"
   ]
  },
  {
   "cell_type": "code",
   "execution_count": null,
   "metadata": {
    "collapsed": true
   },
   "outputs": [],
   "source": [
    "full_param_name = 'max_depth'\n",
    "param_values = [8, 9, 10, 11]\n",
    "param_name = utils.get_simple_param_name(full_param_name)\n",
    "colors = ['b', 'r', 'g', 'y', 'k', 'c', 'm', 'p']\n",
    "parameters = []\n",
    "for i, value in enumerate(param_values):\n",
    "    csv_path = '../parameter_tuning/' + model_name + '/' \\\n",
    "        + model_name + '_' + append_info + '/' \\\n",
    "        + model_name + '_' + param_name + '/' \\\n",
    "        + model_name + '_' + param_name  + '-' + str(value) +  '_log.csv'\n",
    "    parameter = pd.read_csv(csv_path)\n",
    "    print(full_param_name + '_{}: {}'.format(i+1,parameter.shape))\n",
    "    parameters.append(parameter)"
   ]
  },
  {
   "cell_type": "code",
   "execution_count": null,
   "metadata": {
    "collapsed": true
   },
   "outputs": [],
   "source": [
    "sns.set(font_scale=1.8)\n",
    "plt.figure(figsize=(20, 10))\n",
    "for i, value in enumerate(param_values):\n",
    "    ax = sns.distplot(parameters[i]['loss_valid'], bins=100, kde=True, color=colors[i], kde_kws={'lw': 3, 'label':str(value)}, hist=False)\n",
    "plt.title('distribution of loss_valid')\n",
    "plt.show()"
   ]
  },
  {
   "cell_type": "code",
   "execution_count": null,
   "metadata": {
    "collapsed": true
   },
   "outputs": [],
   "source": [
    "sns.set(font_scale=1.8)\n",
    "plt.figure(figsize=(20, 10))\n",
    "for i, value in enumerate(param_values):\n",
    "    ax = sns.distplot(parameters[i]['loss_train'], bins=100, kde=True, color=colors[i], kde_kws={'lw': 3, 'label':str(value)}, hist=False)\n",
    "plt.title('distribution of loss_train')\n",
    "plt.show()"
   ]
  },
  {
   "cell_type": "code",
   "execution_count": null,
   "metadata": {
    "collapsed": true
   },
   "outputs": [],
   "source": [
    "sns.set(font_scale=1.8)\n",
    "plt.figure(figsize=(20, 10))\n",
    "for i, value in enumerate(param_values):\n",
    "    ax = sns.distplot(parameters[i]['train_accuracy'], bins=100, kde=True, color=colors[i], kde_kws={'lw': 3, 'label':str(value)}, hist=False)\n",
    "plt.title('distribution of train_accuracy')\n",
    "plt.show()"
   ]
  },
  {
   "cell_type": "markdown",
   "metadata": {},
   "source": [
    "## min_child_weight\n",
    "***"
   ]
  },
  {
   "cell_type": "code",
   "execution_count": null,
   "metadata": {
    "collapsed": true
   },
   "outputs": [],
   "source": [
    "full_param_name = 'min_child_weight'\n",
    "param_values = [2, 4, 6, 8]\n",
    "param_name = utils.get_simple_param_name(full_param_name)\n",
    "colors = ['b', 'r', 'g', 'y', 'k', 'c', 'm', 'p']\n",
    "parameters = []\n",
    "for i, value in enumerate(param_values):\n",
    "    csv_path = '../parameter_tuning/' + model_name + '/' \\\n",
    "        + model_name + '_' + append_info + '/' \\\n",
    "        + model_name + '_' + param_name + '/' \\\n",
    "        + model_name + '_' + param_name  + '-' + str(value) +  '_log.csv'\n",
    "    parameter = pd.read_csv(csv_path)\n",
    "    print(full_param_name + '_{}: {}'.format(i+1,parameter.shape))\n",
    "    parameters.append(parameter)"
   ]
  },
  {
   "cell_type": "code",
   "execution_count": null,
   "metadata": {
    "collapsed": true
   },
   "outputs": [],
   "source": [
    "sns.set(font_scale=1.8)\n",
    "plt.figure(figsize=(20, 10))\n",
    "for i, value in enumerate(param_values):\n",
    "    ax = sns.distplot(parameters[i]['loss_valid'], bins=100, kde=True, color=colors[i], kde_kws={'lw': 3, 'label':str(value)}, hist=False)\n",
    "plt.title('distribution of loss_valid')\n",
    "plt.show()"
   ]
  },
  {
   "cell_type": "code",
   "execution_count": null,
   "metadata": {
    "collapsed": true
   },
   "outputs": [],
   "source": [
    "sns.set(font_scale=1.8)\n",
    "plt.figure(figsize=(20, 10))\n",
    "for i, value in enumerate(param_values):\n",
    "    ax = sns.distplot(parameters[i]['loss_train'], bins=100, kde=True, color=colors[i], kde_kws={'lw': 3, 'label':str(value)}, hist=False)\n",
    "plt.title('distribution of loss_train')\n",
    "plt.show()"
   ]
  },
  {
   "cell_type": "code",
   "execution_count": null,
   "metadata": {
    "collapsed": true
   },
   "outputs": [],
   "source": [
    "sns.set(font_scale=1.8)\n",
    "plt.figure(figsize=(20, 10))\n",
    "for i, value in enumerate(param_values):\n",
    "    ax = sns.distplot(parameters[i]['train_accuracy'], bins=100, kde=True, color=colors[i], kde_kws={'lw': 3, 'label':str(value)}, hist=False)\n",
    "plt.title('distribution of train_accuracy')\n",
    "plt.show()"
   ]
  },
  {
   "cell_type": "markdown",
   "metadata": {},
   "source": [
    "## subsample\n",
    "***"
   ]
  },
  {
   "cell_type": "code",
   "execution_count": null,
   "metadata": {
    "collapsed": true
   },
   "outputs": [],
   "source": [
    "full_param_name = 'subsample'\n",
    "param_values = [0.9, 0.86, 0.88, 0.92]\n",
    "param_name = utils.get_simple_param_name(full_param_name)\n",
    "colors = ['b', 'r', 'g', 'y', 'k', 'c', 'm', 'p']\n",
    "parameters = []\n",
    "for i, value in enumerate(param_values):\n",
    "    csv_path = '../parameter_tuning/' + model_name + '/' \\\n",
    "        + model_name + '_' + append_info + '/' \\\n",
    "        + model_name + '_' + param_name + '/' \\\n",
    "        + model_name + '_' + param_name  + '-' + str(value) +  '_log.csv'\n",
    "    parameter = pd.read_csv(csv_path)\n",
    "    print(full_param_name + '_{}: {}'.format(i+1,parameter.shape))\n",
    "    parameters.append(parameter)"
   ]
  },
  {
   "cell_type": "code",
   "execution_count": null,
   "metadata": {
    "collapsed": true
   },
   "outputs": [],
   "source": [
    "sns.set(font_scale=1.8)\n",
    "plt.figure(figsize=(20, 10))\n",
    "for i, value in enumerate(param_values):\n",
    "    ax = sns.distplot(parameters[i]['loss_valid'], bins=100, kde=True, color=colors[i], kde_kws={'lw': 3, 'label':str(value)}, hist=False)\n",
    "plt.title('distribution of loss_valid')\n",
    "plt.show()"
   ]
  },
  {
   "cell_type": "code",
   "execution_count": null,
   "metadata": {
    "collapsed": true
   },
   "outputs": [],
   "source": [
    "sns.set(font_scale=1.8)\n",
    "plt.figure(figsize=(20, 10))\n",
    "for i, value in enumerate(param_values):\n",
    "    ax = sns.distplot(parameters[i]['loss_train'], bins=100, kde=True, color=colors[i], kde_kws={'lw': 3, 'label':str(value)}, hist=False)\n",
    "plt.title('distribution of loss_train')\n",
    "plt.show()"
   ]
  },
  {
   "cell_type": "code",
   "execution_count": null,
   "metadata": {
    "collapsed": true
   },
   "outputs": [],
   "source": [
    "sns.set(font_scale=1.8)\n",
    "plt.figure(figsize=(20, 10))\n",
    "for i, value in enumerate(param_values):\n",
    "    ax = sns.distplot(parameters[i]['train_accuracy'], bins=100, kde=True, color=colors[i], kde_kws={'lw': 3, 'label':str(value)}, hist=False)\n",
    "plt.title('distribution of train_accuracy')\n",
    "plt.show()"
   ]
  },
  {
   "cell_type": "markdown",
   "metadata": {},
   "source": [
    "## colsample_bytree\n",
    "***"
   ]
  },
  {
   "cell_type": "code",
   "execution_count": null,
   "metadata": {
    "collapsed": true
   },
   "outputs": [],
   "source": [
    "full_param_name = 'colsample_bytree'\n",
    "param_values = [0.7, 0.75, 0.8, 0.85]\n",
    "param_name = utils.get_simple_param_name(full_param_name)\n",
    "colors = ['b', 'r', 'g', 'y', 'k', 'c', 'm', 'p']\n",
    "parameters = []\n",
    "for i, value in enumerate(param_values):\n",
    "    csv_path = '../parameter_tuning/' + model_name + '/' \\\n",
    "        + model_name + '_' + append_info + '/' \\\n",
    "        + model_name + '_' + param_name + '/' \\\n",
    "        + model_name + '_' + param_name  + '-' + str(value) +  '_log.csv'\n",
    "    parameter = pd.read_csv(csv_path)\n",
    "    print(full_param_name + '_{}: {}'.format(i+1,parameter.shape))\n",
    "    parameters.append(parameter)"
   ]
  },
  {
   "cell_type": "code",
   "execution_count": null,
   "metadata": {
    "collapsed": true
   },
   "outputs": [],
   "source": [
    "sns.set(font_scale=1.8)\n",
    "plt.figure(figsize=(20, 10))\n",
    "for i, value in enumerate(param_values):\n",
    "    ax = sns.distplot(parameters[i]['loss_valid'], bins=100, kde=True, color=colors[i], kde_kws={'lw': 3, 'label':str(value)}, hist=False)\n",
    "plt.title('distribution of loss_valid')\n",
    "plt.show()"
   ]
  },
  {
   "cell_type": "code",
   "execution_count": null,
   "metadata": {
    "collapsed": true
   },
   "outputs": [],
   "source": [
    "sns.set(font_scale=1.8)\n",
    "plt.figure(figsize=(20, 10))\n",
    "for i, value in enumerate(param_values):\n",
    "    ax = sns.distplot(parameters[i]['loss_train'], bins=100, kde=True, color=colors[i], kde_kws={'lw': 3, 'label':str(value)}, hist=False)\n",
    "plt.title('distribution of loss_train')\n",
    "plt.show()"
   ]
  },
  {
   "cell_type": "code",
   "execution_count": null,
   "metadata": {
    "collapsed": true
   },
   "outputs": [],
   "source": [
    "sns.set(font_scale=1.8)\n",
    "plt.figure(figsize=(20, 10))\n",
    "for i, value in enumerate(param_values):\n",
    "    ax = sns.distplot(parameters[i]['train_accuracy'], bins=100, kde=True, color=colors[i], kde_kws={'lw': 3, 'label':str(value)}, hist=False)\n",
    "plt.title('distribution of train_accuracy')\n",
    "plt.show()"
   ]
  },
  {
   "cell_type": "markdown",
   "metadata": {},
   "source": [
    "## colsample_bylevel\n",
    "***"
   ]
  },
  {
   "cell_type": "code",
   "execution_count": null,
   "metadata": {
    "collapsed": true
   },
   "outputs": [],
   "source": [
    "full_param_name = 'colsample_bylevel'\n",
    "param_values = [0.65, 0.7, 0.75, 0.8]\n",
    "param_name = utils.get_simple_param_name(full_param_name)\n",
    "colors = ['b', 'r', 'g', 'y', 'k', 'c', 'm', 'p']\n",
    "parameters = []\n",
    "for i, value in enumerate(param_values):\n",
    "    csv_path = '../parameter_tuning/' + model_name + '/' \\\n",
    "        + model_name + '_' + append_info + '/' \\\n",
    "        + model_name + '_' + param_name + '/' \\\n",
    "        + model_name + '_' + param_name  + '-' + str(value) +  '_log.csv'\n",
    "    parameter = pd.read_csv(csv_path)\n",
    "    print(full_param_name + '_{}: {}'.format(i+1,parameter.shape))\n",
    "    parameters.append(parameter)"
   ]
  },
  {
   "cell_type": "code",
   "execution_count": null,
   "metadata": {
    "collapsed": true
   },
   "outputs": [],
   "source": [
    "sns.set(font_scale=1.8)\n",
    "plt.figure(figsize=(20, 10))\n",
    "for i, value in enumerate(param_values):\n",
    "    ax = sns.distplot(parameters[i]['loss_valid'], bins=100, kde=True, color=colors[i], kde_kws={'lw': 3, 'label':str(value)}, hist=False)\n",
    "plt.title('distribution of loss_valid')\n",
    "plt.show()"
   ]
  },
  {
   "cell_type": "code",
   "execution_count": null,
   "metadata": {
    "collapsed": true
   },
   "outputs": [],
   "source": [
    "sns.set(font_scale=1.8)\n",
    "plt.figure(figsize=(20, 10))\n",
    "for i, value in enumerate(param_values):\n",
    "    ax = sns.distplot(parameters[i]['loss_train'], bins=100, kde=True, color=colors[i], kde_kws={'lw': 3, 'label':str(value)}, hist=False)\n",
    "plt.title('distribution of loss_train')\n",
    "plt.show()"
   ]
  },
  {
   "cell_type": "code",
   "execution_count": null,
   "metadata": {
    "collapsed": true
   },
   "outputs": [],
   "source": [
    "sns.set(font_scale=1.8)\n",
    "plt.figure(figsize=(20, 10))\n",
    "for i, value in enumerate(param_values):\n",
    "    ax = sns.distplot(parameters[i]['train_accuracy'], bins=100, kde=True, color=colors[i], kde_kws={'lw': 3, 'label':str(value)}, hist=False)\n",
    "plt.title('distribution of train_accuracy')\n",
    "plt.show()"
   ]
  }
 ],
 "metadata": {
  "kernelspec": {
   "display_name": "Python 3",
   "language": "python",
   "name": "python3"
  },
  "language_info": {
   "codemirror_mode": {
    "name": "ipython",
    "version": 3
   },
   "file_extension": ".py",
   "mimetype": "text/x-python",
   "name": "python",
   "nbconvert_exporter": "python",
   "pygments_lexer": "ipython3",
   "version": "3.6.2"
  }
 },
 "nbformat": 4,
 "nbformat_minor": 2
}
