{
 "cells": [
  {
   "cell_type": "code",
   "execution_count": null,
   "metadata": {
    "collapsed": true,
    "scrolled": true
   },
   "outputs": [],
   "source": [
    "# http://127.0.0.1:8888/?token=d8645dfa36d67d3f2ca03610ce0c3c8e01cc36bd6dfab090\n",
    "import numpy as np\n",
    "import pandas as pd\n",
    "pd.set_option('display.max_rows', None)\n",
    "pd.set_option('display.max_columns', None)\n",
    "import matplotlib.pyplot as plt\n",
    "% matplotlib inline\n",
    "import seaborn as sns\n",
    "sns.set(style=\"whitegrid\", color_codes=True)\n",
    "sns.set(font_scale=1.4)\n",
    "color = sns.color_palette()"
   ]
  },
  {
   "cell_type": "markdown",
   "metadata": {},
   "source": [
    "# 读取数据"
   ]
  },
  {
   "cell_type": "code",
   "execution_count": null,
   "metadata": {},
   "outputs": [],
   "source": [
    "train_data = pd.read_csv('C:/Users/54wy/Desktop/AI Challenger/Stock/Stock_Week10/inputs/stock_train_data_20171103.csv')\n",
    "print('Shape train_data: {}\\n'.format(train_data.shape))"
   ]
  },
  {
   "cell_type": "code",
   "execution_count": null,
   "metadata": {
    "collapsed": true
   },
   "outputs": [],
   "source": [
    "# train_data.describe().T"
   ]
  },
  {
   "cell_type": "markdown",
   "metadata": {},
   "source": [
    "# 按照era将train_data分割为135份，依据label比例提取问题era"
   ]
  },
  {
   "cell_type": "markdown",
   "metadata": {},
   "source": [
    "## 按era分割\n",
    "***"
   ]
  },
  {
   "cell_type": "code",
   "execution_count": null,
   "metadata": {
    "collapsed": true
   },
   "outputs": [],
   "source": [
    "X_train = train_data\n",
    "X_train_era0 = train_data[train_data['era'] == 0]\n",
    "X_train_era1 = train_data[train_data['era'] == 1]\n",
    "X_train_era2 = train_data[train_data['era'] == 2]\n",
    "X_train_era3 = train_data[train_data['era'] == 3]\n",
    "X_train_era4 = train_data[train_data['era'] == 4]\n",
    "X_train_era5 = train_data[train_data['era'] == 5]\n",
    "X_train_era6 = train_data[train_data['era'] == 6]\n",
    "X_train_era7 = train_data[train_data['era'] == 7]\n",
    "X_train_era8 = train_data[train_data['era'] == 8]\n",
    "X_train_era9 = train_data[train_data['era'] == 9]\n",
    "X_train_era10 = train_data[train_data['era'] == 10]\n",
    "X_train_era11 = train_data[train_data['era'] == 11]\n",
    "X_train_era12 = train_data[train_data['era'] == 12]\n",
    "X_train_era13 = train_data[train_data['era'] == 13]\n",
    "X_train_era14 = train_data[train_data['era'] == 14]\n",
    "X_train_era15 = train_data[train_data['era'] == 15]\n",
    "X_train_era16 = train_data[train_data['era'] == 16]\n",
    "X_train_era17 = train_data[train_data['era'] == 17]\n",
    "X_train_era18 = train_data[train_data['era'] == 18]\n",
    "X_train_era19 = train_data[train_data['era'] == 19]\n",
    "X_train_era20 = train_data[train_data['era'] == 20]\n",
    "X_train_era21 = train_data[train_data['era'] == 21]\n",
    "X_train_era22 = train_data[train_data['era'] == 22]\n",
    "X_train_era23 = train_data[train_data['era'] == 23]\n",
    "X_train_era24 = train_data[train_data['era'] == 24]\n",
    "X_train_era25 = train_data[train_data['era'] == 25]\n",
    "X_train_era26 = train_data[train_data['era'] == 26]\n",
    "X_train_era27 = train_data[train_data['era'] == 27]\n",
    "X_train_era28 = train_data[train_data['era'] == 28]\n",
    "X_train_era29 = train_data[train_data['era'] == 29]\n",
    "X_train_era30 = train_data[train_data['era'] == 30]\n",
    "X_train_era31 = train_data[train_data['era'] == 31]\n",
    "X_train_era32 = train_data[train_data['era'] == 32]\n",
    "X_train_era33 = train_data[train_data['era'] == 33]\n",
    "X_train_era34 = train_data[train_data['era'] == 34]\n",
    "X_train_era35 = train_data[train_data['era'] == 35]\n",
    "X_train_era36 = train_data[train_data['era'] == 36]\n",
    "X_train_era37 = train_data[train_data['era'] == 37]\n",
    "X_train_era38 = train_data[train_data['era'] == 38]\n",
    "X_train_era39 = train_data[train_data['era'] == 39]\n",
    "X_train_era40 = train_data[train_data['era'] == 40]\n",
    "X_train_era41 = train_data[train_data['era'] == 41]\n",
    "X_train_era42 = train_data[train_data['era'] == 42]\n",
    "X_train_era43 = train_data[train_data['era'] == 43]\n",
    "X_train_era44 = train_data[train_data['era'] == 44]\n",
    "X_train_era45 = train_data[train_data['era'] == 45]\n",
    "X_train_era46 = train_data[train_data['era'] == 46]\n",
    "X_train_era47 = train_data[train_data['era'] == 47]\n",
    "X_train_era48 = train_data[train_data['era'] == 48]\n",
    "X_train_era49 = train_data[train_data['era'] == 49]\n",
    "X_train_era50 = train_data[train_data['era'] == 50]\n",
    "X_train_era51 = train_data[train_data['era'] == 51]\n",
    "X_train_era52 = train_data[train_data['era'] == 52]\n",
    "X_train_era53 = train_data[train_data['era'] == 53]\n",
    "X_train_era54 = train_data[train_data['era'] == 54]\n",
    "X_train_era55 = train_data[train_data['era'] == 55]\n",
    "X_train_era56 = train_data[train_data['era'] == 56]\n",
    "X_train_era57 = train_data[train_data['era'] == 57]\n",
    "X_train_era58 = train_data[train_data['era'] == 58]\n",
    "X_train_era59 = train_data[train_data['era'] == 59]\n",
    "X_train_era60 = train_data[train_data['era'] == 60]\n",
    "X_train_era61 = train_data[train_data['era'] == 61]\n",
    "X_train_era62 = train_data[train_data['era'] == 62]\n",
    "X_train_era63 = train_data[train_data['era'] == 63]\n",
    "X_train_era64 = train_data[train_data['era'] == 64]\n",
    "X_train_era65 = train_data[train_data['era'] == 65]\n",
    "X_train_era66 = train_data[train_data['era'] == 66]\n",
    "X_train_era67 = train_data[train_data['era'] == 67]\n",
    "X_train_era68 = train_data[train_data['era'] == 68]\n",
    "X_train_era69 = train_data[train_data['era'] == 69]\n",
    "X_train_era70 = train_data[train_data['era'] == 70]\n",
    "X_train_era71 = train_data[train_data['era'] == 71]\n",
    "X_train_era72 = train_data[train_data['era'] == 72]\n",
    "X_train_era73 = train_data[train_data['era'] == 73]\n",
    "X_train_era74 = train_data[train_data['era'] == 74]\n",
    "X_train_era75 = train_data[train_data['era'] == 75]\n",
    "X_train_era76 = train_data[train_data['era'] == 76]\n",
    "X_train_era77 = train_data[train_data['era'] == 77]\n",
    "X_train_era78 = train_data[train_data['era'] == 78]\n",
    "X_train_era79 = train_data[train_data['era'] == 79]\n",
    "X_train_era80 = train_data[train_data['era'] == 80]\n",
    "X_train_era81 = train_data[train_data['era'] == 81]\n",
    "X_train_era82 = train_data[train_data['era'] == 82]\n",
    "X_train_era83 = train_data[train_data['era'] == 83]\n",
    "X_train_era84 = train_data[train_data['era'] == 84]\n",
    "X_train_era85 = train_data[train_data['era'] == 85]\n",
    "X_train_era86 = train_data[train_data['era'] == 86]\n",
    "X_train_era87 = train_data[train_data['era'] == 87]\n",
    "X_train_era88 = train_data[train_data['era'] == 88]\n",
    "X_train_era89 = train_data[train_data['era'] == 89]\n",
    "X_train_era90 = train_data[train_data['era'] == 90]\n",
    "X_train_era91 = train_data[train_data['era'] == 91]\n",
    "X_train_era92 = train_data[train_data['era'] == 92]\n",
    "X_train_era93 = train_data[train_data['era'] == 93]\n",
    "X_train_era94 = train_data[train_data['era'] == 94]\n",
    "X_train_era95 = train_data[train_data['era'] == 95]\n",
    "X_train_era96 = train_data[train_data['era'] == 96]\n",
    "X_train_era97 = train_data[train_data['era'] == 97]\n",
    "X_train_era98 = train_data[train_data['era'] == 98]\n",
    "X_train_era99 = train_data[train_data['era'] == 99]\n",
    "X_train_era100 = train_data[train_data['era'] == 100]\n",
    "X_train_era101 = train_data[train_data['era'] == 101]\n",
    "X_train_era102 = train_data[train_data['era'] == 102]\n",
    "X_train_era103 = train_data[train_data['era'] == 103]\n",
    "X_train_era104 = train_data[train_data['era'] == 104]\n",
    "X_train_era105 = train_data[train_data['era'] == 105]\n",
    "X_train_era106 = train_data[train_data['era'] == 106]\n",
    "X_train_era107 = train_data[train_data['era'] == 107]\n",
    "X_train_era108 = train_data[train_data['era'] == 108]\n",
    "X_train_era109 = train_data[train_data['era'] == 109]\n",
    "X_train_era110 = train_data[train_data['era'] == 110]\n",
    "X_train_era111 = train_data[train_data['era'] == 111]\n",
    "X_train_era112 = train_data[train_data['era'] == 112]\n",
    "X_train_era113 = train_data[train_data['era'] == 113]\n",
    "X_train_era114 = train_data[train_data['era'] == 114]\n",
    "X_train_era115 = train_data[train_data['era'] == 115]\n",
    "X_train_era116 = train_data[train_data['era'] == 116]\n",
    "X_train_era117 = train_data[train_data['era'] == 117]\n",
    "X_train_era118 = train_data[train_data['era'] == 118]\n",
    "X_train_era119 = train_data[train_data['era'] == 119]\n",
    "X_train_era120 = train_data[train_data['era'] == 120]\n",
    "X_train_era121 = train_data[train_data['era'] == 121]\n",
    "X_train_era122 = train_data[train_data['era'] == 122]\n",
    "X_train_era123 = train_data[train_data['era'] == 123]\n",
    "X_train_era124 = train_data[train_data['era'] == 124]\n",
    "X_train_era125 = train_data[train_data['era'] == 125]\n",
    "X_train_era126 = train_data[train_data['era'] == 126]\n",
    "X_train_era127 = train_data[train_data['era'] == 127]\n",
    "X_train_era128 = train_data[train_data['era'] == 128]\n",
    "X_train_era129 = train_data[train_data['era'] == 129]\n",
    "X_train_era130 = train_data[train_data['era'] == 130]\n",
    "X_train_era131 = train_data[train_data['era'] == 131]\n",
    "X_train_era132 = train_data[train_data['era'] == 132]\n",
    "X_train_era133 = train_data[train_data['era'] == 133]\n",
    "X_train_era134 = train_data[train_data['era'] == 134]"
   ]
  },
  {
   "cell_type": "markdown",
   "metadata": {},
   "source": [
    "## era数据大小&label比例统计\n",
    "***"
   ]
  },
  {
   "cell_type": "markdown",
   "metadata": {},
   "source": [
    "* 总数据"
   ]
  },
  {
   "cell_type": "code",
   "execution_count": null,
   "metadata": {},
   "outputs": [],
   "source": [
    "print('Total instances in X_train: {}\\n'.format(train_data.shape[0]))\n",
    "print('label 1 ratio: {}\\n'.format(sum(train_data['label']) / train_data.shape[0]))\n",
    "print('label 0 ratio: {}\\n'.format(len(train_data[train_data['label'] == 0]) / train_data.shape[0]))"
   ]
  },
  {
   "cell_type": "markdown",
   "metadata": {},
   "source": [
    "* era 0-134"
   ]
  },
  {
   "cell_type": "code",
   "execution_count": null,
   "metadata": {},
   "outputs": [],
   "source": [
    "print('Total instances in X_train_era0: {}\\n'.format(X_train_era0.shape[0]))\n",
    "print('label 1 ratio: {}\\n'.format(sum(X_train_era0['label']) / X_train_era0.shape[0]))\n",
    "print('label 0 ratio: {}\\n'.format(len(X_train_era0[X_train_era0['label'] == 0]) / X_train_era0.shape[0]))"
   ]
  },
  {
   "cell_type": "code",
   "execution_count": null,
   "metadata": {},
   "outputs": [],
   "source": [
    "print('Total instances in X_train_era1: {}\\n'.format(X_train_era1.shape[0]))\n",
    "print('label 1 ratio: {}\\n'.format(sum(X_train_era1['label']) / X_train_era1.shape[0]))\n",
    "print('label 0 ratio: {}\\n'.format(len(X_train_era1[X_train_era1['label'] == 0]) / X_train_era1.shape[0]))"
   ]
  },
  {
   "cell_type": "code",
   "execution_count": null,
   "metadata": {},
   "outputs": [],
   "source": [
    "print('Total instances in X_train_era2: {}\\n'.format(X_train_era2.shape[0]))\n",
    "print('label 1 ratio: {}\\n'.format(sum(X_train_era2['label']) / X_train_era2.shape[0]))\n",
    "print('label 0 ratio: {}\\n'.format(len(X_train_era2[X_train_era2['label'] == 0]) / X_train_era2.shape[0]))"
   ]
  },
  {
   "cell_type": "code",
   "execution_count": null,
   "metadata": {},
   "outputs": [],
   "source": [
    "print('Total instances in X_train_era3: {}\\n'.format(X_train_era3.shape[0]))\n",
    "print('label 1 ratio: {}\\n'.format(sum(X_train_era3['label']) / X_train_era3.shape[0]))\n",
    "print('label 0 ratio: {}\\n'.format(len(X_train_era3[X_train_era3['label'] == 0]) / X_train_era3.shape[0]))"
   ]
  },
  {
   "cell_type": "code",
   "execution_count": null,
   "metadata": {},
   "outputs": [],
   "source": [
    "print('Total instances in X_train_era4: {}\\n'.format(X_train_era4.shape[0]))\n",
    "print('label 1 ratio: {}\\n'.format(sum(X_train_era4['label']) / X_train_era4.shape[0]))\n",
    "print('label 0 ratio: {}\\n'.format(len(X_train_era4[X_train_era4['label'] == 0]) / X_train_era4.shape[0]))"
   ]
  },
  {
   "cell_type": "code",
   "execution_count": null,
   "metadata": {},
   "outputs": [],
   "source": [
    "print('Total instances in X_train_era5: {}\\n'.format(X_train_era5.shape[0]))\n",
    "print('label 1 ratio: {}\\n'.format(sum(X_train_era5['label']) / X_train_era5.shape[0]))\n",
    "print('label 0 ratio: {}\\n'.format(len(X_train_era5[X_train_era5['label'] == 0]) / X_train_era5.shape[0]))"
   ]
  },
  {
   "cell_type": "code",
   "execution_count": null,
   "metadata": {},
   "outputs": [],
   "source": [
    "print('Total instances in X_train_era6: {}\\n'.format(X_train_era6.shape[0]))\n",
    "print('label 1 ratio: {}\\n'.format(sum(X_train_era6['label']) / X_train_era6.shape[0]))\n",
    "print('label 0 ratio: {}\\n'.format(len(X_train_era6[X_train_era6['label'] == 0]) / X_train_era6.shape[0]))"
   ]
  },
  {
   "cell_type": "code",
   "execution_count": null,
   "metadata": {},
   "outputs": [],
   "source": [
    "print('Total instances in X_train_era7: {}\\n'.format(X_train_era7.shape[0]))\n",
    "print('label 1 ratio: {}\\n'.format(sum(X_train_era7['label']) / X_train_era7.shape[0]))\n",
    "print('label 0 ratio: {}\\n'.format(len(X_train_era7[X_train_era7['label'] == 0]) / X_train_era7.shape[0]))"
   ]
  },
  {
   "cell_type": "code",
   "execution_count": null,
   "metadata": {},
   "outputs": [],
   "source": [
    "print('Total instances in X_train_era8: {}\\n'.format(X_train_era8.shape[0]))\n",
    "print('label 1 ratio: {}\\n'.format(sum(X_train_era8['label']) / X_train_era8.shape[0]))\n",
    "print('label 0 ratio: {}\\n'.format(len(X_train_era8[X_train_era8['label'] == 0]) / X_train_era8.shape[0]))"
   ]
  },
  {
   "cell_type": "code",
   "execution_count": null,
   "metadata": {},
   "outputs": [],
   "source": [
    "print('Total instances in X_train_era9: {}\\n'.format(X_train_era9.shape[0]))\n",
    "print('label 1 ratio: {}\\n'.format(sum(X_train_era9['label']) / X_train_era9.shape[0]))\n",
    "print('label 0 ratio: {}\\n'.format(len(X_train_era9[X_train_era9['label'] == 0]) / X_train_era9.shape[0]))"
   ]
  },
  {
   "cell_type": "code",
   "execution_count": null,
   "metadata": {},
   "outputs": [],
   "source": [
    "print('Total instances in X_train_era10: {}\\n'.format(X_train_era10.shape[0]))\n",
    "print('label 1 ratio: {}\\n'.format(sum(X_train_era10['label']) / X_train_era10.shape[0]))\n",
    "print('label 0 ratio: {}\\n'.format(len(X_train_era10[X_train_era10['label'] == 0]) / X_train_era10.shape[0]))"
   ]
  },
  {
   "cell_type": "code",
   "execution_count": null,
   "metadata": {},
   "outputs": [],
   "source": [
    "print('Total instances in X_train_era11: {}\\n'.format(X_train_era11.shape[0]))\n",
    "print('label 1 ratio: {}\\n'.format(sum(X_train_era11['label']) / X_train_era11.shape[0]))\n",
    "print('label 0 ratio: {}\\n'.format(len(X_train_era11[X_train_era11['label'] == 0]) / X_train_era11.shape[0]))"
   ]
  },
  {
   "cell_type": "code",
   "execution_count": null,
   "metadata": {},
   "outputs": [],
   "source": [
    "print('Total instances in X_train_era12: {}\\n'.format(X_train_era12.shape[0]))\n",
    "print('label 1 ratio: {}\\n'.format(sum(X_train_era12['label']) / X_train_era12.shape[0]))\n",
    "print('label 0 ratio: {}\\n'.format(len(X_train_era12[X_train_era12['label'] == 0]) / X_train_era12.shape[0]))"
   ]
  },
  {
   "cell_type": "code",
   "execution_count": null,
   "metadata": {},
   "outputs": [],
   "source": [
    "print('Total instances in X_train_era13: {}\\n'.format(X_train_era13.shape[0]))\n",
    "print('label 1 ratio: {}\\n'.format(sum(X_train_era13['label']) / X_train_era13.shape[0]))\n",
    "print('label 0 ratio: {}\\n'.format(len(X_train_era13[X_train_era13['label'] == 0]) / X_train_era13.shape[0]))"
   ]
  },
  {
   "cell_type": "code",
   "execution_count": null,
   "metadata": {},
   "outputs": [],
   "source": [
    "print('Total instances in X_train_era14: {}\\n'.format(X_train_era14.shape[0]))\n",
    "print('label 1 ratio: {}\\n'.format(sum(X_train_era14['label']) / X_train_era14.shape[0]))\n",
    "print('label 0 ratio: {}\\n'.format(len(X_train_era14[X_train_era14['label'] == 0]) / X_train_era14.shape[0]))"
   ]
  },
  {
   "cell_type": "code",
   "execution_count": null,
   "metadata": {},
   "outputs": [],
   "source": [
    "print('Total instances in X_train_era15: {}\\n'.format(X_train_era15.shape[0]))\n",
    "print('label 1 ratio: {}\\n'.format(sum(X_train_era15['label']) / X_train_era15.shape[0]))\n",
    "print('label 0 ratio: {}\\n'.format(len(X_train_era15[X_train_era15['label'] == 0]) / X_train_era15.shape[0]))"
   ]
  },
  {
   "cell_type": "code",
   "execution_count": null,
   "metadata": {},
   "outputs": [],
   "source": [
    "print('Total instances in X_train_era16: {}\\n'.format(X_train_era16.shape[0]))\n",
    "print('label 1 ratio: {}\\n'.format(sum(X_train_era16['label']) / X_train_era16.shape[0]))\n",
    "print('label 0 ratio: {}\\n'.format(len(X_train_era16[X_train_era16['label'] == 0]) / X_train_era16.shape[0]))"
   ]
  },
  {
   "cell_type": "code",
   "execution_count": null,
   "metadata": {},
   "outputs": [],
   "source": [
    "print('Total instances in X_train_era17: {}\\n'.format(X_train_era17.shape[0]))\n",
    "print('label 1 ratio: {}\\n'.format(sum(X_train_era17['label']) / X_train_era17.shape[0]))\n",
    "print('label 0 ratio: {}\\n'.format(len(X_train_era17[X_train_era17['label'] == 0]) / X_train_era17.shape[0]))"
   ]
  },
  {
   "cell_type": "code",
   "execution_count": null,
   "metadata": {},
   "outputs": [],
   "source": [
    "print('Total instances in X_train_era18: {}\\n'.format(X_train_era18.shape[0]))\n",
    "print('label 1 ratio: {}\\n'.format(sum(X_train_era18['label']) / X_train_era18.shape[0]))\n",
    "print('label 0 ratio: {}\\n'.format(len(X_train_era18[X_train_era18['label'] == 0]) / X_train_era18.shape[0]))"
   ]
  },
  {
   "cell_type": "code",
   "execution_count": null,
   "metadata": {},
   "outputs": [],
   "source": [
    "print('Total instances in X_train_era19: {}\\n'.format(X_train_era19.shape[0]))\n",
    "print('label 1 ratio: {}\\n'.format(sum(X_train_era19['label']) / X_train_era19.shape[0]))\n",
    "print('label 0 ratio: {}\\n'.format(len(X_train_era19[X_train_era19['label'] == 0]) / X_train_era19.shape[0]))"
   ]
  },
  {
   "cell_type": "code",
   "execution_count": null,
   "metadata": {},
   "outputs": [],
   "source": [
    "print('Total instances in X_train_era20: {}\\n'.format(X_train_era20.shape[0]))\n",
    "print('label 1 ratio: {}\\n'.format(sum(X_train_era20['label']) / X_train_era20.shape[0]))\n",
    "print('label 0 ratio: {}\\n'.format(len(X_train_era20[X_train_era20['label'] == 0]) / X_train_era20.shape[0]))"
   ]
  },
  {
   "cell_type": "code",
   "execution_count": null,
   "metadata": {},
   "outputs": [],
   "source": [
    "print('Total instances in X_train_era21: {}\\n'.format(X_train_era21.shape[0]))\n",
    "print('label 1 ratio: {}\\n'.format(sum(X_train_era21['label']) / X_train_era21.shape[0]))\n",
    "print('label 0 ratio: {}\\n'.format(len(X_train_era21[X_train_era21['label'] == 0]) / X_train_era21.shape[0]))"
   ]
  },
  {
   "cell_type": "code",
   "execution_count": null,
   "metadata": {},
   "outputs": [],
   "source": [
    "print('Total instances in X_train_era22: {}\\n'.format(X_train_era22.shape[0]))\n",
    "print('label 1 ratio: {}\\n'.format(sum(X_train_era22['label']) / X_train_era22.shape[0]))\n",
    "print('label 0 ratio: {}\\n'.format(len(X_train_era22[X_train_era22['label'] == 0]) / X_train_era22.shape[0]))"
   ]
  },
  {
   "cell_type": "code",
   "execution_count": null,
   "metadata": {},
   "outputs": [],
   "source": [
    "print('Total instances in X_train_era23: {}\\n'.format(X_train_era23.shape[0]))\n",
    "print('label 1 ratio: {}\\n'.format(sum(X_train_era23['label']) / X_train_era23.shape[0]))\n",
    "print('label 0 ratio: {}\\n'.format(len(X_train_era23[X_train_era23['label'] == 0]) / X_train_era23.shape[0]))"
   ]
  },
  {
   "cell_type": "code",
   "execution_count": null,
   "metadata": {},
   "outputs": [],
   "source": [
    "print('Total instances in X_train_era24: {}\\n'.format(X_train_era24.shape[0]))\n",
    "print('label 1 ratio: {}\\n'.format(sum(X_train_era24['label']) / X_train_era24.shape[0]))\n",
    "print('label 0 ratio: {}\\n'.format(len(X_train_era24[X_train_era24['label'] == 0]) / X_train_era24.shape[0]))"
   ]
  },
  {
   "cell_type": "code",
   "execution_count": null,
   "metadata": {},
   "outputs": [],
   "source": [
    "print('Total instances in X_train_era25: {}\\n'.format(X_train_era25.shape[0]))\n",
    "print('label 1 ratio: {}\\n'.format(sum(X_train_era25['label']) / X_train_era25.shape[0]))\n",
    "print('label 0 ratio: {}\\n'.format(len(X_train_era25[X_train_era25['label'] == 0]) / X_train_era25.shape[0]))"
   ]
  },
  {
   "cell_type": "code",
   "execution_count": null,
   "metadata": {},
   "outputs": [],
   "source": [
    "print('Total instances in X_train_era26: {}\\n'.format(X_train_era26.shape[0]))\n",
    "print('label 1 ratio: {}\\n'.format(sum(X_train_era26['label']) / X_train_era26.shape[0]))\n",
    "print('label 0 ratio: {}\\n'.format(len(X_train_era26[X_train_era26['label'] == 0]) / X_train_era26.shape[0]))"
   ]
  },
  {
   "cell_type": "code",
   "execution_count": null,
   "metadata": {},
   "outputs": [],
   "source": [
    "print('Total instances in X_train_era27: {}\\n'.format(X_train_era27.shape[0]))\n",
    "print('label 1 ratio: {}\\n'.format(sum(X_train_era27['label']) / X_train_era27.shape[0]))\n",
    "print('label 0 ratio: {}\\n'.format(len(X_train_era27[X_train_era27['label'] == 0]) / X_train_era27.shape[0]))"
   ]
  },
  {
   "cell_type": "code",
   "execution_count": null,
   "metadata": {},
   "outputs": [],
   "source": [
    "print('Total instances in X_train_era28: {}\\n'.format(X_train_era28.shape[0]))\n",
    "print('label 1 ratio: {}\\n'.format(sum(X_train_era28['label']) / X_train_era28.shape[0]))\n",
    "print('label 0 ratio: {}\\n'.format(len(X_train_era28[X_train_era28['label'] == 0]) / X_train_era28.shape[0]))"
   ]
  },
  {
   "cell_type": "code",
   "execution_count": null,
   "metadata": {},
   "outputs": [],
   "source": [
    "print('Total instances in X_train_era29: {}\\n'.format(X_train_era29.shape[0]))\n",
    "print('label 1 ratio: {}\\n'.format(sum(X_train_era29['label']) / X_train_era29.shape[0]))\n",
    "print('label 0 ratio: {}\\n'.format(len(X_train_era29[X_train_era29['label'] == 0]) / X_train_era29.shape[0]))"
   ]
  },
  {
   "cell_type": "code",
   "execution_count": null,
   "metadata": {},
   "outputs": [],
   "source": [
    "print('Total instances in X_train_era30: {}\\n'.format(X_train_era30.shape[0]))\n",
    "print('label 1 ratio: {}\\n'.format(sum(X_train_era30['label']) / X_train_era30.shape[0]))\n",
    "print('label 0 ratio: {}\\n'.format(len(X_train_era30[X_train_era30['label'] == 0]) / X_train_era30.shape[0]))"
   ]
  },
  {
   "cell_type": "code",
   "execution_count": null,
   "metadata": {},
   "outputs": [],
   "source": [
    "print('Total instances in X_train_era31: {}\\n'.format(X_train_era31.shape[0]))\n",
    "print('label 1 ratio: {}\\n'.format(sum(X_train_era31['label']) / X_train_era31.shape[0]))\n",
    "print('label 0 ratio: {}\\n'.format(len(X_train_era31[X_train_era31['label'] == 0]) / X_train_era31.shape[0]))"
   ]
  },
  {
   "cell_type": "code",
   "execution_count": null,
   "metadata": {},
   "outputs": [],
   "source": [
    "print('Total instances in X_train_era32: {}\\n'.format(X_train_era32.shape[0]))\n",
    "print('label 1 ratio: {}\\n'.format(sum(X_train_era32['label']) / X_train_era32.shape[0]))\n",
    "print('label 0 ratio: {}\\n'.format(len(X_train_era32[X_train_era32['label'] == 0]) / X_train_era32.shape[0]))"
   ]
  },
  {
   "cell_type": "code",
   "execution_count": null,
   "metadata": {},
   "outputs": [],
   "source": [
    "print('Total instances in X_train_era33: {}\\n'.format(X_train_era33.shape[0]))\n",
    "print('label 1 ratio: {}\\n'.format(sum(X_train_era33['label']) / X_train_era33.shape[0]))\n",
    "print('label 0 ratio: {}\\n'.format(len(X_train_era33[X_train_era33['label'] == 0]) / X_train_era33.shape[0]))"
   ]
  },
  {
   "cell_type": "code",
   "execution_count": null,
   "metadata": {},
   "outputs": [],
   "source": [
    "print('Total instances in X_train_era34: {}\\n'.format(X_train_era34.shape[0]))\n",
    "print('label 1 ratio: {}\\n'.format(sum(X_train_era34['label']) / X_train_era34.shape[0]))\n",
    "print('label 0 ratio: {}\\n'.format(len(X_train_era34[X_train_era34['label'] == 0]) / X_train_era34.shape[0]))"
   ]
  },
  {
   "cell_type": "code",
   "execution_count": null,
   "metadata": {},
   "outputs": [],
   "source": [
    "print('Total instances in X_train_era35: {}\\n'.format(X_train_era35.shape[0]))\n",
    "print('label 1 ratio: {}\\n'.format(sum(X_train_era35['label']) / X_train_era35.shape[0]))\n",
    "print('label 0 ratio: {}\\n'.format(len(X_train_era35[X_train_era35['label'] == 0]) / X_train_era35.shape[0]))"
   ]
  },
  {
   "cell_type": "code",
   "execution_count": null,
   "metadata": {},
   "outputs": [],
   "source": [
    "print('Total instances in X_train_era36: {}\\n'.format(X_train_era36.shape[0]))\n",
    "print('label 1 ratio: {}\\n'.format(sum(X_train_era36['label']) / X_train_era36.shape[0]))\n",
    "print('label 0 ratio: {}\\n'.format(len(X_train_era36[X_train_era36['label'] == 0]) / X_train_era36.shape[0]))"
   ]
  },
  {
   "cell_type": "code",
   "execution_count": null,
   "metadata": {},
   "outputs": [],
   "source": [
    "print('Total instances in X_train_era37: {}\\n'.format(X_train_era37.shape[0]))\n",
    "print('label 1 ratio: {}\\n'.format(sum(X_train_era37['label']) / X_train_era37.shape[0]))\n",
    "print('label 0 ratio: {}\\n'.format(len(X_train_era37[X_train_era37['label'] == 0]) / X_train_era37.shape[0]))"
   ]
  },
  {
   "cell_type": "code",
   "execution_count": null,
   "metadata": {},
   "outputs": [],
   "source": [
    "print('Total instances in X_train_era38: {}\\n'.format(X_train_era38.shape[0]))\n",
    "print('label 1 ratio: {}\\n'.format(sum(X_train_era38['label']) / X_train_era38.shape[0]))\n",
    "print('label 0 ratio: {}\\n'.format(len(X_train_era38[X_train_era38['label'] == 0]) / X_train_era38.shape[0]))"
   ]
  },
  {
   "cell_type": "code",
   "execution_count": null,
   "metadata": {},
   "outputs": [],
   "source": [
    "print('Total instances in X_train_era39: {}\\n'.format(X_train_era39.shape[0]))\n",
    "print('label 1 ratio: {}\\n'.format(sum(X_train_era39['label']) / X_train_era39.shape[0]))\n",
    "print('label 0 ratio: {}\\n'.format(len(X_train_era39[X_train_era39['label'] == 0]) / X_train_era39.shape[0]))"
   ]
  },
  {
   "cell_type": "code",
   "execution_count": null,
   "metadata": {},
   "outputs": [],
   "source": [
    "print('Total instances in X_train_era40: {}\\n'.format(X_train_era40.shape[0]))\n",
    "print('label 1 ratio: {}\\n'.format(sum(X_train_era40['label']) / X_train_era40.shape[0]))\n",
    "print('label 0 ratio: {}\\n'.format(len(X_train_era40[X_train_era40['label'] == 0]) / X_train_era40.shape[0]))"
   ]
  },
  {
   "cell_type": "code",
   "execution_count": null,
   "metadata": {},
   "outputs": [],
   "source": [
    "print('Total instances in X_train_era41: {}\\n'.format(X_train_era41.shape[0]))\n",
    "print('label 1 ratio: {}\\n'.format(sum(X_train_era41['label']) / X_train_era41.shape[0]))\n",
    "print('label 0 ratio: {}\\n'.format(len(X_train_era41[X_train_era41['label'] == 0]) / X_train_era41.shape[0]))"
   ]
  },
  {
   "cell_type": "code",
   "execution_count": null,
   "metadata": {},
   "outputs": [],
   "source": [
    "print('Total instances in X_train_era42: {}\\n'.format(X_train_era42.shape[0]))\n",
    "print('label 1 ratio: {}\\n'.format(sum(X_train_era42['label']) / X_train_era42.shape[0]))\n",
    "print('label 0 ratio: {}\\n'.format(len(X_train_era42[X_train_era42['label'] == 0]) / X_train_era42.shape[0]))"
   ]
  },
  {
   "cell_type": "code",
   "execution_count": null,
   "metadata": {},
   "outputs": [],
   "source": [
    "print('Total instances in X_train_era43: {}\\n'.format(X_train_era43.shape[0]))\n",
    "print('label 1 ratio: {}\\n'.format(sum(X_train_era43['label']) / X_train_era43.shape[0]))\n",
    "print('label 0 ratio: {}\\n'.format(len(X_train_era43[X_train_era43['label'] == 0]) / X_train_era43.shape[0]))"
   ]
  },
  {
   "cell_type": "code",
   "execution_count": null,
   "metadata": {},
   "outputs": [],
   "source": [
    "print('Total instances in X_train_era44: {}\\n'.format(X_train_era44.shape[0]))\n",
    "print('label 1 ratio: {}\\n'.format(sum(X_train_era44['label']) / X_train_era44.shape[0]))\n",
    "print('label 0 ratio: {}\\n'.format(len(X_train_era44[X_train_era44['label'] == 0]) / X_train_era44.shape[0]))"
   ]
  },
  {
   "cell_type": "code",
   "execution_count": null,
   "metadata": {},
   "outputs": [],
   "source": [
    "print('Total instances in X_train_era45: {}\\n'.format(X_train_era45.shape[0]))\n",
    "print('label 1 ratio: {}\\n'.format(sum(X_train_era45['label']) / X_train_era45.shape[0]))\n",
    "print('label 0 ratio: {}\\n'.format(len(X_train_era45[X_train_era45['label'] == 0]) / X_train_era45.shape[0]))"
   ]
  },
  {
   "cell_type": "code",
   "execution_count": null,
   "metadata": {},
   "outputs": [],
   "source": [
    "print('Total instances in X_train_era46: {}\\n'.format(X_train_era46.shape[0]))\n",
    "print('label 1 ratio: {}\\n'.format(sum(X_train_era46['label']) / X_train_era46.shape[0]))\n",
    "print('label 0 ratio: {}\\n'.format(len(X_train_era46[X_train_era46['label'] == 0]) / X_train_era46.shape[0]))"
   ]
  },
  {
   "cell_type": "code",
   "execution_count": null,
   "metadata": {},
   "outputs": [],
   "source": [
    "print('Total instances in X_train_era47: {}\\n'.format(X_train_era47.shape[0]))\n",
    "print('label 1 ratio: {}\\n'.format(sum(X_train_era47['label']) / X_train_era47.shape[0]))\n",
    "print('label 0 ratio: {}\\n'.format(len(X_train_era47[X_train_era47['label'] == 0]) / X_train_era47.shape[0]))"
   ]
  },
  {
   "cell_type": "code",
   "execution_count": null,
   "metadata": {},
   "outputs": [],
   "source": [
    "print('Total instances in X_train_era48: {}\\n'.format(X_train_era48.shape[0]))\n",
    "print('label 1 ratio: {}\\n'.format(sum(X_train_era48['label']) / X_train_era48.shape[0]))\n",
    "print('label 0 ratio: {}\\n'.format(len(X_train_era48[X_train_era48['label'] == 0]) / X_train_era48.shape[0]))"
   ]
  },
  {
   "cell_type": "code",
   "execution_count": null,
   "metadata": {},
   "outputs": [],
   "source": [
    "print('Total instances in X_train_era49: {}\\n'.format(X_train_era49.shape[0]))\n",
    "print('label 1 ratio: {}\\n'.format(sum(X_train_era49['label']) / X_train_era49.shape[0]))\n",
    "print('label 0 ratio: {}\\n'.format(len(X_train_era49[X_train_era49['label'] == 0]) / X_train_era49.shape[0]))"
   ]
  },
  {
   "cell_type": "code",
   "execution_count": null,
   "metadata": {},
   "outputs": [],
   "source": [
    "print('Total instances in X_train_era50: {}\\n'.format(X_train_era50.shape[0]))\n",
    "print('label 1 ratio: {}\\n'.format(sum(X_train_era50['label']) / X_train_era50.shape[0]))\n",
    "print('label 0 ratio: {}\\n'.format(len(X_train_era50[X_train_era50['label'] == 0]) / X_train_era50.shape[0]))"
   ]
  },
  {
   "cell_type": "code",
   "execution_count": null,
   "metadata": {},
   "outputs": [],
   "source": [
    "print('Total instances in X_train_era51: {}\\n'.format(X_train_era51.shape[0]))\n",
    "print('label 1 ratio: {}\\n'.format(sum(X_train_era51['label']) / X_train_era51.shape[0]))\n",
    "print('label 0 ratio: {}\\n'.format(len(X_train_era51[X_train_era51['label'] == 0]) / X_train_era51.shape[0]))"
   ]
  },
  {
   "cell_type": "code",
   "execution_count": null,
   "metadata": {},
   "outputs": [],
   "source": [
    "print('Total instances in X_train_era52: {}\\n'.format(X_train_era52.shape[0]))\n",
    "print('label 1 ratio: {}\\n'.format(sum(X_train_era52['label']) / X_train_era52.shape[0]))\n",
    "print('label 0 ratio: {}\\n'.format(len(X_train_era52[X_train_era52['label'] == 0]) / X_train_era52.shape[0]))"
   ]
  },
  {
   "cell_type": "code",
   "execution_count": null,
   "metadata": {},
   "outputs": [],
   "source": [
    "print('Total instances in X_train_era53: {}\\n'.format(X_train_era53.shape[0]))\n",
    "print('label 1 ratio: {}\\n'.format(sum(X_train_era53['label']) / X_train_era53.shape[0]))\n",
    "print('label 0 ratio: {}\\n'.format(len(X_train_era53[X_train_era53['label'] == 0]) / X_train_era53.shape[0]))"
   ]
  },
  {
   "cell_type": "code",
   "execution_count": null,
   "metadata": {
    "collapsed": true
   },
   "outputs": [],
   "source": []
  }
 ],
 "metadata": {
  "kernelspec": {
   "display_name": "Python 3",
   "language": "python",
   "name": "python3"
  },
  "language_info": {
   "codemirror_mode": {
    "name": "ipython",
    "version": 3
   },
   "file_extension": ".py",
   "mimetype": "text/x-python",
   "name": "python",
   "nbconvert_exporter": "python",
   "pygments_lexer": "ipython3",
   "version": "3.6.2"
  }
 },
 "nbformat": 4,
 "nbformat_minor": 1
}
